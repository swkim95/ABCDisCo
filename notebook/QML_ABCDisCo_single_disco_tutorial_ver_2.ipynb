{
 "cells": [
  {
   "cell_type": "markdown",
   "id": "3873f1a8",
   "metadata": {},
   "source": [
    "\n",
    "# ABCDisCo Single-DisCo Tutorial (Torch + optional PennyLane backend)\n",
    "\n",
    "This notebook reproduces the **Single-DisCo** workflow described in [T. Aarrestad *et al.*, *Eur. Phys. J. C* **81**, 1003 (2021), arXiv:2007.14400](https://arxiv.org/abs/2007.14400). It mirrors the reference scripts shipped with this repository so you can validate the mass-decorrelated baseline before moving to the Double-DisCo configuration.\n",
    "\n",
    "> **Mapping to repository scripts**\n",
    "> - Data ingestion and scaling follow `ABCD_topjets_HLF_mD.py` (lines 69-101) together with the dataset helpers in `data_loader.py` (lines 1-63).\n",
    "> - The neural-network head reuses `networks.DNNclassifier` (lines 8-44), while the DisCo penalty mirrors `model.py` (lines 24-86) plus `disco.py` (lines 14-118).\n",
    "> - Evaluation adapts the single-score diagnostics from `evaluation.py` (lines 1-70), including the Jensen-Shannon divergence vs. background rejection scan.\n",
    "\n",
    "The workflow is organised as:\n",
    "\n",
    "1. **Setup & configuration** (Single-DisCo hyperparameters).\n",
    "2. **Data loading and preprocessing** (min-max scaling, feature selection matching `ABCD_topjets_HLF_mD.py`).\n",
    "3. **Model definition** with interchangeable Torch/PennyLane heads.\n",
    "4. **Training** with the DisCo mass decorrelation penalty.\n",
    "5. **Diagnostics & evaluation**: ROC curves, distance correlations, JSD vs. background rejection, and mass sculpting checks.\n",
    "6. **Export** of trained weights and inference scores.\n",
    "\n",
    "> **Datasets**: The repository already ships reduced CMS top-tagging HLF samples (`topsample_*_tau.dat.gz`). You can run this notebook end-to-end without external downloads.\n"
   ]
  },
  {
   "cell_type": "markdown",
   "id": "e015d9e7",
   "metadata": {},
   "source": [
    "\n",
    "## Environment preparation\n",
    "\n",
    "Run the following cell *once per environment* if you still need to install the CPU builds of PyTorch, PennyLane, and the lightweight analysis stack.\n"
   ]
  },
  {
   "cell_type": "code",
   "execution_count": 1,
   "id": "b6df378a",
   "metadata": {},
   "outputs": [],
   "source": [
    "\n",
    "# Optional: install dependencies (uncomment the lines you need)\n",
    "# %pip install numpy pandas scikit-learn matplotlib tqdm\n",
    "# %pip install torch torchvision torchaudio --index-url https://download.pytorch.org/whl/cpu\n",
    "# %pip install pennylane pennylane-lightning\n",
    "# %pip install pyhf\n"
   ]
  },
  {
   "cell_type": "markdown",
   "id": "9afe8e3b",
   "metadata": {},
   "source": [
    "\n",
    "## 0. Configuration (mirrors `ABCD_topjets_HLF_mD.py` lines 69-126)\n",
    "\n",
    "We keep the dataset limits, optimiser choices, and DisCo penalty normalisation consistent with the single-network script so that this notebook can reproduce the published baselines.\n"
   ]
  },
  {
   "cell_type": "code",
   "execution_count": 2,
   "id": "daa3f01a",
   "metadata": {
    "editable": true,
    "slideshow": {
     "slide_type": ""
    },
    "tags": []
   },
   "outputs": [
    {
     "name": "stderr",
     "output_type": "stream",
     "text": [
      "/global/common/software/m4138/ABCDisCo/lib/python3.12/site-packages/tqdm/auto.py:21: TqdmWarning: IProgress not found. Please update jupyter and ipywidgets. See https://ipywidgets.readthedocs.io/en/stable/user_install.html\n",
      "  from .autonotebook import tqdm as notebook_tqdm\n"
     ]
    },
    {
     "name": "stdout",
     "output_type": "stream",
     "text": [
      "Using device: cuda\n"
     ]
    }
   ],
   "source": [
    "from __future__ import annotations\n",
    "\n",
    "# ---------------------------------------------------------------\n",
    "# Standard-library utilities used throughout the tutorial notebook\n",
    "# ---------------------------------------------------------------\n",
    "import gzip  # Read the compressed CMS top-tagging datasets that ship with the repo\n",
    "import json  # Serialize metadata for the checkpoints that we write every epoch\n",
    "import time  # Measure wall-clock runtime so we can report epoch durations\n",
    "from datetime import datetime  # Timestamp saved checkpoints for reproducibility\n",
    "from pathlib import Path  # Work with filesystem paths in a platform-agnostic way\n",
    "from typing import Any, Dict, Iterable, List, Optional, Tuple\n",
    "\n",
    "# ---------------------------------------------------------------\n",
    "# Scientific Python stack: numerical arrays, data frames, and plots\n",
    "# ---------------------------------------------------------------\n",
    "import matplotlib.pyplot as plt\n",
    "import numpy as np\n",
    "import pandas as pd\n",
    "\n",
    "# ---------------------------------------------------------------\n",
    "# PyTorch: tensor library used for both classical and quantum models\n",
    "# ---------------------------------------------------------------\n",
    "import torch\n",
    "import torch.nn.functional as F\n",
    "from torch import nn\n",
    "from torch.utils.data import DataLoader, Dataset\n",
    "\n",
    "# ---------------------------------------------------------------\n",
    "# Scikit-Learn: classical metrics used to interpret classifier quality\n",
    "# ---------------------------------------------------------------\n",
    "from sklearn.metrics import (\n",
    "    accuracy_score,\n",
    "    auc,\n",
    "    confusion_matrix,\n",
    "    f1_score,\n",
    "    precision_score,\n",
    "    recall_score,\n",
    "    roc_curve,\n",
    ")\n",
    "\n",
    "# ---------------------------------------------------------------\n",
    "# Utilities for nicely formatted progress bars inside notebooks\n",
    "# ---------------------------------------------------------------\n",
    "from tqdm.auto import tqdm\n",
    "\n",
    "# ---------------------------------------------------------------\n",
    "# Repository-local modules (they mirror the original training scripts)\n",
    "# ---------------------------------------------------------------\n",
    "import sys\n",
    "project_root = Path.cwd().resolve().parent  # notebook/ -> project root\n",
    "if str(project_root) not in sys.path:\n",
    "    sys.path.insert(0, str(project_root))\n",
    "from disco import distance_corr_unbiased  # distance correlation regulariser\n",
    "from networks import DNNclassifier  # baseline dense neural network classifier\n",
    "from evaluation import JSDvsR  # Jensen-Shannon vs. rejection diagnostic from the paper\n",
    "\n",
    "# ---------------------------------------------------------------\n",
    "# Optional PennyLane backend for the hybrid quantum notebook\n",
    "# (we keep the import guarded so the classical notebook works without it)\n",
    "# ---------------------------------------------------------------\n",
    "try:\n",
    "    import pennylane as qml\n",
    "    PENNYLANE_AVAILABLE = True\n",
    "except ImportError:\n",
    "    raise ImportError(\"PennyLane is required for the QML tutorial. Please run `%pip install pennylane pennylane-lightning`.\")\n",
    "# ---------------------------------------------------------------\n",
    "# Plot styling: use a high-contrast theme that works well in dark/light modes\n",
    "# ---------------------------------------------------------------\n",
    "plt.style.use(\"seaborn-v0_8-talk\")\n",
    "\n",
    "# ---------------------------------------------------------------\n",
    "# Reproducibility knobs: numpy and torch share a common seed for this tutorial\n",
    "# ---------------------------------------------------------------\n",
    "SEED = 1337\n",
    "rng = np.random.default_rng(SEED)\n",
    "torch.manual_seed(SEED)\n",
    "\n",
    "# ---------------------------------------------------------------\n",
    "# Dataset locations.  We keep everything relative to the project root so the\n",
    "# notebook can be executed from any environment (local, remote, or batch jobs).\n",
    "# ---------------------------------------------------------------\n",
    "DATA_ROOT = project_root\n",
    "RAW_FILES = {\n",
    "    \"train\": DATA_ROOT / \"topsample_train_tau.dat.gz\",\n",
    "    \"val\": DATA_ROOT / \"topsample_val_tau.dat.gz\",\n",
    "    \"test\": DATA_ROOT / \"topsample_test_tau.dat.gz\",\n",
    "}\n",
    "\n",
    "# ---------------------------------------------------------------\n",
    "# Training hyper-parameters.  Flip FULL_DATASET to True for the 5M-event dataset\n",
    "# from the ABCDisCo paper; by default we use a smaller subset for quick iteration.\n",
    "# ---------------------------------------------------------------\n",
    "FULL_DATASET = False\n",
    "EVENT_LIMITS = {\n",
    "    \"train\": 500000 if not FULL_DATASET else None,\n",
    "    \"val\": 250000 if not FULL_DATASET else None,\n",
    "    \"test\": 25000 if not FULL_DATASET else None,\n",
    "}\n",
    "BATCH_SIZE = 2048  # we reduce the batch size slightly to control circuit execution cost\n",
    "EPOCHS = 50 if not FULL_DATASET else 200\n",
    "LEARNING_RATE = 5e-4\n",
    "\n",
    "# ---------------------------------------------------------------\n",
    "# DisCo hyper-parameters.  LAMBDA_MASS rescales the distance-correlation penalty\n",
    "# that encourages the classifier score to be independent of jet mass for background.\n",
    "# ---------------------------------------------------------------\n",
    "# Lambda ramping configuration for better QML training\n",
    "LAMBDA_MASS_START = 5.0      # Start with no penalty\n",
    "LAMBDA_MASS_END = 55.0      # End with full penalty\n",
    "LAMBDA_RAMP_EPOCHS = 50      # Ramp up over first 20 epochs\n",
    "LAMBDA_MASS = 5.0            # Current lambda (will be updated during training)\n",
    "\n",
    "# ---------------------------------------------------------------\n",
    "# Evaluation settings for ABCD-related diagnostics.\n",
    "# ---------------------------------------------------------------\n",
    "SCORE_SIGNAL_EFFICIENCIES = (0.1, 0.3, 0.6)  # working points used in the paper\n",
    "ABCD_SIGNAL_WINDOW_QUANTILES = (0.3, 0.7)  # central mass window defines the SR\n",
    "ABCD_HISTOGRAM_BINS = 40  # consistent with the JSD vs. R plots in the paper\n",
    "\n",
    "# ---------------------------------------------------------------\n",
    "# Filesystem layout for per-epoch checkpoints.\n",
    "# ---------------------------------------------------------------\n",
    "CHECKPOINT_DIR = Path.cwd() / \"checkpoints_qml_single_disco\"\n",
    "CHECKPOINT_DIR.mkdir(parents=True, exist_ok=True)\n",
    "CHECKPOINT_TEMPLATE = \"epoch_{epoch:03d}.pth\"\n",
    "RESUME_CHECKPOINT: Optional[Path] = None # set to a file in CHECKPOINT_DIR to resume\n",
    "\n",
    "# ---------------------------------------------------------------\n",
    "# Device selection: automatically use CUDA when available, otherwise fall back\n",
    "# to CPU so the notebook works on any machine (including lightweight VMs).\n",
    "# ---------------------------------------------------------------\n",
    "DEVICE = torch.device(\"cuda\" if torch.cuda.is_available() else \"cpu\")\n",
    "print(f\"Using device: {DEVICE}\")\n",
    "\n",
    "\n",
    "# In the QML notebook we default to the quantum backend.\n",
    "BACKEND = \"qml\"\n",
    "N_QUBITS = 11\n",
    "QML_LAYERS = 3\n",
    "QAOA_DEPTH = 1\n",
    "QML_DEVICE = \"default.qubit\"\n",
    "# QML_DEVICE = \"lightning.gpu\"\n",
    "# QML_DEVICE = \"lightning.qubit\"\n",
    "\n",
    "# ---------------------------------------------------------------\n",
    "# Feature bookkeeping.  The Single-DisCo configuration removes the leading two\n",
    "# observables (mass and pT) from the classifier input, while still keeping them\n",
    "# available for ABCD evaluation and decorrelation studies.\n",
    "# ---------------------------------------------------------------\n",
    "ORIGINAL_FEATURES = [\n",
    "    \"mass\",\n",
    "    \"pt\",\n",
    "    \"tau1_half\",\n",
    "    \"tau2_half\",\n",
    "    \"tau3_half\",\n",
    "    \"tau1\",\n",
    "    \"tau2\",\n",
    "    \"tau3\",\n",
    "    \"tau4\",\n",
    "    \"tau1_sq\",\n",
    "    \"tau2_sq\",\n",
    "    \"tau3_sq\",\n",
    "    \"tau4_sq\",\n",
    "]\n",
    "SINGLE_FEATURE_INDICES = list(range(2, len(ORIGINAL_FEATURES)))\n",
    "FEATURE_NAMES = [ORIGINAL_FEATURES[i] for i in SINGLE_FEATURE_INDICES]\n",
    "\n"
   ]
  },
  {
   "cell_type": "markdown",
   "id": "8fdb8ffe",
   "metadata": {},
   "source": [
    "\n",
    "## 1. Data loading & scaling (`ABCD_topjets_HLF_mD.py` lines 69-95)\n",
    "\n",
    "The original script concatenates train/validation/test splits, applies a global min-max scaling to all 13 high-level features, and then selects the 11 observables used for the single-network classifier. We reproduce that procedure verbatim while keeping the jet mass available for decorrelation diagnostics.\n"
   ]
  },
  {
   "cell_type": "code",
   "execution_count": 3,
   "id": "b6980f93",
   "metadata": {
    "editable": true,
    "slideshow": {
     "slide_type": ""
    },
    "tags": []
   },
   "outputs": [
    {
     "name": "stdout",
     "output_type": "stream",
     "text": [
      "train | events= 500000 | signal= 249495 | background= 250505\n",
      "  val | events= 250000 | signal= 124860 | background= 125140\n",
      " test | events=  25000 | signal=  12482 | background=  12518\n"
     ]
    }
   ],
   "source": [
    "\n",
    "# ---------------------------------------------------------------------------\n",
    "# Data-loading helpers: convert the gzipped CMS top-tagging tables into numpy arrays.\n",
    "# Objective: provide structured access to features, event weights, and jet mass\n",
    "#            values that feed the quantum-classical hybrid network.\n",
    "# Logic:    1) `_load_tau_file` opens the compressed .dat.gz file, filters out\n",
    "#              comment/header lines (including stray tokens like 'hello1'),\n",
    "#              accepts both comma- and whitespace-separated numbers, and builds\n",
    "#              a dense float matrix.\n",
    "#           2) `_split_features_labels` supports both historical 14-column files\n",
    "#              (label + 13 observables without weights) and 16+ column variants\n",
    "#              (13 observables + label + weight). It returns features, labels,\n",
    "#              mass, and per-event weights.\n",
    "#           3) `load_split` wraps these helpers for the train/val/test datasets\n",
    "#              so downstream training code can simply fetch numpy arrays.\n",
    "# Terms:    * Tau file — CMS open data sample storing per-jet observables.\n",
    "#           * Event weight — multiplicative factor from the simulation that\n",
    "#             allows us to emulate the luminosity-scaled yields discussed in\n",
    "#             the ABCDisCo reference analysis.\n",
    "# Expected behaviour: each helper returns numpy arrays with shapes consistent\n",
    "#                     with the raw dataset; any missing file or malformed array\n",
    "#                     surfaces a descriptive exception so users notice it early.\n",
    "# Reference: see the \"Dataset preparation\" discussion in\n",
    "#            `ref/Evaluating_ABCDisCo_Structured_WithEquations.md`, which stresses\n",
    "#            the importance of keeping mass and weights alongside the classifier\n",
    "#            inputs for later closure checks.\n",
    "# ---------------------------------------------------------------------------\n",
    "def _load_tau_file(path: Path) -> np.ndarray:\n",
    "    # Verify that the requested gzipped text file exists before attempting I/O.\n",
    "    if not path.exists():\n",
    "        raise FileNotFoundError(f\"Missing dataset: {path}\")\n",
    "    rows: List[np.ndarray] = []\n",
    "    with gzip.open(path, \"rt\") as handle:\n",
    "        for raw in handle:\n",
    "            line = raw.strip()\n",
    "            if not line:\n",
    "                continue  # skip empty lines\n",
    "            if line.startswith(\"#\"):\n",
    "                continue  # skip comment blocks\n",
    "            # Skip any header or malformed line that contains alphabetic characters (e.g., 'hello1', column labels)\n",
    "            if any(ch.isalpha() for ch in line):\n",
    "                continue\n",
    "            # Accept both comma- and whitespace-separated numeric fields\n",
    "            clean = line.replace(\",\", \" \")\n",
    "            values = np.fromstring(clean, sep=\" \")\n",
    "            if values.size == 0:\n",
    "                continue\n",
    "            rows.append(values)\n",
    "    if not rows:\n",
    "        raise ValueError(f\"No numeric data found in {path}\")\n",
    "    # Ensure all rows share the same width\n",
    "    widths = {arr.shape[0] for arr in rows}\n",
    "    if len(widths) != 1:\n",
    "        raise ValueError(f\"Inconsistent column counts in {path}: {sorted(widths)}\")\n",
    "    data = np.vstack(rows)\n",
    "    # All of the ABCDisCo notebooks assume the data are shaped as [events, features].\n",
    "    if data.ndim != 2:\n",
    "        raise ValueError(f\"Expected a 2D array, received shape {data.shape}\")\n",
    "    return data\n",
    "\n",
    "\n",
    "# ---------------------------------------------------------------------------\n",
    "# `_split_features_labels` extracts physics-relevant slices from the raw matrix.\n",
    "# Supports both 14-column (label + 13 observables) and >=16-column (13 observables\n",
    "# + label + weight) layouts encountered in public samples.\n",
    "# Returning the mass column is essential for the ABCD mass-window definition,\n",
    "# and weights allow closure metrics to stay consistent with Eq. (1) of the\n",
    "# reference document.\n",
    "# ---------------------------------------------------------------------------\n",
    "def _split_features_labels(matrix: np.ndarray) -> Tuple[np.ndarray, np.ndarray, np.ndarray, np.ndarray]:\n",
    "    ncols = int(matrix.shape[1])\n",
    "    if ncols == 14:\n",
    "        # Layout: [label, mass, pt, tau1_half, ..., tau4_sq] (no explicit weights)\n",
    "        labels = matrix[:, 0]\n",
    "        obs = matrix[:, 1:14]  # 13 physics observables starting at mass\n",
    "        mass = obs[:, 0]\n",
    "        weights = np.ones_like(labels, dtype=float)\n",
    "        features = obs[:, SINGLE_FEATURE_INDICES]  # select 11 inputs used by Single-DisCo\n",
    "    elif ncols >= 16:\n",
    "        # Layout: [mass, pt, tau1_half, ..., tau4_sq, ..., label, weight]\n",
    "        obs = matrix[:, :13]\n",
    "        mass = obs[:, 0]\n",
    "        labels = matrix[:, 14]\n",
    "        weights = matrix[:, 15]\n",
    "        features = obs[:, SINGLE_FEATURE_INDICES]\n",
    "    else:\n",
    "        raise ValueError(\n",
    "            \"Unexpected dataset shape. Expected 14 columns (label+13) or at least 16 columns; \"\n",
    "            f\"received {ncols}.\"\n",
    "        )\n",
    "    return features.astype(np.float64), labels.astype(np.float64), mass.astype(np.float64), weights.astype(np.float64)\n",
    "\n",
    "\n",
    "# ---------------------------------------------------------------------------\n",
    "# `load_split` orchestrates reading and slicing for a named split (train/val/test).\n",
    "# By keeping the function pure (it only returns numpy arrays), we make it easy\n",
    "# to run unit tests or to plug in alternative datasets in the future.\n",
    "# ---------------------------------------------------------------------------\n",
    "def load_split(name: str, limit: Optional[int] = None) -> Dict[str, np.ndarray]:\n",
    "    matrix = _load_tau_file(RAW_FILES[name])\n",
    "    if limit is not None:\n",
    "        matrix = matrix[:limit]\n",
    "    x, y, mass, weight = _split_features_labels(matrix)\n",
    "    return {\"x\": x, \"y\": y, \"mass\": mass, \"weight\": weight}\n",
    "\n",
    "\n",
    "# Materialise the three splits so that subsequent cells can form PyTorch datasets.\n",
    "# Each entry stores feature matrices, labels, weights, and jet masses for later\n",
    "# use in the ABCD validation routines.\n",
    "arrays = {\n",
    "    split: load_split(split, limit=EVENT_LIMITS[split])\n",
    "    for split in (\"train\", \"val\", \"test\")\n",
    "}\n",
    "for split, payload in arrays.items():\n",
    "    print(\n",
    "        f\"{split:>5} | events={len(payload['x']):>7} | \"\n",
    "        f\"signal={int(payload['y'].sum()):>7} | background={len(payload['y']) - int(payload['y'].sum()):>7}\"\n",
    "    )\n"
   ]
  },
  {
   "cell_type": "code",
   "execution_count": 4,
   "id": "1b29a8dd",
   "metadata": {},
   "outputs": [
    {
     "name": "stdout",
     "output_type": "stream",
     "text": [
      "Selected feature names (used as model inputs): ['tau1_half', 'tau2_half', 'tau3_half', 'tau1', 'tau2', 'tau3', 'tau4', 'tau1_sq', 'tau2_sq', 'tau3_sq', 'tau4_sq']\n",
      "\n",
      "=== TRAIN split ===\n",
      "shapes: x=(500000, 11), y=(500000,), mass=(500000,), weight=(500000,)\n",
      "dtypes: x=float64, y=float64, mass=float64, weight=float64\n",
      "label counts: {0: 250505, 1: 249495}\n",
      "feature mins (first 5): ['tau1_half=0.0000', 'tau2_half=0.0000', 'tau3_half=0.0000', 'tau1=0.0000', 'tau2=0.0000']\n",
      "feature maxs (first 5): ['tau1_half=0.7749', 'tau2_half=0.6208', 'tau3_half=0.4756', 'tau1=0.5610', 'tau2=0.3926']\n",
      "first 5 feature rows:\n",
      " tau1_half  tau2_half  tau3_half     tau1     tau2     tau3     tau4  tau1_sq  tau2_sq  tau3_sq  tau4_sq\n",
      "  0.423769   0.326077   0.282639 0.231036 0.146164 0.101567 0.070804 0.078382 0.037967 0.018720 0.013638\n",
      "  0.343756   0.242735   0.172155 0.199839 0.108218 0.054387 0.037446 0.079494 0.030268 0.007936 0.006857\n",
      "  0.204169   0.130401   0.095653 0.118397 0.056607 0.024931 0.021626 0.054000 0.021543 0.003879 0.003435\n",
      "  0.436715   0.383325   0.267754 0.231975 0.189181 0.108591 0.071846 0.077295 0.048466 0.021949 0.009287\n",
      "  0.213526   0.170961   0.121988 0.090731 0.049261 0.031562 0.027488 0.036367 0.007769 0.005939 0.004858\n",
      "first 5 labels: [1.0, 1.0, 1.0, 1.0, 0.0]\n",
      "first 5 masses: [183.404, 173.192, 138.193, 180.074, 121.001]\n",
      "first 5 weights: [1.0, 1.0, 1.0, 1.0, 1.0]\n",
      "\n",
      "=== VAL split ===\n",
      "shapes: x=(250000, 11), y=(250000,), mass=(250000,), weight=(250000,)\n",
      "dtypes: x=float64, y=float64, mass=float64, weight=float64\n",
      "label counts: {0: 125140, 1: 124860}\n",
      "feature mins (first 5): ['tau1_half=0.0000', 'tau2_half=0.0000', 'tau3_half=0.0000', 'tau1=0.0000', 'tau2=0.0000']\n",
      "feature maxs (first 5): ['tau1_half=0.7646', 'tau2_half=0.6510', 'tau3_half=0.4877', 'tau1=0.5575', 'tau2=0.4303']\n",
      "first 5 feature rows:\n",
      " tau1_half  tau2_half  tau3_half     tau1     tau2     tau3     tau4  tau1_sq  tau2_sq  tau3_sq  tau4_sq\n",
      "  0.449352   0.229435   0.189656 0.252044 0.107713 0.064737 0.055593 0.081900 0.040113 0.013861 0.008919\n",
      "  0.343737   0.235097   0.208293 0.161765 0.091364 0.065135 0.050414 0.050339 0.026594 0.011937 0.010116\n",
      "  0.316310   0.204865   0.144719 0.204157 0.100509 0.044291 0.037784 0.098287 0.031123 0.006230 0.004675\n",
      "  0.368823   0.238256   0.199253 0.203579 0.079368 0.053136 0.044292 0.070371 0.013379 0.006421 0.005552\n",
      "  0.438729   0.303152   0.265241 0.230442 0.129690 0.096681 0.075900 0.083797 0.027414 0.013236 0.010616\n",
      "first 5 labels: [1.0, 0.0, 1.0, 1.0, 1.0]\n",
      "first 5 masses: [165.078, 126.317, 185.131, 153.091, 186.336]\n",
      "first 5 weights: [1.0, 1.0, 1.0, 1.0, 1.0]\n",
      "\n",
      "=== TEST split ===\n",
      "shapes: x=(25000, 11), y=(25000,), mass=(25000,), weight=(25000,)\n",
      "dtypes: x=float64, y=float64, mass=float64, weight=float64\n",
      "label counts: {0: 12518, 1: 12482}\n",
      "feature mins (first 5): ['tau1_half=0.0113', 'tau2_half=0.0030', 'tau3_half=0.0014', 'tau1=0.0052', 'tau2=0.0013']\n",
      "feature maxs (first 5): ['tau1_half=0.7357', 'tau2_half=0.5621', 'tau3_half=0.4206', 'tau1=0.5485', 'tau2=0.3592']\n",
      "first 5 feature rows:\n",
      " tau1_half  tau2_half  tau3_half     tau1     tau2     tau3     tau4  tau1_sq  tau2_sq  tau3_sq  tau4_sq\n",
      "  0.150711   0.094834   0.065195 0.037402 0.029972 0.022437 0.016085 0.010507 0.009762 0.004641 0.004510\n",
      "  0.274026   0.195765   0.175141 0.159612 0.085998 0.066269 0.054613 0.072109 0.027105 0.014830 0.011357\n",
      "  0.074004   0.056060   0.049406 0.030062 0.019415 0.015636 0.012881 0.008528 0.005426 0.003370 0.003038\n",
      "  0.458081   0.301564   0.212132 0.243207 0.123812 0.064642 0.032140 0.075759 0.023313 0.006972 0.003676\n",
      "  0.503659   0.291573   0.206024 0.315395 0.135215 0.079933 0.051821 0.130667 0.038438 0.023160 0.007166\n",
      "first 5 labels: [0.0, 1.0, 0.0, 1.0, 1.0]\n",
      "first 5 masses: [64.4549, 153.212, 59.3849, 153.555, 235.774]\n",
      "first 5 weights: [1.0, 1.0, 1.0, 1.0, 1.0]\n"
     ]
    }
   ],
   "source": [
    "# ---------------------------------------------------------------------------\n",
    "# Quick sanity checks for data loading: shapes, dtypes, label counts,\n",
    "# per-feature ranges, and first few rows for each split.\n",
    "# ---------------------------------------------------------------------------\n",
    "print(\"Selected feature names (used as model inputs):\", FEATURE_NAMES)\n",
    "\n",
    "from typing import Dict as _Dict\n",
    "\n",
    "def _summarize_split(name: str, payload: _Dict[str, np.ndarray], feature_names: list[str]) -> None:\n",
    "    x = payload[\"x\"]; y = payload[\"y\"]; mass = payload[\"mass\"]; weight = payload[\"weight\"]\n",
    "    print(f\"\\n=== {name.upper()} split ===\")\n",
    "    print(f\"shapes: x={x.shape}, y={y.shape}, mass={mass.shape}, weight={weight.shape}\")\n",
    "    print(f\"dtypes: x={x.dtype}, y={y.dtype}, mass={mass.dtype}, weight={weight.dtype}\")\n",
    "    uniq, cnt = np.unique(y, return_counts=True)\n",
    "    print(\"label counts:\", {int(u): int(c) for u, c in zip(uniq, cnt)})\n",
    "    # Feature-wise min/max (only print first 5 to keep output compact)\n",
    "    mins = np.min(x, axis=0); maxs = np.max(x, axis=0)\n",
    "    k = min(5, x.shape[1])\n",
    "    print(\"feature mins (first 5):\", [f\"{feature_names[i]}={mins[i]:.4f}\" for i in range(k)])\n",
    "    print(\"feature maxs (first 5):\", [f\"{feature_names[i]}={maxs[i]:.4f}\" for i in range(k)])\n",
    "    # First few rows\n",
    "    df_preview = pd.DataFrame(x[:5], columns=feature_names)\n",
    "    print(\"first 5 feature rows:\")\n",
    "    print(df_preview.to_string(index=False))\n",
    "    print(\"first 5 labels:\", y[:5].tolist())\n",
    "    print(\"first 5 masses:\", mass[:5].tolist())\n",
    "    print(\"first 5 weights:\", weight[:5].tolist())\n",
    "\n",
    "for split_name in (\"train\", \"val\", \"test\"):\n",
    "    _summarize_split(split_name, arrays[split_name], FEATURE_NAMES)\n"
   ]
  },
  {
   "cell_type": "markdown",
   "id": "53adbcb2",
   "metadata": {},
   "source": [
    "\n",
    "## 2. Torch datasets (`data_loader.py` lines 22-63)\n",
    "\n",
    "We wrap the min-max scaled arrays into PyTorch `Dataset` objects that expose the classifier inputs, labels, per-event weights, and jet masses used in the DisCo penalty.\n"
   ]
  },
  {
   "cell_type": "code",
   "execution_count": 5,
   "id": "a6f014a0",
   "metadata": {},
   "outputs": [
    {
     "name": "stdout",
     "output_type": "stream",
     "text": [
      "Batches per epoch: train=245, val=123, test=13\n"
     ]
    }
   ],
   "source": [
    "\n",
    "# ---------------------------------------------------------------------------\n",
    "# TorchTopTaggingDataset wraps the numpy arrays into a PyTorch-friendly object.\n",
    "# Objective: expose features, labels, sample weights, and jet masses as tensors\n",
    "#            so mini-batches can flow seamlessly into either the classical or\n",
    "#            quantum components of the hybrid network.\n",
    "# Logic:   * During __init__, we convert numpy arrays to torch.Tensor with\n",
    "#            explicit dtype casting so gradients and GPU transfers behave well.\n",
    "#          * __len__ returns the total number of events, informing DataLoader\n",
    "#            how many batches to draw per epoch.\n",
    "#          * __getitem__ selects one event and returns all four components in\n",
    "#            the order expected by downstream training code.\n",
    "# Terms:   - Sample weight: scales the contribution of each event to averages\n",
    "#            and is crucial for the weighted metrics used in the ABCDisCo\n",
    "#            evaluation workflow.\n",
    "# Expected behaviour: indexing yields a tuple (features, label, weight, mass)\n",
    "#                     where the features live in feature space R^{n_features}.\n",
    "# Reference: the need to pass masses and weights together is highlighted in the\n",
    "#            \"ABCD closure tests\" section of the evaluation document so the\n",
    "#            closure ratio can be recomputed at any stage of training.\n",
    "# ---------------------------------------------------------------------------\n",
    "class TorchTopTaggingDataset(Dataset):\n",
    "    def __init__(self, x: np.ndarray, y: np.ndarray, mass: np.ndarray, weight: np.ndarray | None = None):\n",
    "        # Convert all inputs to float32 tensors. This matches the precision\n",
    "        # expected by PyTorch optimisers and PennyLane's Torch interface.\n",
    "        self.x = torch.as_tensor(x, dtype=torch.float32)\n",
    "        self.y = torch.as_tensor(y, dtype=torch.float32)\n",
    "        self.mass = torch.as_tensor(mass, dtype=torch.float32)\n",
    "        if weight is None:\n",
    "            weight = np.ones_like(y, dtype=np.float32)\n",
    "        self.weight = torch.as_tensor(weight, dtype=torch.float32)\n",
    "\n",
    "    def __len__(self) -> int:\n",
    "        # Return how many events are available; DataLoader uses this to know\n",
    "        # when an epoch finishes.\n",
    "        return self.x.shape[0]\n",
    "\n",
    "    def __getitem__(self, index: int) -> Tuple[torch.Tensor, torch.Tensor, torch.Tensor, torch.Tensor]:\n",
    "        # Provide the tuple consumed by the training loop: (features, label,\n",
    "        # per-event weight, jet mass).\n",
    "        return self.x[index], self.y[index], self.weight[index], self.mass[index]\n",
    "\n",
    "\n",
    "# ---------------------------------------------------------------------------\n",
    "# make_dataloaders creates PyTorch DataLoader objects for train/val/test splits.\n",
    "# Objective: batch and optionally shuffle the dataset while keeping track of\n",
    "#            weights and masses required for ABCD evaluation and DisCo penalty.\n",
    "# Logic:   - Construct a TorchTopTaggingDataset for each split.\n",
    "#          - Instantiate DataLoaders with deterministic batch size and shuffling\n",
    "#            only on the training set (validation/test are left ordered so\n",
    "#            metrics such as ROC curves can be reproduced exactly).\n",
    "# Expected behaviour: downstream code can iterate over each loader and receive\n",
    "#                     batches shaped as `[batch, n_features]` plus aligned labels,\n",
    "#                     weights, and masses.\n",
    "# Reference: consistent batching is necessary to evaluate throughput statistics\n",
    "#            and closure metrics per epoch, as described in the runtime and\n",
    "#            ABCD sections of the evaluation guide.\n",
    "# ---------------------------------------------------------------------------\n",
    "def make_dataloaders(arrays: Dict[str, Dict[str, np.ndarray]]) -> Dict[str, DataLoader]:\n",
    "    datasets = {\n",
    "        split: TorchTopTaggingDataset(payload[\"x\"], payload[\"y\"], payload[\"mass\"], payload[\"weight\"])\n",
    "        for split, payload in arrays.items()\n",
    "    }\n",
    "    loaders = {\n",
    "        \"train\": DataLoader(datasets[\"train\"], batch_size=BATCH_SIZE, shuffle=True, drop_last=False),\n",
    "        \"val\": DataLoader(datasets[\"val\"], batch_size=BATCH_SIZE, shuffle=False, drop_last=False),\n",
    "        \"test\": DataLoader(datasets[\"test\"], batch_size=BATCH_SIZE, shuffle=False, drop_last=False),\n",
    "    }\n",
    "    return loaders\n",
    "\n",
    "\n",
    "# Instantiate loaders so later cells can immediately iterate through the data.\n",
    "loaders = make_dataloaders(arrays)\n",
    "train_loader, val_loader, test_loader = loaders[\"train\"], loaders[\"val\"], loaders[\"test\"]\n",
    "print(f\"Batches per epoch: train={len(train_loader)}, val={len(val_loader)}, test={len(test_loader)}\")\n"
   ]
  },
  {
   "cell_type": "markdown",
   "id": "22662386",
   "metadata": {},
   "source": [
    "\n",
    "## 3. Model backends (`networks.py` lines 8-44)\n",
    "\n",
    "The Single-DisCo setup uses a single `DNNclassifier` head. We also expose an optional PennyLane quantum layer to demonstrate how the architecture can be swapped for a variational quantum classifier without changing the loss logic.\n"
   ]
  },
  {
   "cell_type": "code",
   "execution_count": 6,
   "id": "5fb324d3",
   "metadata": {},
   "outputs": [
    {
     "data": {
      "text/plain": [
       "PennyLaneSingleDisco(\n",
       "  (compressor): Sequential(\n",
       "    (0): Linear(in_features=11, out_features=32, bias=True)\n",
       "    (1): LeakyReLU(negative_slope=0.01)\n",
       "    (2): Linear(in_features=32, out_features=11, bias=True)\n",
       "  )\n",
       "  (qlayer): <Quantum Torch Layer: func=circuit>\n",
       "  (head): Sequential(\n",
       "    (0): Linear(in_features=11, out_features=16, bias=True)\n",
       "    (1): LeakyReLU(negative_slope=0.01)\n",
       "    (2): Linear(in_features=16, out_features=2, bias=True)\n",
       "  )\n",
       ")"
      ]
     },
     "execution_count": 6,
     "metadata": {},
     "output_type": "execute_result"
    }
   ],
   "source": [
    "\n",
    "# ---------------------------------------------------------------------------\n",
    "# Network definitions: classical head and quantum-enhanced Single DisCo model.\n",
    "# Objective: reproduce the architecture from the ABCDisCo paper while allowing\n",
    "#            PennyLane to supply a variational quantum circuit (VQC) as the\n",
    "#            feature extractor when BACKEND=\"qml\".\n",
    "# Reference: the \"Model introspection\" and \"Quantum resources\" discussions in\n",
    "#            `ref/Evaluating_ABCDisCo_Structured_WithEquations.md` motivate\n",
    "#            documenting layer counts, parameter totals, and how the circuit\n",
    "#            interfaces with classical post-processing.\n",
    "# ---------------------------------------------------------------------------\n",
    "class TorchSingleDisco(nn.Module):\n",
    "    def __init__(self, n_features: int):\n",
    "        super().__init__()\n",
    "        # `DNNclassifier` mirrors the fully connected stack used in the\n",
    "        # classical Single-DisCo baseline (ReLU activations, dropout, etc.).\n",
    "        self.head = DNNclassifier(n_features, 2)\n",
    "\n",
    "    def forward(self, x: torch.Tensor) -> Tuple[torch.Tensor, torch.Tensor]:\n",
    "        # The head returns logits for two classes; we convert them to a\n",
    "        # background-suppression score via softmax on the signal column.\n",
    "        logits = self.head(x)\n",
    "        score = F.softmax(logits, dim=1)[:, 1]\n",
    "        return logits, score\n",
    "\n",
    "\n",
    "class PennyLaneSingleDisco(nn.Module):\n",
    "    def __init__(self, n_features: int, n_qubits: int = 6, qaoa_depth: int = 1, layers: int = 2, device_name: str = \"default.qubit\"):\n",
    "        if not PENNYLANE_AVAILABLE:\n",
    "            raise RuntimeError(\"PennyLane is not installed.\")\n",
    "        super().__init__()\n",
    "        self.n_qubits = n_qubits\n",
    "        self.n_features = n_features\n",
    "        \n",
    "        # Classical compressor (encoder): single linear map R^{n_features} -> R^{n_qubits}\n",
    "        # followed by LeakyReLU to produce rotation angles for the quantum embedding.\n",
    "        self.compressor = nn.Sequential(\n",
    "            nn.Linear(n_features, 32),\n",
    "            nn.LeakyReLU(),\n",
    "            nn.Linear(32, n_qubits)\n",
    "        )\n",
    "        \n",
    "        # PennyLane device hosts the variational circuit; default.qubit is a\n",
    "        # noiseless statevector simulator suitable for long training jobs.\n",
    "        qdevice = qml.device(device_name, wires=n_qubits)\n",
    "        \n",
    "        # Strongly entangling layers only (no QAOA weights needed with AngleEmbedding)\n",
    "        weight_shapes = {\n",
    "            \"weights_strong\": (layers, n_qubits, 3),\n",
    "        }\n",
    "\n",
    "        @qml.qnode(qdevice, interface=\"torch\")\n",
    "        def circuit(inputs, weights_strong):\n",
    "            # -----------------------------------------------------------------\n",
    "            # Input handling: support both single-example (1D) and batched (>=2D)\n",
    "            # inputs. We right-pad/truncate to `n_qubits` along the last axis so\n",
    "            # embedding sees tensors shaped (..., n_qubits).\n",
    "            # -----------------------------------------------------------------\n",
    "            take = min(inputs.shape[-1], n_qubits)\n",
    "            if inputs.ndim == 1:\n",
    "                x_pad = torch.zeros((n_qubits,), dtype=inputs.dtype, device=inputs.device)\n",
    "                x_pad[:take] = inputs[:take]\n",
    "            else:\n",
    "                pad_shape = tuple(list(inputs.shape[:-1]) + [n_qubits])\n",
    "                x_pad = torch.zeros(pad_shape, dtype=inputs.dtype, device=inputs.device)\n",
    "                x_pad[..., :take] = inputs[..., :take]\n",
    "            \n",
    "            # Scale inputs to appropriate angle range for better gradient flow\n",
    "            angles = torch.pi * x_pad\n",
    "            \n",
    "            # AngleEmbedding encodes classical features via Y-rotations; more robust\n",
    "            # than QAOA for classification tasks and better gradient properties.\n",
    "            qml.templates.AngleEmbedding(angles, wires=range(n_qubits), rotation='Y')\n",
    "            qml.templates.StronglyEntanglingLayers(weights=weights_strong, wires=range(n_qubits))\n",
    "            \n",
    "            # Measure the Pauli-Z expectation on multiple qubits to obtain a multi-dimensional\n",
    "            # feature vector. These observables are the quantum analogue of learned features\n",
    "            # feeding the classical softmax head.\n",
    "            return [qml.expval(qml.PauliZ(i)) for i in range(n_qubits)]  # Use all qubits\n",
    "\n",
    "        # TorchLayer wraps the QNode so gradients propagate with PyTorch autograd.\n",
    "        self.qlayer = qml.qnn.TorchLayer(circuit, weight_shapes)\n",
    "        \n",
    "        # A lightweight linear classifier turns the quantum features into\n",
    "        # logits for the binary task.\n",
    "        # self.head = nn.Linear(2, 2)\n",
    "        self.head = nn.Sequential(\n",
    "            nn.Linear(n_qubits, 16),\n",
    "            nn.LeakyReLU(),\n",
    "            nn.Linear(16, 2)\n",
    "        )\n",
    "\n",
    "    def forward(self, x: torch.Tensor) -> Tuple[torch.Tensor, torch.Tensor]:\n",
    "        # Hybrid mapping: compress all n_features -> n_qubits via a small FCN\n",
    "        # to avoid truncation while keeping quantum input width fixed.\n",
    "        angles = self.compressor(x)\n",
    "        q_features = self.qlayer(angles)\n",
    "        logits = self.head(q_features)\n",
    "        score = F.softmax(logits, dim=1)[:, 1]\n",
    "        return logits, score\n",
    "\n",
    "# HERE: deprecated QAOA version\n",
    "# class PennyLaneSingleDisco(nn.Module):\n",
    "#     def __init__(self, n_features: int, n_qubits: int = 6, qaoa_depth: int = 1, layers: int = 2, device_name: str = \"default.qubit\"):\n",
    "#         if not PENNYLANE_AVAILABLE:\n",
    "#             raise RuntimeError(\"PennyLane is not installed.\")\n",
    "#         super().__init__()\n",
    "#         self.n_qubits = n_qubits\n",
    "#         self.n_features = n_features\n",
    "#         # Classical compressor (encoder): single linear map R^{n_features} -> R^{n_qubits}\n",
    "#         # followed by ReLU to produce rotation angles for the quantum embedding.\n",
    "#         # self.compressor = nn.Sequential(\n",
    "#         #     nn.Linear(n_features, n_qubits),\n",
    "#         #     nn.LeakyReLU(),\n",
    "#         # )\n",
    "#         # PennyLane device hosts the variational circuit; default.qubit is a\n",
    "#         # noiseless statevector simulator suitable for long training jobs.\n",
    "#         qdevice = qml.device(device_name, wires=n_qubits)\n",
    "#         # One QAOA embedding layer + `layers` strongly entangling layers.\n",
    "#         weight_shapes = {\n",
    "#             \"weights_qaoa\": (qaoa_depth, 2 * n_qubits),\n",
    "#             \"weights_strong\": (layers, n_qubits, 3),\n",
    "#         }\n",
    "\n",
    "#         @qml.qnode(qdevice, interface=\"torch\")\n",
    "#         def circuit(inputs, weights_qaoa, weights_strong):\n",
    "#             # -----------------------------------------------------------------\n",
    "#             # Input handling: support both single-example (1D) and batched (>=2D)\n",
    "#             # inputs. We right-pad/truncate to `n_qubits` along the last axis so\n",
    "#             # embedding sees tensors shaped (..., n_qubits).\n",
    "#             # -----------------------------------------------------------------\n",
    "#             take = min(inputs.shape[-1], n_qubits)\n",
    "#             if inputs.ndim == 1:\n",
    "#                 x_pad = torch.zeros((n_qubits,), dtype=inputs.dtype, device=inputs.device)\n",
    "#                 x_pad[:take] = inputs[:take]\n",
    "#             else:\n",
    "#                 pad_shape = tuple(list(inputs.shape[:-1]) + [n_qubits])\n",
    "#                 x_pad = torch.zeros(pad_shape, dtype=inputs.dtype, device=inputs.device)\n",
    "#                 x_pad[..., :take] = inputs[..., :take]\n",
    "#             # QAOAEmbedding encodes classical features via cost layers; a single\n",
    "#             # layer is followed by multiple strongly entangling layers to improve\n",
    "#             # expressivity.\n",
    "#             qml.templates.QAOAEmbedding(x_pad, weights=weights_qaoa, wires=range(n_qubits))\n",
    "#             qml.templates.StronglyEntanglingLayers(weights=weights_strong, wires=range(n_qubits))\n",
    "#             # Measure the Pauli-Z expectation on two qubits to obtain a 2D\n",
    "#             # feature vector. These observables are the quantum analogue of\n",
    "#             # learned features feeding the classical softmax head.\n",
    "\n",
    "#             # return qml.expval(qml.PauliZ(0))\n",
    "#             return [qml.expval(qml.PauliZ(i)) for i in range(2)]\n",
    "\n",
    "#         # TorchLayer wraps the QNode so gradients propagate with PyTorch autograd.\n",
    "#         self.qlayer = qml.qnn.TorchLayer(circuit, weight_shapes)\n",
    "#         # A lightweight linear classifier turns the 2D quantum features into\n",
    "#         # logits for the binary task.\n",
    "#         self.head = nn.Linear(2, 2)\n",
    "\n",
    "#     def forward(self, x: torch.Tensor) -> Tuple[torch.Tensor, torch.Tensor]:\n",
    "#         # Hybrid mapping: compress all n_features -> n_qubits via a small FCN\n",
    "#         # to avoid truncation while keeping quantum input width fixed.\n",
    "#         # angles = self.compressor(x)\n",
    "#         # q_features = self.qlayer(angles)\n",
    "#         q_features = self.qlayer(x)\n",
    "#         logits = self.head(q_features)\n",
    "#         score = F.softmax(logits, dim=1)[:, 1]\n",
    "#         # Apply sigmoid to convert the single quantum expectation value to a probability score\n",
    "#         # Since q_features is a scalar (single expectation value from qml.expval(qml.PauliZ(0))),\n",
    "#         # we use sigmoid instead of softmax to map the range [-1, 1] to [0, 1]\n",
    "#         # logits = 1.\n",
    "#         # score = torch.sigmoid(q_features)\n",
    "#         return logits, score\n",
    "\n",
    "\n",
    "def build_model(n_features: int) -> nn.Module:\n",
    "    \"\"\"Factory: chooses classical or quantum architecture based on BACKEND.\"\"\"\n",
    "    if BACKEND == \"qml\":\n",
    "        # Use 3 StronglyEntanglingLayers as requested.\n",
    "        model = PennyLaneSingleDisco(n_features, n_qubits=N_QUBITS, layers=QML_LAYERS, device_name=QML_DEVICE)\n",
    "        # model = PennyLaneSingleDisco(n_features, n_qubits=N_QUBITS, qaoa_depth=QAOA_DEPTH, layers=QML_LAYERS, device_name=QML_DEVICE)\n",
    "    else:\n",
    "        model = TorchSingleDisco(n_features)\n",
    "    # Expected behaviour: the returned module is already moved to the selected\n",
    "    # device (CPU or CUDA) so later training code can call `.to(DEVICE)` safely.\n",
    "    return model.to(DEVICE)\n",
    "\n",
    "\n",
    "model = build_model(len(FEATURE_NAMES))\n",
    "optimizer = torch.optim.Adam(model.parameters(), lr=LEARNING_RATE)\n",
    "model\n",
    "\n",
    "\n"
   ]
  },
  {
   "cell_type": "code",
   "execution_count": 7,
   "id": "7bcc2abd",
   "metadata": {},
   "outputs": [
    {
     "name": "stdout",
     "output_type": "stream",
     "text": [
      "Optimizer: Adam\n",
      "Learning rate: 0.0005\n",
      "Total trainable parameters: 1072\n",
      "Quantum layer parameters: 99 (per layer = N/A)\n"
     ]
    },
    {
     "data": {
      "text/html": [
       "<div>\n",
       "<style scoped>\n",
       "    .dataframe tbody tr th:only-of-type {\n",
       "        vertical-align: middle;\n",
       "    }\n",
       "\n",
       "    .dataframe tbody tr th {\n",
       "        vertical-align: top;\n",
       "    }\n",
       "\n",
       "    .dataframe thead th {\n",
       "        text-align: right;\n",
       "    }\n",
       "</style>\n",
       "<table border=\"1\" class=\"dataframe\">\n",
       "  <thead>\n",
       "    <tr style=\"text-align: right;\">\n",
       "      <th></th>\n",
       "      <th>parameter</th>\n",
       "      <th>count</th>\n",
       "      <th>trainable</th>\n",
       "    </tr>\n",
       "  </thead>\n",
       "  <tbody>\n",
       "    <tr>\n",
       "      <th>0</th>\n",
       "      <td>compressor.0.weight</td>\n",
       "      <td>352</td>\n",
       "      <td>True</td>\n",
       "    </tr>\n",
       "    <tr>\n",
       "      <th>1</th>\n",
       "      <td>compressor.0.bias</td>\n",
       "      <td>32</td>\n",
       "      <td>True</td>\n",
       "    </tr>\n",
       "    <tr>\n",
       "      <th>2</th>\n",
       "      <td>compressor.2.weight</td>\n",
       "      <td>352</td>\n",
       "      <td>True</td>\n",
       "    </tr>\n",
       "    <tr>\n",
       "      <th>3</th>\n",
       "      <td>compressor.2.bias</td>\n",
       "      <td>11</td>\n",
       "      <td>True</td>\n",
       "    </tr>\n",
       "    <tr>\n",
       "      <th>4</th>\n",
       "      <td>qlayer.weights_strong</td>\n",
       "      <td>99</td>\n",
       "      <td>True</td>\n",
       "    </tr>\n",
       "    <tr>\n",
       "      <th>5</th>\n",
       "      <td>head.0.weight</td>\n",
       "      <td>176</td>\n",
       "      <td>True</td>\n",
       "    </tr>\n",
       "    <tr>\n",
       "      <th>6</th>\n",
       "      <td>head.0.bias</td>\n",
       "      <td>16</td>\n",
       "      <td>True</td>\n",
       "    </tr>\n",
       "    <tr>\n",
       "      <th>7</th>\n",
       "      <td>head.2.weight</td>\n",
       "      <td>32</td>\n",
       "      <td>True</td>\n",
       "    </tr>\n",
       "    <tr>\n",
       "      <th>8</th>\n",
       "      <td>head.2.bias</td>\n",
       "      <td>2</td>\n",
       "      <td>True</td>\n",
       "    </tr>\n",
       "  </tbody>\n",
       "</table>\n",
       "</div>"
      ],
      "text/plain": [
       "               parameter  count  trainable\n",
       "0    compressor.0.weight    352       True\n",
       "1      compressor.0.bias     32       True\n",
       "2    compressor.2.weight    352       True\n",
       "3      compressor.2.bias     11       True\n",
       "4  qlayer.weights_strong     99       True\n",
       "5          head.0.weight    176       True\n",
       "6            head.0.bias     16       True\n",
       "7          head.2.weight     32       True\n",
       "8            head.2.bias      2       True"
      ]
     },
     "execution_count": 7,
     "metadata": {},
     "output_type": "execute_result"
    }
   ],
   "source": [
    "\n",
    "# ---------------------------------------------------------------------------\n",
    "# describe_qml_model summarises parameter counts and optimiser settings.\n",
    "# Objective: provide a transparent ledger of learnable parameters, matching the\n",
    "#            \"Model introspection\" requirement from the evaluation guide so we\n",
    "#            can compare classical vs quantum capacity.\n",
    "# Logic: iterate over named_parameters(), collect counts, and print optimiser\n",
    "#        metadata (learning rate, algorithm family). The returned DataFrame is\n",
    "#        easy to display in-tabular form for notebook readers.\n",
    "# Expected behaviour: calling this function prints human-readable statements and\n",
    "#                     returns a DataFrame where each row corresponds to one\n",
    "#                     parameter tensor.\n",
    "# Reference: the evaluation document stresses reporting trainable degrees of\n",
    "#            freedom when comparing architectures (see the \"Model details\"\n",
    "#            bullet list in `ref/Evaluating_ABCDisCo_Structured_WithEquations.md`).\n",
    "# ---------------------------------------------------------------------------\n",
    "def describe_qml_model(model: nn.Module, optimizer: torch.optim.Optimizer) -> pd.DataFrame:\n",
    "    rows = []\n",
    "    total_params = 0\n",
    "    for name, param in model.named_parameters():\n",
    "        count = int(param.numel())\n",
    "        trainable = param.requires_grad\n",
    "        total_params += count if trainable else 0\n",
    "        rows.append({\n",
    "            \"parameter\": name,\n",
    "            \"count\": count,\n",
    "            \"trainable\": trainable,\n",
    "        })\n",
    "    df = pd.DataFrame(rows)\n",
    "    print(\"Optimizer:\", optimizer.__class__.__name__)\n",
    "    print(\"Learning rate:\", optimizer.param_groups[0][\"lr\"])\n",
    "    print(\"Total trainable parameters:\", total_params)\n",
    "    if hasattr(model, \"qlayer\"):\n",
    "        q_params = sum(p.numel() for p in model.qlayer.parameters())\n",
    "        per_layer = model.qlayer.weights.shape[1] if hasattr(model.qlayer, \"weights\") else \"N/A\"\n",
    "        print(f\"Quantum layer parameters: {q_params} (per layer = {per_layer})\")\n",
    "    return df\n",
    "\n",
    "\n",
    "qml_architecture_df = describe_qml_model(model, optimizer)\n",
    "qml_architecture_df\n"
   ]
  },
  {
   "cell_type": "code",
   "execution_count": 8,
   "id": "a6c9d796",
   "metadata": {},
   "outputs": [
    {
     "name": "stdout",
     "output_type": "stream",
     "text": [
      "Variational circuit for zero input:\n",
      "TorchLayer parameters not found for drawing.\n"
     ]
    }
   ],
   "source": [
    "\n",
    "# Visualise the variational quantum circuit to inspect ansatz structure.\n",
    "# Reference: the evaluation guide recommends presenting circuit diagrams when\n",
    "# discussing quantum resources so collaborators can relate expressivity to\n",
    "# physics performance.\n",
    "if BACKEND == \"qml\" and hasattr(model, \"qlayer\"):\n",
    "    # Use PennyLane's ASCII drawer to render the circuit with the current\n",
    "    # trainable weights. Passing a zero vector illustrates the gate layout\n",
    "    # independent of specific input features.\n",
    "    probe = torch.zeros((model.n_qubits,), dtype=torch.float32)\n",
    "    drawer = qml.draw(model.qlayer.qnode)\n",
    "    print(\"Variational circuit for zero input:\")\n",
    "    # Collect TorchLayer parameters expected by the QNode\n",
    "    params = {name: p.detach() for name, p in model.qlayer.named_parameters()}\n",
    "    w_qaoa = params.get(\"weights_qaoa\")\n",
    "    w_strong = params.get(\"weights_strong\")\n",
    "    if w_qaoa is not None and w_strong is not None:\n",
    "        print(drawer(probe, w_qaoa, w_strong))\n",
    "    else:\n",
    "        print(\"TorchLayer parameters not found for drawing.\")\n",
    "else:\n",
    "    print(\"Quantum circuit visualisation is only available when BACKEND='qml'.\")\n"
   ]
  },
  {
   "cell_type": "code",
   "execution_count": 9,
   "id": "0a6852f4",
   "metadata": {},
   "outputs": [
    {
     "name": "stdout",
     "output_type": "stream",
     "text": [
      "Failed to render circuit image with qml.draw_mpl: 'TorchLayer' object has no attribute 'weights'\n",
      "If this persists, ensure matplotlib is installed and update PennyLane.\n"
     ]
    }
   ],
   "source": [
    "\n",
    "# ---------------------------------------------------------------------------\n",
    "# 3b. Image-based QML circuit visualization (PennyLane draw_mpl)\n",
    "# Objective: render the variational circuit as an image and display it inline.\n",
    "# Logic: create a zero-input probe, use current trainable weights, call\n",
    "#        qml.draw_mpl on the QNode inside the TorchLayer, and save a PNG copy.\n",
    "# Expected behaviour: show a figure in the notebook and write to disk for reuse.\n",
    "# ---------------------------------------------------------------------------\n",
    "if BACKEND == \"qml\" and hasattr(model, \"qlayer\"):\n",
    "    try:\n",
    "        from IPython.display import display\n",
    "        import matplotlib.pyplot as plt  # already imported globally; kept for clarity\n",
    "\n",
    "        # Build a simple probe input and move weights to CPU for drawing\n",
    "        probe = torch.zeros((model.n_qubits,), dtype=torch.float32)\n",
    "        weights_cpu = model.qlayer.weights.detach().cpu()\n",
    "\n",
    "        fig, ax = qml.draw_mpl(model.qlayer.qnode)(probe, weights_cpu)\n",
    "        display(fig)\n",
    "\n",
    "        vis_dir = CHECKPOINT_DIR / \"visualizations\"\n",
    "        vis_dir.mkdir(parents=True, exist_ok=True)\n",
    "        out_path = vis_dir / \"qml_circuit.png\"\n",
    "        fig.savefig(out_path, dpi=200, bbox_inches=\"tight\")\n",
    "        print(f\"Saved circuit image to {out_path}\")\n",
    "    except Exception as e:\n",
    "        print(\"Failed to render circuit image with qml.draw_mpl:\", e)\n",
    "        print(\"If this persists, ensure matplotlib is installed and update PennyLane.\")\n",
    "else:\n",
    "    print(\"Circuit image is available only when BACKEND='qml'.\")\n",
    "\n"
   ]
  },
  {
   "cell_type": "code",
   "execution_count": 10,
   "id": "111044ee",
   "metadata": {},
   "outputs": [],
   "source": [
    "# ---------------------------------------------------------------------------\n",
    "# get_current_lambda computes the current lambda value based on epoch for ramping.\n",
    "# Objective: gradually increase the decorrelation penalty to help QML models learn\n",
    "#            classification first, then decorrelation.\n",
    "# Logic: linear ramp from LAMBDA_MASS_START to LAMBDA_MASS_END over LAMBDA_RAMP_EPOCHS.\n",
    "# Expected behaviour: returns current lambda value for the given epoch.\n",
    "# ---------------------------------------------------------------------------\n",
    "def get_current_lambda(epoch: int) -> float:\n",
    "    if epoch < LAMBDA_RAMP_EPOCHS:\n",
    "        # Linear ramp from start to end over ramp epochs\n",
    "        progress = epoch / LAMBDA_RAMP_EPOCHS\n",
    "        return LAMBDA_MASS_START + progress * (LAMBDA_MASS_END - LAMBDA_MASS_START)\n",
    "    else:\n",
    "        # Use full penalty after ramp period\n",
    "        return LAMBDA_MASS_END\n",
    "\n",
    "\n",
    "# ---------------------------------------------------------------------------\n",
    "# distance_corr_safe computes the distance correlation (DisCo) penalty.\n",
    "# Objective: reproduce the decorrelation regulariser described in the ABCDisCo\n",
    "#            paper so the classifier score becomes independent of jet mass on\n",
    "#            background events, satisfying the ABCD assumption.\n",
    "# Logic: Guard against tiny batches by returning zero when fewer than three\n",
    "#        events are present, then normalise the provided weights so they sum to\n",
    "#        the batch size (matching the convention in `disco.distance_corr_unbiased`).\n",
    "# Terms: distance correlation measures any statistical dependence between two\n",
    "#        variables; a value near zero signals independence. This is the core of\n",
    "#        the \"Distance Correlation penalty\" highlighted in the evaluation guide.\n",
    "# Expected behaviour: returns a torch scalar suitable for backpropagation.\n",
    "# Reference: see the \"Distance correlation penalty\" subsection in\n",
    "#            `ref/Evaluating_ABCDisCo_Structured_WithEquations.md` where the\n",
    "#            DisCo loss is tied to improved ABCD closure.\n",
    "# ---------------------------------------------------------------------------\n",
    "def distance_corr_safe(x: torch.Tensor, y: torch.Tensor, weight: torch.Tensor) -> torch.Tensor:\n",
    "    if x.numel() <= 2 or y.numel() <= 2:\n",
    "        return torch.zeros(1, device=x.device, dtype=x.dtype)\n",
    "    normed = weight / (weight.sum() + 1e-12) * len(weight)\n",
    "    return distance_corr_unbiased(x, y, normed, power=1)\n",
    "\n",
    "\n",
    "# ---------------------------------------------------------------------------\n",
    "# compute_weighted_classification_stats summarises confusion-matrix entries.\n",
    "# Objective: obtain weighted counts of true/false positives/negatives so we can\n",
    "#            report accuracy, precision, recall, and F1 per epoch.\n",
    "# Logic: apply a threshold (default 0.5) to scores, multiply boolean masks by\n",
    "#        sample weights, and accumulate sums.\n",
    "# Terms: precision = TP/(TP+FP), recall = TP/(TP+FN), F1 = harmonic mean.\n",
    "# Expected behaviour: returns a dictionary of scalar floats ready for logging.\n",
    "# Reference: the evaluation guide explicitly asks for classification metrics\n",
    "#            alongside ABCD closure to interpret signal/background separation.\n",
    "# ---------------------------------------------------------------------------\n",
    "def compute_weighted_classification_stats(labels: torch.Tensor, scores: torch.Tensor, weights: torch.Tensor, threshold: float = 0.5) -> Dict[str, float]:\n",
    "    preds = (scores >= threshold).to(labels.dtype)\n",
    "    w = weights\n",
    "    tp = torch.sum(w * (preds == 1) * (labels == 1))\n",
    "    tn = torch.sum(w * (preds == 0) * (labels == 0))\n",
    "    fp = torch.sum(w * (preds == 1) * (labels == 0))\n",
    "    fn = torch.sum(w * (preds == 0) * (labels == 1))\n",
    "    total = tp + tn + fp + fn + 1e-12\n",
    "    accuracy = (tp + tn) / total\n",
    "    precision = tp / (tp + fp + 1e-12)\n",
    "    recall = tp / (tp + fn + 1e-12)\n",
    "    f1 = 2 * precision * recall / (precision + recall + 1e-12)\n",
    "    return {\n",
    "        \"tp\": tp.item(),\n",
    "        \"tn\": tn.item(),\n",
    "        \"fp\": fp.item(),\n",
    "        \"fn\": fn.item(),\n",
    "        \"accuracy\": accuracy.item(),\n",
    "        \"precision\": precision.item(),\n",
    "        \"recall\": recall.item(),\n",
    "        \"f1\": f1.item(),\n",
    "    }\n",
    "\n",
    "\n",
    "# ---------------------------------------------------------------------------\n",
    "# compute_losses packages the BCE classification loss and optional DisCo penalty.\n",
    "# Objective: provide a single function for forward passes that also records the\n",
    "#            metrics needed for per-epoch logging and checkpoint metadata.\n",
    "# Logic: move tensors to DEVICE, obtain logits and score, compute weighted\n",
    "#        binary cross-entropy, then append decorrelation loss for background\n",
    "#        events when `LAMBDA_MASS` > 0.\n",
    "# Expected behaviour: returns a loss tensor for backpropagation and a metrics\n",
    "#                     dictionary containing loss and classification statistics.\n",
    "# Reference: ties together the classification quality and decorrelation control\n",
    "#            emphasised in Sections \"ROC/AUC\" and \"Distance correlation\" of the\n",
    "#            evaluation document.\n",
    "# ---------------------------------------------------------------------------\n",
    "def compute_losses(model: nn.Module, batch: Tuple[torch.Tensor, ...], lambda_mass: float = LAMBDA_MASS) -> Tuple[torch.Tensor, Dict[str, float]]:\n",
    "    features, labels, weights, masses = batch\n",
    "    features = features.to(DEVICE)\n",
    "    labels = labels.to(DEVICE)\n",
    "    weights = weights.to(DEVICE)\n",
    "    masses = masses.to(DEVICE)\n",
    "\n",
    "    logits, score = model(features)\n",
    "    loss_cls = F.binary_cross_entropy(score, labels, weight=weights)\n",
    "    loss = loss_cls\n",
    "\n",
    "    stats = compute_weighted_classification_stats(labels, score, weights)\n",
    "    metrics = {\n",
    "        \"loss_cls\": float(loss_cls.detach().cpu()),\n",
    "        \"accuracy\": float(stats[\"accuracy\"]),\n",
    "        \"precision\": float(stats[\"precision\"]),\n",
    "        \"recall\": float(stats[\"recall\"]),\n",
    "        \"f1\": float(stats[\"f1\"]),\n",
    "    }\n",
    "\n",
    "    background = labels < 0.5\n",
    "    if background.any() and lambda_mass > 0.0:\n",
    "        w_bkg = torch.ones_like(weights[background])\n",
    "        d_mass = distance_corr_safe(score[background], masses[background], w_bkg)\n",
    "        loss = loss + lambda_mass * d_mass\n",
    "        metrics[\"dCorr_s_m\"] = float(d_mass.detach().cpu())\n",
    "\n",
    "    return loss, metrics\n"
   ]
  },
  {
   "cell_type": "code",
   "execution_count": 11,
   "id": "efd8058f",
   "metadata": {},
   "outputs": [],
   "source": [
    "# ---------------------------------------------------------------------------\n",
    "# weighted_quantile finds score thresholds at fixed signal efficiencies.\n",
    "# Objective: implement quantile selection that respects per-event weights,\n",
    "#            matching the definition of efficiency in collider analyses.\n",
    "# Logic: sort scores, build a weighted cumulative distribution, and interpolate\n",
    "#        the desired quantile.\n",
    "# Terms: quantile `q` solves CDF(q) = quantile; weights rescale contributions.\n",
    "# Expected behaviour: returns a scalar threshold such that the weighted fraction\n",
    "#                     of signal events above the threshold equals the target.\n",
    "# Reference: required for the ABCD closure scans described in the evaluation\n",
    "#            guide when constructing score cuts at specified signal efficiencies.\n",
    "# ---------------------------------------------------------------------------\n",
    "def weighted_quantile(values: np.ndarray, quantile: float, sample_weight: np.ndarray) -> float:\n",
    "    order = np.argsort(values)\n",
    "    values = values[order]\n",
    "    weights = sample_weight[order]\n",
    "    cumulative = np.cumsum(weights) - 0.5 * weights\n",
    "    cumulative /= weights.sum()\n",
    "    return float(np.interp(quantile, cumulative, values))\n",
    "\n",
    "\n",
    "# ---------------------------------------------------------------------------\n",
    "# compute_epoch_classification_metrics records weighted accuracy-style metrics.\n",
    "# Objective: mirror the confusion-matrix-based diagnostics emphasised in the\n",
    "#            evaluation document for understanding classification quality.\n",
    "# Logic: apply a 0.5 threshold, evaluate sklearn metrics with weights, and store\n",
    "#        the confusion matrix for later visualisation.\n",
    "# Expected behaviour: returns a dictionary with scalar metrics and a matrix.\n",
    "# Reference: see the \"Classification metrics\" subsection in the evaluation guide\n",
    "#            for why accuracy/precision/recall/F1 complement ROC analysis.\n",
    "# ---------------------------------------------------------------------------\n",
    "def compute_epoch_classification_metrics(scores: np.ndarray, labels: np.ndarray, weights: np.ndarray) -> Dict[str, Any]:\n",
    "    preds = (scores >= 0.5).astype(int)\n",
    "    metrics = {\n",
    "        \"accuracy\": accuracy_score(labels, preds, sample_weight=weights),\n",
    "        \"precision\": precision_score(labels, preds, sample_weight=weights, zero_division=0),\n",
    "        \"recall\": recall_score(labels, preds, sample_weight=weights, zero_division=0),\n",
    "        \"f1\": f1_score(labels, preds, sample_weight=weights, zero_division=0),\n",
    "    }\n",
    "    cm = confusion_matrix(labels, preds, sample_weight=weights)\n",
    "    metrics[\"confusion_matrix\"] = cm.astype(float)\n",
    "    return metrics\n",
    "\n",
    "\n",
    "# ---------------------------------------------------------------------------\n",
    "# compute_roc_diagnostics traces the ROC curve and background efficiency targets.\n",
    "# Objective: capture the full trade-off between signal efficiency and background\n",
    "#            rejection, including specific working points used later in ABCD and\n",
    "#            Jensen–Shannon analyses.\n",
    "# Logic: leverage sklearn.roc_curve with weights, compute area under the curve,\n",
    "#        and interpolate background efficiencies at user-requested signal effs.\n",
    "# Expected behaviour: dictionary containing arrays (fpr, tpr, thresholds) and\n",
    "#                     scalars (AUC, background efficiencies at target points).\n",
    "# Reference: the evaluation guide's ROC/AUC discussion and Fig. 3-style plots.\n",
    "# ---------------------------------------------------------------------------\n",
    "def compute_roc_diagnostics(scores: np.ndarray, labels: np.ndarray, weights: np.ndarray) -> Dict[str, Any]:\n",
    "    fpr, tpr, thresholds = roc_curve(labels, scores, sample_weight=weights)\n",
    "    roc_auc = auc(fpr, tpr)\n",
    "    diagnostics = {\"fpr\": fpr, \"tpr\": tpr, \"thresholds\": thresholds, \"auc\": roc_auc}\n",
    "    for target in SCORE_SIGNAL_EFFICIENCIES:\n",
    "        diagnostics[f\"background_eff_at_{int(target*100)}pct_sig\"] = float(np.interp(target, tpr, fpr))\n",
    "    return diagnostics\n",
    "\n",
    "\n",
    "# ---------------------------------------------------------------------------\n",
    "# compute_abcd_statistics evaluates closure, prediction uncertainty, and pulls.\n",
    "# Objective: implement Eq. (1) and related diagnostics from the evaluation guide\n",
    "#            to validate the ABCD method using the model's score as the x-axis,\n",
    "#            and produce aggregated summaries for transfer factors, sideband\n",
    "#            stability, and Asimov significance.\n",
    "# Logic: define a signal mass window, split events into A/B/C/D based on score\n",
    "#        cuts and mass window membership, then compute predicted background,\n",
    "#        closure ratio, percentage error, statistical pull, transfer factors,\n",
    "#        sideband stability tests, and Asimov significance.\n",
    "# Terms: regions A/B/C/D follow the ABCD method; closure ratio = N_pred/N_true;\n",
    "#        pull = (observed - predicted) / sigma_combined.\n",
    "# Expected behaviour: returns a dictionary with the mass window, per-efficiency\n",
    "#                     summaries used for plots and checkpoint metadata, and an\n",
    "#                     `aggregated` block containing dataset-level statistics.\n",
    "# Reference: \"ABCD closure tests\" and \"Pull distributions\" sections in the guide.\n",
    "# ---------------------------------------------------------------------------\n",
    "def compute_abcd_statistics(scores: np.ndarray, masses: np.ndarray, labels: np.ndarray, weights: np.ndarray) -> Dict[str, Any]:\n",
    "    signal_mask = labels > 0.5\n",
    "    background_mask = ~signal_mask\n",
    "    if signal_mask.sum() == 0 or background_mask.sum() == 0:\n",
    "        raise ValueError(\"Need both classes present to evaluate ABCD metrics\")\n",
    "    mass_low = np.quantile(masses[signal_mask], ABCD_SIGNAL_WINDOW_QUANTILES[0])\n",
    "    mass_high = np.quantile(masses[signal_mask], ABCD_SIGNAL_WINDOW_QUANTILES[1])\n",
    "    in_signal_mass = (masses >= mass_low) & (masses <= mass_high)\n",
    "\n",
    "    eps = 1e-12\n",
    "\n",
    "    def weighted_sum(mask: np.ndarray) -> float:\n",
    "        return float(np.sum(weights[mask]))\n",
    "\n",
    "    def asimov_significance(signal_yield: float, background_yield: float) -> float:\n",
    "        if background_yield <= 0:\n",
    "            return float(\"nan\")\n",
    "        if signal_yield <= 0:\n",
    "            return 0.0\n",
    "        term = (signal_yield + background_yield) * np.log1p(signal_yield / (background_yield + eps)) - signal_yield\n",
    "        return float(np.sqrt(max(0.0, 2.0 * term)))\n",
    "\n",
    "    results: Dict[str, Any] = {\"mass_window\": (mass_low, mass_high), \"per_efficiency\": [], \"aggregated\": {}}\n",
    "\n",
    "    closures, pulls = [], []\n",
    "    tf_bd_values, tf_cd_values = [], []\n",
    "    sideband_ratio_values, sideband_stability_values = [], []\n",
    "    asimov_values = []\n",
    "\n",
    "    for target in SCORE_SIGNAL_EFFICIENCIES:\n",
    "        score_cut = weighted_quantile(scores[signal_mask], 1 - target, weights[signal_mask])\n",
    "        pass_score = scores >= score_cut\n",
    "        region_A = pass_score & in_signal_mass\n",
    "        region_B = pass_score & (~in_signal_mass)\n",
    "        region_C = (~pass_score) & in_signal_mass\n",
    "        region_D = (~pass_score) & (~in_signal_mass)\n",
    "\n",
    "        A_bg = weighted_sum(background_mask & region_A)\n",
    "        B_bg = weighted_sum(background_mask & region_B)\n",
    "        C_bg = weighted_sum(background_mask & region_C)\n",
    "        D_bg = weighted_sum(background_mask & region_D)\n",
    "        A_sig = weighted_sum(signal_mask & region_A)\n",
    "        observed_total = A_bg + A_sig\n",
    "\n",
    "        prediction = B_bg * C_bg / (D_bg + eps)\n",
    "        closure_ratio = prediction / (A_bg + eps)\n",
    "        sigma_pred = prediction * np.sqrt(1 / (B_bg + eps) + 1 / (C_bg + eps) + 1 / (D_bg + eps))\n",
    "        sigma_obs = np.sqrt(A_bg + eps)\n",
    "        pull = (A_bg - prediction) / np.sqrt(sigma_pred**2 + sigma_obs**2)\n",
    "\n",
    "        tf_bd = B_bg / (D_bg + eps)\n",
    "        tf_cd = C_bg / (D_bg + eps)\n",
    "        sideband_ratio = B_bg / (C_bg + eps)\n",
    "        sideband_stability = (B_bg - C_bg) / (B_bg + C_bg + eps)\n",
    "        asimov = asimov_significance(A_sig, prediction)\n",
    "\n",
    "        results[\"per_efficiency\"].append({\n",
    "            \"target_signal_efficiency\": target,\n",
    "            \"score_cut\": score_cut,\n",
    "            \"A_bg\": A_bg,\n",
    "            \"B_bg\": B_bg,\n",
    "            \"C_bg\": C_bg,\n",
    "            \"D_bg\": D_bg,\n",
    "            \"predicted_bg\": prediction,\n",
    "            \"closure_ratio\": closure_ratio,\n",
    "            \"closure_error_pct\": (closure_ratio - 1.0) * 100.0,\n",
    "            \"pull\": pull,\n",
    "            \"transfer_factor_B_over_D\": tf_bd,\n",
    "            \"transfer_factor_C_over_D\": tf_cd,\n",
    "            \"sideband_ratio_B_over_C\": sideband_ratio,\n",
    "            \"sideband_stability\": sideband_stability,\n",
    "            \"signal_in_A\": A_sig,\n",
    "            \"observed_total_in_A\": observed_total,\n",
    "            \"asimov_significance\": asimov,\n",
    "        })\n",
    "\n",
    "        closures.append(closure_ratio)\n",
    "        pulls.append(pull)\n",
    "        tf_bd_values.append(tf_bd)\n",
    "        tf_cd_values.append(tf_cd)\n",
    "        sideband_ratio_values.append(sideband_ratio)\n",
    "        sideband_stability_values.append(sideband_stability)\n",
    "        asimov_values.append(asimov)\n",
    "\n",
    "    def summarise(values: List[float]) -> Dict[str, float]:\n",
    "        if len(values) == 0:\n",
    "            return {\"mean\": float(\"nan\"), \"std\": float(\"nan\"), \"min\": float(\"nan\"), \"max\": float(\"nan\"), \"median\": float(\"nan\")}\n",
    "        arr = np.asarray(values, dtype=float)\n",
    "        return {\n",
    "            \"mean\": float(np.mean(arr)),\n",
    "            \"std\": float(np.std(arr, ddof=0)),\n",
    "            \"min\": float(np.min(arr)),\n",
    "            \"max\": float(np.max(arr)),\n",
    "            \"median\": float(np.median(arr)),\n",
    "        }\n",
    "\n",
    "    pull_stats = summarise(pulls)\n",
    "    pull_stats[\"rms\"] = float(np.sqrt(np.mean(np.square(np.asarray(pulls, dtype=float))))) if pulls else float(\"nan\")\n",
    "\n",
    "    results[\"aggregated\"] = {\n",
    "        \"closure_ratio\": summarise(closures),\n",
    "        \"pull\": pull_stats,\n",
    "        \"transfer_factor_B_over_D\": summarise(tf_bd_values),\n",
    "        \"transfer_factor_C_over_D\": summarise(tf_cd_values),\n",
    "        \"sideband_ratio_B_over_C\": summarise(sideband_ratio_values),\n",
    "        \"sideband_stability\": summarise(sideband_stability_values),\n",
    "        \"asimov_significance\": summarise(asimov_values),\n",
    "    }\n",
    "    return results\n",
    "\n",
    "\n",
    "# ---------------------------------------------------------------------------\n",
    "# compute_jsd_summary interfaces with the existing JSD vs rejection utility.\n",
    "# Objective: monitor how well the classifier avoids mass sculpting by relating\n",
    "#            background rejection to the inverse Jensen–Shannon divergence.\n",
    "# Logic: for each target signal efficiency, call `evaluation.JSDvsR` (which wraps\n",
    "#        the physics-inspired histogram comparison) and store the rejection +\n",
    "#        inverse JSD pair.\n",
    "# Terms: Jensen–Shannon divergence measures shape agreement between mass\n",
    "#        distributions; high inverse JSD means better agreement (less sculpting).\n",
    "# Expected behaviour: list of dictionaries keyed by target efficiency.\n",
    "# Reference: \"Mass sculpting and information-theoretic metrics\" in the guide.\n",
    "# ---------------------------------------------------------------------------\n",
    "def compute_jsd_summary(scores: np.ndarray, masses: np.ndarray, labels: np.ndarray, weights: np.ndarray) -> List[Dict[str, float]]:\n",
    "    background = labels < 0.5\n",
    "    signal = labels > 0.5\n",
    "    summary = []\n",
    "    for target in SCORE_SIGNAL_EFFICIENCIES:\n",
    "        rejection, inv_jsd = JSDvsR(\n",
    "            sigscore=scores[signal],\n",
    "            bgscore=scores[background],\n",
    "            bgmass=masses[background],\n",
    "            sigweights=weights[signal],\n",
    "            bgweights=weights[background],\n",
    "            sigeff=int(target * 100),\n",
    "            nbins=ABCD_HISTOGRAM_BINS,\n",
    "            minmass=float(masses.min()),\n",
    "            maxmass=float(masses.max()),\n",
    "        )\n",
    "        summary.append({\n",
    "            \"target_signal_efficiency\": target,\n",
    "            \"background_rejection\": rejection,\n",
    "            \"inverse_jsd\": inv_jsd,\n",
    "        })\n",
    "    return summary\n",
    "\n",
    "\n",
    "# ---------------------------------------------------------------------------\n",
    "# save_checkpoint persists model/optimizer states and rich validation metadata.\n",
    "# Objective: guarantee resumable training under runtime limits by writing\n",
    "#            per-epoch files that store metrics, history, and cached arrays.\n",
    "# Logic: package model weights, optimiser buffers, history so far, and extra\n",
    "#        arrays needed to resume evaluation. Filenames follow \"epoch_XXX.pth\" for clarity.\n",
    "# Expected behaviour: writes a `.pth` file to CHECKPOINT_DIR and prints the path.\n",
    "# Reference: aligns with the runtime monitoring requirement in the evaluation guide.\n",
    "# ---------------------------------------------------------------------------\n",
    "def save_checkpoint(epoch: int, model: nn.Module, optimizer: torch.optim.Optimizer, history: List[Dict[str, Any]], train_record: Dict[str, Any], val_record: Dict[str, Any], extra: Dict[str, Any]) -> Path:\n",
    "    payload = {\n",
    "        \"epoch\": epoch,\n",
    "        \"timestamp\": datetime.utcnow().isoformat() + \"Z\",\n",
    "        \"model_state\": model.state_dict(),\n",
    "        \"optimizer_state\": optimizer.state_dict(),\n",
    "        \"history\": history,\n",
    "        \"train_record\": train_record,\n",
    "        \"val_record\": val_record,\n",
    "    }\n",
    "    payload.update(extra)\n",
    "    path = CHECKPOINT_DIR / CHECKPOINT_TEMPLATE.format(epoch=epoch)\n",
    "    torch.save(payload, path)\n",
    "    print(f\"Checkpoint saved to {path}\")\n",
    "    return path\n",
    "\n",
    "\n",
    "# ---------------------------------------------------------------------------\n",
    "# load_checkpoint restores model/optimizer states and returns archived metadata.\n",
    "# Objective: allow fast resumption or retrospective analysis using the stored\n",
    "#            arrays and history.\n",
    "# Expected behaviour: loads the `.pth` file on DEVICE, restores weights, and\n",
    "#                     returns the payload dictionary for further processing.\n",
    "# ---------------------------------------------------------------------------\n",
    "def load_checkpoint(path: Path, model: nn.Module, optimizer: torch.optim.Optimizer) -> Dict[str, Any]:\n",
    "    payload = torch.load(path, map_location=DEVICE)\n",
    "    model.load_state_dict(payload[\"model_state\"])\n",
    "    optimizer.load_state_dict(payload[\"optimizer_state\"])\n",
    "    print(f\"Loaded checkpoint from {path}\")\n",
    "    return payload\n",
    "\n",
    "\n",
    "# ---------------------------------------------------------------------------\n",
    "# list_available_checkpoints enumerates saved epochs for easy resumption.\n",
    "# Expected behaviour: prints filenames such as `epoch_005.pth` and returns a\n",
    "#                     sorted list so notebook users can grab the latest checkpoint.\n",
    "# ---------------------------------------------------------------------------\n",
    "def list_available_checkpoints() -> List[Path]:\n",
    "    paths = sorted(CHECKPOINT_DIR.glob(\"epoch_*.pth\"))\n",
    "    for p in paths:\n",
    "        print(p.name)\n",
    "    return paths\n"
   ]
  },
  {
   "cell_type": "code",
   "execution_count": 12,
   "id": "78201ad2",
   "metadata": {},
   "outputs": [],
   "source": [
    "# Updated train_one_epoch function with lambda parameter\n",
    "def train_one_epoch(model: nn.Module, loader: DataLoader, optimizer: torch.optim.Optimizer, lambda_mass: float = LAMBDA_MASS) -> Dict[str, float]:\n",
    "    model.train()\n",
    "    agg: Dict[str, List[float]] = {}\n",
    "    total_examples = 0\n",
    "    start = time.perf_counter()\n",
    "    for batch in tqdm(loader, leave=False, desc=\"train\"):\n",
    "        optimizer.zero_grad(set_to_none=True)\n",
    "        loss, metrics = compute_losses(model, batch, lambda_mass)\n",
    "        loss.backward()\n",
    "        optimizer.step()\n",
    "        batch_size = batch[0].shape[0]\n",
    "        total_examples += batch_size\n",
    "        for key, value in metrics.items():\n",
    "            agg.setdefault(key, []).append(value)\n",
    "    duration = time.perf_counter() - start\n",
    "    results = {key: float(np.mean(values)) for key, values in agg.items()}\n",
    "    results.update({\n",
    "        \"epoch_seconds\": duration,\n",
    "        \"examples_per_second\": total_examples / duration if duration > 0 else float(\"nan\"),\n",
    "        \"iterations_per_second\": len(loader) / duration if duration > 0 else float(\"nan\"),\n",
    "    })\n",
    "    return results\n"
   ]
  },
  {
   "cell_type": "markdown",
   "id": "54a33af9",
   "metadata": {},
   "source": [
    "\n",
    "## 4. Loss function with DisCo penalty (`model.py` lines 24-86 & `disco.py`)\n",
    "\n",
    "We compute the weighted binary cross-entropy loss and add the unbiased distance-correlation penalty between the classifier score and jet mass on background events, following the original `train_model(..., decorr_mode='dist_unbiased')` implementation.\n"
   ]
  },
  {
   "cell_type": "code",
   "execution_count": 13,
   "id": "f77a02f2",
   "metadata": {},
   "outputs": [],
   "source": [
    "# This cell is intentionally left blank to avoid redefining helper functions.\n"
   ]
  },
  {
   "cell_type": "code",
   "execution_count": 14,
   "id": "692b7844",
   "metadata": {},
   "outputs": [
    {
     "data": {
      "image/png": "[encoded data removed]",
      "text/plain": [
       "<Figure size 1000x600 with 1 Axes>"
      ]
     },
     "metadata": {},
     "output_type": "display_data"
    },
    {
     "name": "stdout",
     "output_type": "stream",
     "text": [
      "Lambda ramping schedule:\n",
      "  Start: 5.0\n",
      "  End: 55.0\n",
      "  Ramp over: 50 epochs\n",
      "  Final epochs (50-49): constant at 55.0\n"
     ]
    }
   ],
   "source": [
    "# Visualize the lambda ramping schedule\n",
    "epochs = range(EPOCHS)\n",
    "lambdas = [get_current_lambda(epoch) for epoch in epochs]\n",
    "\n",
    "plt.figure(figsize=(10, 6))\n",
    "plt.plot(epochs, lambdas, 'b-', linewidth=2, label='Lambda Mass Schedule')\n",
    "plt.axvline(x=LAMBDA_RAMP_EPOCHS, color='r', linestyle='--', alpha=0.7, label=f'Ramp End (Epoch {LAMBDA_RAMP_EPOCHS})')\n",
    "plt.xlabel('Epoch')\n",
    "plt.ylabel('Lambda Mass')\n",
    "plt.title('DisCo Penalty Ramping Schedule')\n",
    "plt.grid(True, alpha=0.3)\n",
    "plt.legend()\n",
    "plt.show()\n",
    "\n",
    "print(f\"Lambda ramping schedule:\")\n",
    "print(f\"  Start: {LAMBDA_MASS_START}\")\n",
    "print(f\"  End: {LAMBDA_MASS_END}\")\n",
    "print(f\"  Ramp over: {LAMBDA_RAMP_EPOCHS} epochs\")\n",
    "print(f\"  Final epochs ({LAMBDA_RAMP_EPOCHS}-{EPOCHS-1}): constant at {LAMBDA_MASS_END}\")\n"
   ]
  },
  {
   "cell_type": "code",
   "execution_count": null,
   "id": "b3d9c91f",
   "metadata": {},
   "outputs": [],
   "source": []
  },
  {
   "cell_type": "markdown",
   "id": "4b9d446a",
   "metadata": {},
   "source": [
    "\n",
    "## 5. Training loop (`model.py` lines 88-170)\n",
    "\n",
    "We adapt the original `train`/`val` helpers to work seamlessly on CPU/GPU and to log the DisCo decorrelation term alongside the classification loss.\n"
   ]
  },
  {
   "cell_type": "code",
   "execution_count": 15,
   "id": "67781dc8",
   "metadata": {},
   "outputs": [],
   "source": [
    "\n",
    "# ---------------------------------------------------------------------------\n",
    "# train_one_epoch performs a full pass over the training DataLoader.\n",
    "# Objective: accumulate gradients, update model parameters, and track runtime\n",
    "#            metrics (examples/sec, iterations/sec) required for the runtime log\n",
    "#            requested in the evaluation plan.\n",
    "# Logic: iterate over batches, compute losses, backpropagate, and average the\n",
    "#        collected metrics dictionary.\n",
    "# Expected behaviour: returns a dictionary containing mean losses/metrics and\n",
    "#                     throughput information for the epoch.\n",
    "# ---------------------------------------------------------------------------\n",
    "def train_one_epoch(model: nn.Module, loader: DataLoader, optimizer: torch.optim.Optimizer, lambda_mass: float = LAMBDA_MASS) -> Dict[str, float]:\n",
    "    model.train()\n",
    "    agg: Dict[str, List[float]] = {}\n",
    "    total_examples = 0\n",
    "    start = time.perf_counter()\n",
    "    for batch in tqdm(loader, leave=False, desc=\"train\"):\n",
    "        optimizer.zero_grad(set_to_none=True)\n",
    "        loss, metrics = compute_losses(model, batch, lambda_mass)\n",
    "        loss.backward()\n",
    "        optimizer.step()\n",
    "        batch_size = batch[0].shape[0]\n",
    "        total_examples += batch_size\n",
    "        for key, value in metrics.items():\n",
    "            agg.setdefault(key, []).append(value)\n",
    "    duration = time.perf_counter() - start\n",
    "    results = {key: float(np.mean(values)) for key, values in agg.items()}\n",
    "    results.update({\n",
    "        \"epoch_seconds\": duration,\n",
    "        \"examples_per_second\": total_examples / duration if duration > 0 else float(\"nan\"),\n",
    "        \"iterations_per_second\": len(loader) / duration if duration > 0 else float(\"nan\"),\n",
    "    })\n",
    "    return results\n",
    "\n",
    "\n",
    "# ---------------------------------------------------------------------------\n",
    "# evaluate mirrors train_one_epoch but without gradient updates.\n",
    "# Objective: compute validation/test metrics and collect raw arrays for ROC/ABCD\n",
    "#            analysis each epoch.\n",
    "# Logic: disable gradients, reuse compute_losses for consistency, and keep track\n",
    "#        of scores, labels, weights, and masses as numpy arrays.\n",
    "# Expected behaviour: returns the concatenated arrays alongside averaged metrics.\n",
    "# ---------------------------------------------------------------------------\n",
    "def evaluate(model: nn.Module, loader: DataLoader) -> Tuple[np.ndarray, np.ndarray, np.ndarray, np.ndarray, Dict[str, float]]:\n",
    "    model.eval()\n",
    "    scores, labels_all, weights_all, masses_all = [], [], [], []\n",
    "    agg: Dict[str, List[float]] = {}\n",
    "    total_examples = 0\n",
    "    start = time.perf_counter()\n",
    "    with torch.no_grad():\n",
    "        for batch in tqdm(loader, leave=False, desc=\"eval\"):\n",
    "            loss, metrics = compute_losses(model, batch)\n",
    "            features, labels, weights, masses = batch\n",
    "            features = features.to(DEVICE)\n",
    "            _, score = model(features)\n",
    "            batch_size = features.shape[0]\n",
    "            total_examples += batch_size\n",
    "            scores.append(score.cpu().numpy())\n",
    "            labels_all.append(labels.numpy())\n",
    "            weights_all.append(weights.numpy())\n",
    "            masses_all.append(masses.numpy())\n",
    "            agg.setdefault(\"loss_cls\", []).append(metrics[\"loss_cls\"])\n",
    "            for key in (\"accuracy\", \"precision\", \"recall\", \"f1\"):\n",
    "                agg.setdefault(key, []).append(metrics[key])\n",
    "            if \"dCorr_s_m\" in metrics:\n",
    "                agg.setdefault(\"dCorr_s_m\", []).append(metrics[\"dCorr_s_m\"])\n",
    "    duration = time.perf_counter() - start\n",
    "    metrics_mean = {key: float(np.mean(values)) for key, values in agg.items()}\n",
    "    metrics_mean.update({\n",
    "        \"epoch_seconds\": duration,\n",
    "        \"examples_per_second\": total_examples / duration if duration > 0 else float(\"nan\"),\n",
    "        \"iterations_per_second\": len(loader) / duration if duration > 0 else float(\"nan\"),\n",
    "    })\n",
    "    return (\n",
    "        np.concatenate(scores),\n",
    "        np.concatenate(labels_all),\n",
    "        np.concatenate(weights_all),\n",
    "        np.concatenate(masses_all),\n",
    "        metrics_mean,\n",
    "    )\n",
    "\n",
    "history: List[Dict[str, Any]] = []\n",
    "start_epoch = 0\n",
    "if RESUME_CHECKPOINT is not None:\n",
    "    loaded_checkpoint = load_checkpoint(Path(RESUME_CHECKPOINT), model, optimizer)\n",
    "    history = loaded_checkpoint.get(\"history\", [])\n",
    "    start_epoch = int(loaded_checkpoint.get(\"epoch\", -1)) + 1\n",
    "    print(f\"Resuming from epoch {start_epoch}\")\n",
    "\n",
    "# History tracks per-epoch metrics for later plotting and checkpoint metadata.\n",
    "history: List[Dict[str, Any]] = []\n",
    "start_epoch = 0\n",
    "if RESUME_CHECKPOINT is not None:\n",
    "    loaded_checkpoint = load_checkpoint(Path(RESUME_CHECKPOINT), model, optimizer)\n",
    "    history = loaded_checkpoint.get(\"history\", [])\n",
    "    start_epoch = int(loaded_checkpoint.get(\"epoch\", -1)) + 1\n",
    "    print(f\"Resuming from epoch {start_epoch}\")\n",
    "\n",
    "# for epoch in range(start_epoch, EPOCHS):\n",
    "#     print(f\"Epoch {epoch:03d}\")\n",
    "#     train_metrics = train_one_epoch(model, train_loader, optimizer)\n",
    "#     s_val, y_val, w_val, m_val, val_metrics = evaluate(model, val_loader)\n",
    "\n",
    "#     # Compute rich validation diagnostics as mandated by the evaluation guide.\n",
    "#     classification = compute_epoch_classification_metrics(s_val, y_val, w_val)\n",
    "#     roc_diag = compute_roc_diagnostics(s_val, y_val, w_val)\n",
    "#     abcd_stats = compute_abcd_statistics(s_val, m_val, y_val, w_val)\n",
    "#     jsd_points = compute_jsd_summary(s_val, m_val, y_val, w_val)\n",
    "\n",
    "#     record = {\n",
    "#         \"epoch\": epoch,\n",
    "#         \"train_loss_cls\": train_metrics.get(\"loss_cls\", float(\"nan\")),\n",
    "#         \"train_accuracy\": train_metrics.get(\"accuracy\", float(\"nan\")),\n",
    "#         \"train_precision\": train_metrics.get(\"precision\", float(\"nan\")),\n",
    "#         \"train_recall\": train_metrics.get(\"recall\", float(\"nan\")),\n",
    "#         \"train_f1\": train_metrics.get(\"f1\", float(\"nan\")),\n",
    "#         \"train_epoch_seconds\": train_metrics.get(\"epoch_seconds\", float(\"nan\")),\n",
    "#         \"train_examples_per_second\": train_metrics.get(\"examples_per_second\", float(\"nan\")),\n",
    "#         \"val_loss_cls\": val_metrics.get(\"loss_cls\", float(\"nan\")),\n",
    "#         \"val_accuracy\": classification[\"accuracy\"],\n",
    "#         \"val_precision\": classification[\"precision\"],\n",
    "#         \"val_recall\": classification[\"recall\"],\n",
    "#         \"val_f1\": classification[\"f1\"],\n",
    "#         \"val_auc\": roc_diag[\"auc\"],\n",
    "#         \"val_epoch_seconds\": val_metrics.get(\"epoch_seconds\", float(\"nan\")),\n",
    "#         \"val_examples_per_second\": val_metrics.get(\"examples_per_second\", float(\"nan\")),\n",
    "#     }\n",
    "#     if \"dCorr_s_m\" in train_metrics:\n",
    "#         record[\"train_dCorr_s_m\"] = train_metrics[\"dCorr_s_m\"]\n",
    "#     if \"dCorr_s_m\" in val_metrics:\n",
    "#         record[\"val_dCorr_s_m\"] = val_metrics[\"dCorr_s_m\"]\n",
    "#     for target in SCORE_SIGNAL_EFFICIENCIES:\n",
    "#         key = f\"background_eff_at_{int(target*100)}pct_sig\"\n",
    "#         record[key] = roc_diag[key]\n",
    "#     for item in abcd_stats[\"per_efficiency\"]:\n",
    "#         eff = int(item[\"target_signal_efficiency\"] * 100)\n",
    "#         record[f\"abcd_closure_ratio_{eff}pct\"] = item[\"closure_ratio\"]\n",
    "#         record[f\"abcd_pull_{eff}pct\"] = item[\"pull\"]\n",
    "#     aggregated = abcd_stats[\"aggregated\"]\n",
    "#     record[\"abcd_closure_ratio_mean\"] = aggregated[\"closure_ratio\"][\"mean\"]\n",
    "#     record[\"abcd_closure_ratio_std\"] = aggregated[\"closure_ratio\"][\"std\"]\n",
    "#     record[\"abcd_closure_ratio_median\"] = aggregated[\"closure_ratio\"][\"median\"]\n",
    "#     record[\"abcd_pull_mean\"] = aggregated[\"pull\"][\"mean\"]\n",
    "#     record[\"abcd_pull_std\"] = aggregated[\"pull\"][\"std\"]\n",
    "#     record[\"abcd_pull_rms\"] = aggregated[\"pull\"][\"rms\"]\n",
    "#     record[\"abcd_pull_median\"] = aggregated[\"pull\"][\"median\"]\n",
    "#     record[\"transfer_factor_B_over_D_mean\"] = aggregated[\"transfer_factor_B_over_D\"][\"mean\"]\n",
    "#     record[\"transfer_factor_B_over_D_std\"] = aggregated[\"transfer_factor_B_over_D\"][\"std\"]\n",
    "#     record[\"transfer_factor_C_over_D_mean\"] = aggregated[\"transfer_factor_C_over_D\"][\"mean\"]\n",
    "#     record[\"transfer_factor_C_over_D_std\"] = aggregated[\"transfer_factor_C_over_D\"][\"std\"]\n",
    "#     record[\"sideband_ratio_B_over_C_mean\"] = aggregated[\"sideband_ratio_B_over_C\"][\"mean\"]\n",
    "#     record[\"sideband_ratio_B_over_C_std\"] = aggregated[\"sideband_ratio_B_over_C\"][\"std\"]\n",
    "#     record[\"sideband_stability_mean\"] = aggregated[\"sideband_stability\"][\"mean\"]\n",
    "#     record[\"sideband_stability_std\"] = aggregated[\"sideband_stability\"][\"std\"]\n",
    "#     record[\"asimov_significance_mean\"] = aggregated[\"asimov_significance\"][\"mean\"]\n",
    "#     record[\"asimov_significance_max\"] = aggregated[\"asimov_significance\"][\"max\"]\n",
    "#     for item in jsd_points:\n",
    "#         eff = int(item[\"target_signal_efficiency\"] * 100)\n",
    "#         record[f\"inverse_jsd_{eff}pct\"] = item[\"inverse_jsd\"]\n",
    "#         record[f\"background_rejection_{eff}pct\"] = item[\"background_rejection\"]\n",
    "\n",
    "#     history.append(record)\n",
    "\n",
    "#     # Persist a checkpoint capturing everything needed to resume training and\n",
    "#     # redo evaluations, aligning with the per-epoch storage requirement.\n",
    "#     val_record = {\n",
    "#         \"classification\": classification,\n",
    "#         \"roc\": {k: (v.tolist() if isinstance(v, np.ndarray) else v) for k, v in roc_diag.items()},\n",
    "#         \"abcd\": abcd_stats,\n",
    "#         \"jsd\": jsd_points,\n",
    "#         \"confusion_matrix\": classification[\"confusion_matrix\"].tolist(),\n",
    "#     }\n",
    "#     train_record = train_metrics\n",
    "#     extra = {\n",
    "#         \"val_scores\": s_val.tolist(),\n",
    "#         \"val_labels\": y_val.tolist(),\n",
    "#         \"val_weights\": w_val.tolist(),\n",
    "#         \"val_masses\": m_val.tolist(),\n",
    "#     }\n",
    "#     save_checkpoint(epoch, model, optimizer, history, train_record, val_record, extra)\n",
    "\n",
    "#     print(\n",
    "#         f\"AUC={roc_diag['auc']:.3f} | \"\n",
    "#         f\"val_acc={classification['accuracy']:.3f} | \"\n",
    "#         f\"closure@30%={record['abcd_closure_ratio_30pct']:.3f} | \"\n",
    "#         f\"train_loss={train_metrics.get('loss_cls', float('nan')):.3f}\"\n",
    "#     )\n",
    "\n",
    "# history_df = pd.DataFrame(history)\n",
    "# history_df.tail()\n",
    "\n"
   ]
  },
  {
   "cell_type": "code",
   "execution_count": 16,
   "id": "73d87e8b",
   "metadata": {},
   "outputs": [
    {
     "name": "stdout",
     "output_type": "stream",
     "text": [
      "Anti-collapse overrides active: logits-BCE, KL prior matching, confidence penalty, gradient clipping, AdamW.\n"
     ]
    }
   ],
   "source": [
    "# Anti-collapse overrides for training and QNode. Run this cell once before training.\n",
    "\n",
    "EPS = 1e-8\n",
    "ENTROPY_COEFF = 0.02          # confidence penalty weight (small)\n",
    "PRIOR_MATCH_COEFF = 0.2       # batch prior-matching KL weight\n",
    "VARIANCE_FLOOR = 0.02         # optional: minimum score variance target\n",
    "VARIANCE_COEFF = 0.02         # weight for variance floor penalty\n",
    "CLIP_NORM = 1.0               # gradient clipping\n",
    "WEIGHT_DECAY = 1e-3           # AdamW weight decay\n",
    "LEARNING_RATE = 5e-4          # slightly lower LR for stability\n",
    "\n",
    "# ---- Re-define compute_losses to use BCE-with-logits + anti-collapse terms ----\n",
    "def compute_losses(model: nn.Module, batch: Tuple[torch.Tensor, ...], lambda_mass: float = LAMBDA_MASS) -> Tuple[torch.Tensor, Dict[str, float]]:\n",
    "    features, labels, weights, masses = batch\n",
    "    features = features.to(DEVICE)\n",
    "    labels = labels.to(DEVICE).float()\n",
    "    weights = weights.to(DEVICE).float()\n",
    "    masses = masses.to(DEVICE).float()\n",
    "\n",
    "    logits, score = model(features)  # score still used for metrics/DisCo\n",
    "    # Use logit difference for BCE-with-logits (binary)\n",
    "    logit = (logits[:, 1] - logits[:, 0]).contiguous()\n",
    "\n",
    "    # Weighted pos_weight for class imbalance (computed per-batch)\n",
    "    pos_mask = labels > 0.5\n",
    "    w_pos = weights[pos_mask].sum()\n",
    "    w_neg = weights[~pos_mask].sum()\n",
    "    pos_weight = (w_neg / (w_pos + EPS)).clamp(min=0.5, max=5.0)\n",
    "\n",
    "    # Weighted BCE-with-logits\n",
    "    per_example = F.binary_cross_entropy_with_logits(logit, labels, reduction=\"none\", pos_weight=pos_weight)\n",
    "    loss_cls = (weights * per_example).sum() / (weights.sum() + EPS)\n",
    "\n",
    "    # Anti-collapse: (1) batch prior matching (weighted)\n",
    "    probs = torch.softmax(logits, dim=1)\n",
    "    wsum = weights.sum() + EPS\n",
    "    p_bar = (probs * weights.unsqueeze(1)).sum(dim=0) / wsum\n",
    "    prior_pos = (w_pos / (w_pos + w_neg + EPS)).clamp(1e-3, 1 - 1e-3)\n",
    "    prior = torch.stack([1.0 - prior_pos, prior_pos])\n",
    "    kl_prior = (p_bar * (p_bar.add(EPS).log() - prior.add(EPS).log())).sum()\n",
    "\n",
    "    # Anti-collapse: (2) confidence penalty (maximize entropy => add -H)\n",
    "    entropy = -(probs * (probs + EPS).log()).sum(dim=1).mean()\n",
    "    conf_penalty = -ENTROPY_COEFF * entropy\n",
    "\n",
    "    # Optional: encourage non-zero variance of the score\n",
    "    mu = (weights * score).sum() / wsum\n",
    "    var = (weights * (score - mu).pow(2)).sum() / wsum\n",
    "    var_penalty = VARIANCE_COEFF * F.relu(VARIANCE_FLOOR - var)\n",
    "\n",
    "    loss = loss_cls + PRIOR_MATCH_COEFF * kl_prior + conf_penalty + var_penalty\n",
    "\n",
    "    # DisCo decorrelation on background (unchanged)\n",
    "    background = labels < 0.5\n",
    "    metrics = {\n",
    "        \"loss_cls\": float(loss_cls.detach().cpu()),\n",
    "        \"accuracy\": float(compute_weighted_classification_stats(labels, score, weights)[\"accuracy\"]),\n",
    "    }\n",
    "    if background.any() and lambda_mass > 0.0:\n",
    "        w_bkg = torch.ones_like(weights[background])\n",
    "        d_mass = distance_corr_safe(score[background], masses[background], w_bkg)\n",
    "        loss = loss + lambda_mass * d_mass\n",
    "        metrics[\"dCorr_s_m\"] = float(d_mass.detach().cpu())\n",
    "\n",
    "    return loss, metrics\n",
    "\n",
    "# ---- Gradient clipping in the training step ----\n",
    "def train_one_epoch(model: nn.Module, loader: DataLoader, optimizer: torch.optim.Optimizer, lambda_mass: float = LAMBDA_MASS) -> Dict[str, float]:\n",
    "    model.train()\n",
    "    agg: Dict[str, List[float]] = {}\n",
    "    total_examples = 0\n",
    "    for batch in tqdm(loader, leave=False, desc=\"train\"):\n",
    "        optimizer.zero_grad(set_to_none=True)\n",
    "        loss, metrics = compute_losses(model, batch, lambda_mass)\n",
    "        loss.backward()\n",
    "        torch.nn.utils.clip_grad_norm_(model.parameters(), CLIP_NORM)\n",
    "        optimizer.step()\n",
    "        batch_size = batch[0].shape[0]\n",
    "        total_examples += batch_size\n",
    "        for k, v in metrics.items():\n",
    "            agg.setdefault(k, []).append(v)\n",
    "        agg.setdefault(\"loss\", []).append(float(loss.detach().cpu()))\n",
    "    return {k: float(np.mean(v)) for k, v in agg.items()}\n",
    "\n",
    "# ---- Widen quantum readout and bound embedding ----\n",
    "if BACKEND == \"qml\" and hasattr(model, \"qlayer\"):\n",
    "    # Rebuild the PennyLane module with safer embedding and richer readout\n",
    "    class PennyLaneSingleDisco(nn.Module):\n",
    "        def __init__(self, n_features: int, n_qubits: int = globals().get(\"N_QUBITS\", 6), layers: int = globals().get(\"QML_LAYERS\", 3), device_name: str = globals().get(\"QML_DEVICE\", \"default.qubit\")):\n",
    "            if not PENNYLANE_AVAILABLE:\n",
    "                raise RuntimeError(\"PennyLane is not installed.\")\n",
    "            super().__init__()\n",
    "            self.n_qubits = n_qubits\n",
    "            self.n_features = n_features\n",
    "            self.compressor = nn.Sequential(\n",
    "                nn.Linear(n_features, n_qubits),\n",
    "                nn.LeakyReLU(),\n",
    "                nn.Dropout(p=0.1),\n",
    "            )\n",
    "            qdevice = qml.device(device_name, wires=n_qubits)\n",
    "            weight_shapes = { \"weights_strong\": (layers, n_qubits, 3) }\n",
    "\n",
    "            @qml.qnode(qdevice, interface=\"torch\")\n",
    "            def circuit(inputs, weights_strong):\n",
    "                take = min(inputs.shape[-1], n_qubits)\n",
    "                if inputs.ndim == 1:\n",
    "                    x_pad = torch.zeros((n_qubits,), dtype=inputs.dtype, device=inputs.device)\n",
    "                    x_pad[:take] = inputs[:take]\n",
    "                else:\n",
    "                    pad_shape = tuple(list(inputs.shape[:-1]) + [n_qubits])\n",
    "                    x_pad = torch.zeros(pad_shape, dtype=inputs.dtype, device=inputs.device)\n",
    "                    x_pad[..., :take] = inputs[..., :take]\n",
    "                angles = torch.pi * torch.tanh(x_pad)  # bound angles for stable grads\n",
    "                qml.templates.AngleEmbedding(angles, wires=range(n_qubits), rotation='Y')\n",
    "                qml.templates.StronglyEntanglingLayers(weights=weights_strong, wires=range(n_qubits))\n",
    "                return [qml.expval(qml.PauliZ(i)) for i in range(n_qubits)]\n",
    "\n",
    "            self.qlayer = qml.qnn.TorchLayer(circuit, weight_shapes)\n",
    "            self.head = nn.Linear(n_qubits, 2)\n",
    "\n",
    "        def forward(self, x: torch.Tensor) -> Tuple[torch.Tensor, torch.Tensor]:\n",
    "            angles = self.compressor(x)\n",
    "            q_features = self.qlayer(angles)\n",
    "            logits = self.head(q_features)\n",
    "            score = F.softmax(logits, dim=1)[:, 1]\n",
    "            return logits, score\n",
    "\n",
    "    # Rebuild model and optimizer with AdamW\n",
    "    model = build_model(len(FEATURE_NAMES))\n",
    "    optimizer = torch.optim.AdamW(model.parameters(), lr=LEARNING_RATE, weight_decay=WEIGHT_DECAY)\n",
    "else:\n",
    "    # Even for classical-only, AdamW + clipping + anti-collapse helps\n",
    "    try:\n",
    "        optimizer = torch.optim.AdamW(model.parameters(), lr=LEARNING_RATE, weight_decay=WEIGHT_DECAY)\n",
    "    except Exception:\n",
    "        pass\n",
    "\n",
    "print(\"Anti-collapse overrides active: logits-BCE, KL prior matching, confidence penalty, gradient clipping, AdamW.\")"
   ]
  },
  {
   "cell_type": "code",
   "execution_count": 17,
   "id": "ae7a74fb",
   "metadata": {},
   "outputs": [
    {
     "name": "stdout",
     "output_type": "stream",
     "text": [
      "compute_losses override loaded: metrics now include precision/recall/F1.\n"
     ]
    }
   ],
   "source": [
    "# Fix: compute_losses returns precision/recall/F1 (keeps anti-collapse + DisCo)\n",
    "# Run this cell once before training/evaluation\n",
    "\n",
    "def compute_losses(model: nn.Module, batch: Tuple[torch.Tensor, ...], lambda_mass: float = LAMBDA_MASS) -> Tuple[torch.Tensor, Dict[str, float]]:\n",
    "    features, labels, weights, masses = batch\n",
    "    features = features.to(DEVICE)\n",
    "    labels = labels.to(DEVICE).float()\n",
    "    weights = weights.to(DEVICE).float()\n",
    "    masses = masses.to(DEVICE).float()\n",
    "\n",
    "    logits, score = model(features)\n",
    "    logit = (logits[:, 1] - logits[:, 0]).contiguous()\n",
    "\n",
    "    # Batch imbalance handling\n",
    "    EPS = globals().get(\"EPS\", 1e-8)\n",
    "    pos_mask = labels > 0.5\n",
    "    w_pos = weights[pos_mask].sum()\n",
    "    w_neg = weights[~pos_mask].sum()\n",
    "    pos_weight = (w_neg / (w_pos + EPS)).clamp(min=0.5, max=5.0)\n",
    "\n",
    "    # Weighted BCE-with-logits (classification loss)\n",
    "    per_example = F.binary_cross_entropy_with_logits(logit, labels, reduction=\"none\", pos_weight=pos_weight)\n",
    "    loss_cls = (weights * per_example).sum() / (weights.sum() + EPS)\n",
    "\n",
    "    # Anti-collapse regularizers (safe defaults if not previously defined)\n",
    "    ENTROPY_COEFF = float(globals().get(\"ENTROPY_COEFF\", 0.01))\n",
    "    PRIOR_MATCH_COEFF = float(globals().get(\"PRIOR_MATCH_COEFF\", 0.1))\n",
    "    VARIANCE_FLOOR = float(globals().get(\"VARIANCE_FLOOR\", 0.02))\n",
    "    VARIANCE_COEFF = float(globals().get(\"VARIANCE_COEFF\", 0.02))\n",
    "\n",
    "    probs = torch.softmax(logits, dim=1)\n",
    "    wsum = weights.sum() + EPS\n",
    "    p_bar = (probs * weights.unsqueeze(1)).sum(dim=0) / wsum\n",
    "    prior_pos = (w_pos / (w_pos + w_neg + EPS)).clamp(1e-3, 1 - 1e-3)\n",
    "    prior = torch.stack([1.0 - prior_pos, prior_pos])\n",
    "    kl_prior = (p_bar * (p_bar.add(EPS).log() - prior.add(EPS).log())).sum()\n",
    "\n",
    "    entropy = -(probs * (probs + EPS).log()).sum(dim=1).mean()\n",
    "    conf_penalty = -ENTROPY_COEFF * entropy\n",
    "\n",
    "    mu = (weights * score).sum() / wsum\n",
    "    var = (weights * (score - mu).pow(2)).sum() / wsum\n",
    "    var_penalty = VARIANCE_COEFF * F.relu(VARIANCE_FLOOR - var)\n",
    "\n",
    "    loss = loss_cls + PRIOR_MATCH_COEFF * kl_prior + conf_penalty + var_penalty\n",
    "\n",
    "    # DisCo decorrelation on background\n",
    "    background = labels < 0.5\n",
    "    if background.any() and lambda_mass > 0.0:\n",
    "        w_bkg = torch.ones_like(weights[background])\n",
    "        d_mass = distance_corr_safe(score[background], masses[background], w_bkg)\n",
    "        loss = loss + lambda_mass * d_mass\n",
    "    else:\n",
    "        d_mass = None\n",
    "\n",
    "    # Full classification stats expected by evaluate()\n",
    "    stats = compute_weighted_classification_stats(labels, score, weights)\n",
    "    metrics: Dict[str, float] = {\n",
    "        \"loss_cls\": float(loss_cls.detach().cpu()),\n",
    "        \"accuracy\": float(stats.get(\"accuracy\", float(\"nan\"))),\n",
    "        \"precision\": float(stats.get(\"precision\", float(\"nan\"))),\n",
    "        \"recall\": float(stats.get(\"recall\", float(\"nan\"))),\n",
    "        \"f1\": float(stats.get(\"f1\", float(\"nan\"))),\n",
    "    }\n",
    "    if d_mass is not None:\n",
    "        metrics[\"dCorr_s_m\"] = float(d_mass.detach().cpu())\n",
    "\n",
    "    return loss, metrics\n",
    "\n",
    "print(\"compute_losses override loaded: metrics now include precision/recall/F1.\")\n"
   ]
  },
  {
   "cell_type": "code",
   "execution_count": null,
   "id": "1b6468b4",
   "metadata": {},
   "outputs": [
    {
     "name": "stdout",
     "output_type": "stream",
     "text": [
      "Epoch 000\n",
      "Current lambda_mass: 5.00\n"
     ]
    },
    {
     "name": "stderr",
     "output_type": "stream",
     "text": [
      "                                                        \r"
     ]
    },
    {
     "name": "stdout",
     "output_type": "stream",
     "text": [
      "JSDvsR 10 0.09998398\n",
      "JSDvsR 30 0.3\n",
      "JSDvsR 60 0.599992\n"
     ]
    },
    {
     "name": "stderr",
     "output_type": "stream",
     "text": [
      "/tmp/ipykernel_1531467/4283937357.py:241: DeprecationWarning: datetime.datetime.utcnow() is deprecated and scheduled for removal in a future version. Use timezone-aware objects to represent datetimes in UTC: datetime.datetime.now(datetime.UTC).\n",
      "  \"timestamp\": datetime.utcnow().isoformat() + \"Z\",\n"
     ]
    },
    {
     "name": "stdout",
     "output_type": "stream",
     "text": [
      "Checkpoint saved to /global/u2/s/sungwon/QML_project/ABCDisCo/notebook/checkpoints_qml_single_disco/epoch_000.pth\n",
      "AUC=0.139 | val_acc=0.501 | closure@30%=3.648 | train_loss=0.704 | λ=5.0\n",
      "Epoch 001\n",
      "Current lambda_mass: 6.00\n"
     ]
    },
    {
     "name": "stderr",
     "output_type": "stream",
     "text": [
      "                                                        \r"
     ]
    },
    {
     "name": "stdout",
     "output_type": "stream",
     "text": [
      "JSDvsR 10 0.099951945\n",
      "JSDvsR 30 0.299992\n",
      "JSDvsR 60 0.59997594\n"
     ]
    },
    {
     "name": "stderr",
     "output_type": "stream",
     "text": [
      "/tmp/ipykernel_1531467/4283937357.py:241: DeprecationWarning: datetime.datetime.utcnow() is deprecated and scheduled for removal in a future version. Use timezone-aware objects to represent datetimes in UTC: datetime.datetime.now(datetime.UTC).\n",
      "  \"timestamp\": datetime.utcnow().isoformat() + \"Z\",\n"
     ]
    },
    {
     "name": "stdout",
     "output_type": "stream",
     "text": [
      "Checkpoint saved to /global/u2/s/sungwon/QML_project/ABCDisCo/notebook/checkpoints_qml_single_disco/epoch_001.pth\n",
      "AUC=0.255 | val_acc=0.501 | closure@30%=0.996 | train_loss=0.696 | λ=6.0\n",
      "Epoch 002\n",
      "Current lambda_mass: 7.00\n"
     ]
    },
    {
     "name": "stderr",
     "output_type": "stream",
     "text": [
      "                                                        \r"
     ]
    },
    {
     "name": "stdout",
     "output_type": "stream",
     "text": [
      "JSDvsR 10 0.1\n",
      "JSDvsR 30 0.2999199\n",
      "JSDvsR 60 0.59995997\n"
     ]
    },
    {
     "name": "stderr",
     "output_type": "stream",
     "text": [
      "/tmp/ipykernel_1531467/4283937357.py:241: DeprecationWarning: datetime.datetime.utcnow() is deprecated and scheduled for removal in a future version. Use timezone-aware objects to represent datetimes in UTC: datetime.datetime.now(datetime.UTC).\n",
      "  \"timestamp\": datetime.utcnow().isoformat() + \"Z\",\n"
     ]
    },
    {
     "name": "stdout",
     "output_type": "stream",
     "text": [
      "Checkpoint saved to /global/u2/s/sungwon/QML_project/ABCDisCo/notebook/checkpoints_qml_single_disco/epoch_002.pth\n",
      "AUC=0.209 | val_acc=0.501 | closure@30%=1.878 | train_loss=0.695 | λ=7.0\n",
      "Epoch 003\n",
      "Current lambda_mass: 8.00\n"
     ]
    },
    {
     "name": "stderr",
     "output_type": "stream",
     "text": [
      "                                                        \r"
     ]
    },
    {
     "name": "stdout",
     "output_type": "stream",
     "text": [
      "JSDvsR 10 0.09998398\n",
      "JSDvsR 30 0.3\n",
      "JSDvsR 60 0.5999519\n"
     ]
    },
    {
     "name": "stderr",
     "output_type": "stream",
     "text": [
      "/tmp/ipykernel_1531467/4283937357.py:241: DeprecationWarning: datetime.datetime.utcnow() is deprecated and scheduled for removal in a future version. Use timezone-aware objects to represent datetimes in UTC: datetime.datetime.now(datetime.UTC).\n",
      "  \"timestamp\": datetime.utcnow().isoformat() + \"Z\",\n"
     ]
    },
    {
     "name": "stdout",
     "output_type": "stream",
     "text": [
      "Checkpoint saved to /global/u2/s/sungwon/QML_project/ABCDisCo/notebook/checkpoints_qml_single_disco/epoch_003.pth\n",
      "AUC=0.296 | val_acc=0.365 | closure@30%=0.952 | train_loss=0.695 | λ=8.0\n",
      "Epoch 004\n",
      "Current lambda_mass: 9.00\n"
     ]
    },
    {
     "name": "stderr",
     "output_type": "stream",
     "text": [
      "                                                        \r"
     ]
    },
    {
     "name": "stdout",
     "output_type": "stream",
     "text": [
      "JSDvsR 10 0.09997597\n",
      "JSDvsR 30 0.299992\n",
      "JSDvsR 60 0.599992\n"
     ]
    },
    {
     "name": "stderr",
     "output_type": "stream",
     "text": [
      "/tmp/ipykernel_1531467/4283937357.py:241: DeprecationWarning: datetime.datetime.utcnow() is deprecated and scheduled for removal in a future version. Use timezone-aware objects to represent datetimes in UTC: datetime.datetime.now(datetime.UTC).\n",
      "  \"timestamp\": datetime.utcnow().isoformat() + \"Z\",\n"
     ]
    },
    {
     "name": "stdout",
     "output_type": "stream",
     "text": [
      "Checkpoint saved to /global/u2/s/sungwon/QML_project/ABCDisCo/notebook/checkpoints_qml_single_disco/epoch_004.pth\n",
      "AUC=0.290 | val_acc=0.355 | closure@30%=1.202 | train_loss=0.695 | λ=9.0\n",
      "Epoch 005\n",
      "Current lambda_mass: 10.00\n"
     ]
    },
    {
     "name": "stderr",
     "output_type": "stream",
     "text": [
      "                                                        \r"
     ]
    },
    {
     "name": "stdout",
     "output_type": "stream",
     "text": [
      "JSDvsR 10 0.1\n",
      "JSDvsR 30 0.29996797\n",
      "JSDvsR 60 0.59996796\n"
     ]
    },
    {
     "name": "stderr",
     "output_type": "stream",
     "text": [
      "/tmp/ipykernel_1531467/4283937357.py:241: DeprecationWarning: datetime.datetime.utcnow() is deprecated and scheduled for removal in a future version. Use timezone-aware objects to represent datetimes in UTC: datetime.datetime.now(datetime.UTC).\n",
      "  \"timestamp\": datetime.utcnow().isoformat() + \"Z\",\n"
     ]
    },
    {
     "name": "stdout",
     "output_type": "stream",
     "text": [
      "Checkpoint saved to /global/u2/s/sungwon/QML_project/ABCDisCo/notebook/checkpoints_qml_single_disco/epoch_005.pth\n",
      "AUC=0.305 | val_acc=0.356 | closure@30%=1.272 | train_loss=0.695 | λ=10.0\n",
      "Epoch 006\n",
      "Current lambda_mass: 11.00\n"
     ]
    },
    {
     "name": "stderr",
     "output_type": "stream",
     "text": [
      "                                                        \r"
     ]
    },
    {
     "name": "stdout",
     "output_type": "stream",
     "text": [
      "JSDvsR 10 0.1\n",
      "JSDvsR 30 0.29997596\n",
      "JSDvsR 60 0.599984\n"
     ]
    },
    {
     "name": "stderr",
     "output_type": "stream",
     "text": [
      "/tmp/ipykernel_1531467/4283937357.py:241: DeprecationWarning: datetime.datetime.utcnow() is deprecated and scheduled for removal in a future version. Use timezone-aware objects to represent datetimes in UTC: datetime.datetime.now(datetime.UTC).\n",
      "  \"timestamp\": datetime.utcnow().isoformat() + \"Z\",\n"
     ]
    },
    {
     "name": "stdout",
     "output_type": "stream",
     "text": [
      "Checkpoint saved to /global/u2/s/sungwon/QML_project/ABCDisCo/notebook/checkpoints_qml_single_disco/epoch_006.pth\n",
      "AUC=0.326 | val_acc=0.377 | closure@30%=1.220 | train_loss=0.695 | λ=11.0\n",
      "Epoch 007\n",
      "Current lambda_mass: 12.00\n"
     ]
    },
    {
     "name": "stderr",
     "output_type": "stream",
     "text": [
      "                                                        \r"
     ]
    },
    {
     "name": "stdout",
     "output_type": "stream",
     "text": [
      "JSDvsR 10 0.09998398\n",
      "JSDvsR 30 0.3\n",
      "JSDvsR 60 0.5999039\n"
     ]
    },
    {
     "name": "stderr",
     "output_type": "stream",
     "text": [
      "/tmp/ipykernel_1531467/4283937357.py:241: DeprecationWarning: datetime.datetime.utcnow() is deprecated and scheduled for removal in a future version. Use timezone-aware objects to represent datetimes in UTC: datetime.datetime.now(datetime.UTC).\n",
      "  \"timestamp\": datetime.utcnow().isoformat() + \"Z\",\n"
     ]
    },
    {
     "name": "stdout",
     "output_type": "stream",
     "text": [
      "Checkpoint saved to /global/u2/s/sungwon/QML_project/ABCDisCo/notebook/checkpoints_qml_single_disco/epoch_007.pth\n",
      "AUC=0.424 | val_acc=0.487 | closure@30%=0.730 | train_loss=0.695 | λ=12.0\n",
      "Epoch 008\n",
      "Current lambda_mass: 13.00\n"
     ]
    },
    {
     "name": "stderr",
     "output_type": "stream",
     "text": [
      "                                                        \r"
     ]
    },
    {
     "name": "stdout",
     "output_type": "stream",
     "text": [
      "JSDvsR 10 0.09999199\n",
      "JSDvsR 30 0.29993594\n",
      "JSDvsR 60 0.59997594\n"
     ]
    },
    {
     "name": "stderr",
     "output_type": "stream",
     "text": [
      "/tmp/ipykernel_1531467/4283937357.py:241: DeprecationWarning: datetime.datetime.utcnow() is deprecated and scheduled for removal in a future version. Use timezone-aware objects to represent datetimes in UTC: datetime.datetime.now(datetime.UTC).\n",
      "  \"timestamp\": datetime.utcnow().isoformat() + \"Z\",\n"
     ]
    },
    {
     "name": "stdout",
     "output_type": "stream",
     "text": [
      "Checkpoint saved to /global/u2/s/sungwon/QML_project/ABCDisCo/notebook/checkpoints_qml_single_disco/epoch_008.pth\n",
      "AUC=0.407 | val_acc=0.467 | closure@30%=0.849 | train_loss=0.695 | λ=13.0\n",
      "Epoch 009\n",
      "Current lambda_mass: 14.00\n"
     ]
    },
    {
     "name": "stderr",
     "output_type": "stream",
     "text": [
      "                                                        \r"
     ]
    },
    {
     "name": "stdout",
     "output_type": "stream",
     "text": [
      "JSDvsR 10 0.099959955\n",
      "JSDvsR 30 0.29998398\n",
      "JSDvsR 60 0.5999279\n"
     ]
    },
    {
     "name": "stderr",
     "output_type": "stream",
     "text": [
      "/tmp/ipykernel_1531467/4283937357.py:241: DeprecationWarning: datetime.datetime.utcnow() is deprecated and scheduled for removal in a future version. Use timezone-aware objects to represent datetimes in UTC: datetime.datetime.now(datetime.UTC).\n",
      "  \"timestamp\": datetime.utcnow().isoformat() + \"Z\",\n"
     ]
    },
    {
     "name": "stdout",
     "output_type": "stream",
     "text": [
      "Checkpoint saved to /global/u2/s/sungwon/QML_project/ABCDisCo/notebook/checkpoints_qml_single_disco/epoch_009.pth\n",
      "AUC=0.453 | val_acc=0.466 | closure@30%=0.712 | train_loss=0.695 | λ=14.0\n",
      "Epoch 010\n",
      "Current lambda_mass: 15.00\n"
     ]
    },
    {
     "name": "stderr",
     "output_type": "stream",
     "text": [
      "                                                        \r"
     ]
    },
    {
     "name": "stdout",
     "output_type": "stream",
     "text": [
      "JSDvsR 10 0.09999199\n",
      "JSDvsR 30 0.29994392\n",
      "JSDvsR 60 0.59995997\n"
     ]
    },
    {
     "name": "stderr",
     "output_type": "stream",
     "text": [
      "/tmp/ipykernel_1531467/4283937357.py:241: DeprecationWarning: datetime.datetime.utcnow() is deprecated and scheduled for removal in a future version. Use timezone-aware objects to represent datetimes in UTC: datetime.datetime.now(datetime.UTC).\n",
      "  \"timestamp\": datetime.utcnow().isoformat() + \"Z\",\n"
     ]
    },
    {
     "name": "stdout",
     "output_type": "stream",
     "text": [
      "Checkpoint saved to /global/u2/s/sungwon/QML_project/ABCDisCo/notebook/checkpoints_qml_single_disco/epoch_010.pth\n",
      "AUC=0.430 | val_acc=0.448 | closure@30%=0.864 | train_loss=0.695 | λ=15.0\n",
      "Epoch 011\n",
      "Current lambda_mass: 16.00\n"
     ]
    },
    {
     "name": "stderr",
     "output_type": "stream",
     "text": [
      "                                                        \r"
     ]
    },
    {
     "name": "stdout",
     "output_type": "stream",
     "text": [
      "JSDvsR 10 0.09997597\n",
      "JSDvsR 30 0.29997596\n",
      "JSDvsR 60 0.6\n"
     ]
    },
    {
     "name": "stderr",
     "output_type": "stream",
     "text": [
      "/tmp/ipykernel_1531467/4283937357.py:241: DeprecationWarning: datetime.datetime.utcnow() is deprecated and scheduled for removal in a future version. Use timezone-aware objects to represent datetimes in UTC: datetime.datetime.now(datetime.UTC).\n",
      "  \"timestamp\": datetime.utcnow().isoformat() + \"Z\",\n"
     ]
    },
    {
     "name": "stdout",
     "output_type": "stream",
     "text": [
      "Checkpoint saved to /global/u2/s/sungwon/QML_project/ABCDisCo/notebook/checkpoints_qml_single_disco/epoch_011.pth\n",
      "AUC=0.403 | val_acc=0.434 | closure@30%=1.028 | train_loss=0.695 | λ=16.0\n",
      "Epoch 012\n",
      "Current lambda_mass: 17.00\n"
     ]
    },
    {
     "name": "stderr",
     "output_type": "stream",
     "text": [
      "                                                        \r"
     ]
    },
    {
     "name": "stdout",
     "output_type": "stream",
     "text": [
      "JSDvsR 10 0.1\n",
      "JSDvsR 30 0.29998398\n",
      "JSDvsR 60 0.599992\n"
     ]
    },
    {
     "name": "stderr",
     "output_type": "stream",
     "text": [
      "/tmp/ipykernel_1531467/4283937357.py:241: DeprecationWarning: datetime.datetime.utcnow() is deprecated and scheduled for removal in a future version. Use timezone-aware objects to represent datetimes in UTC: datetime.datetime.now(datetime.UTC).\n",
      "  \"timestamp\": datetime.utcnow().isoformat() + \"Z\",\n"
     ]
    },
    {
     "name": "stdout",
     "output_type": "stream",
     "text": [
      "Checkpoint saved to /global/u2/s/sungwon/QML_project/ABCDisCo/notebook/checkpoints_qml_single_disco/epoch_012.pth\n",
      "AUC=0.475 | val_acc=0.488 | closure@30%=0.718 | train_loss=0.695 | λ=17.0\n",
      "Epoch 013\n",
      "Current lambda_mass: 18.00\n"
     ]
    },
    {
     "name": "stderr",
     "output_type": "stream",
     "text": [
      "                                                        \r"
     ]
    },
    {
     "name": "stdout",
     "output_type": "stream",
     "text": [
      "JSDvsR 10 0.1\n",
      "JSDvsR 30 0.3\n",
      "JSDvsR 60 0.6\n"
     ]
    },
    {
     "name": "stderr",
     "output_type": "stream",
     "text": [
      "/tmp/ipykernel_1531467/4283937357.py:241: DeprecationWarning: datetime.datetime.utcnow() is deprecated and scheduled for removal in a future version. Use timezone-aware objects to represent datetimes in UTC: datetime.datetime.now(datetime.UTC).\n",
      "  \"timestamp\": datetime.utcnow().isoformat() + \"Z\",\n"
     ]
    },
    {
     "name": "stdout",
     "output_type": "stream",
     "text": [
      "Checkpoint saved to /global/u2/s/sungwon/QML_project/ABCDisCo/notebook/checkpoints_qml_single_disco/epoch_013.pth\n",
      "AUC=0.449 | val_acc=0.466 | closure@30%=0.910 | train_loss=0.695 | λ=18.0\n",
      "Epoch 014\n",
      "Current lambda_mass: 19.00\n"
     ]
    },
    {
     "name": "stderr",
     "output_type": "stream",
     "text": [
      "                                                        \r"
     ]
    },
    {
     "name": "stdout",
     "output_type": "stream",
     "text": [
      "JSDvsR 10 0.1\n",
      "JSDvsR 30 0.299992\n",
      "JSDvsR 60 0.6\n"
     ]
    },
    {
     "name": "stderr",
     "output_type": "stream",
     "text": [
      "/tmp/ipykernel_1531467/4283937357.py:241: DeprecationWarning: datetime.datetime.utcnow() is deprecated and scheduled for removal in a future version. Use timezone-aware objects to represent datetimes in UTC: datetime.datetime.now(datetime.UTC).\n",
      "  \"timestamp\": datetime.utcnow().isoformat() + \"Z\",\n"
     ]
    },
    {
     "name": "stdout",
     "output_type": "stream",
     "text": [
      "Checkpoint saved to /global/u2/s/sungwon/QML_project/ABCDisCo/notebook/checkpoints_qml_single_disco/epoch_014.pth\n",
      "AUC=0.485 | val_acc=0.493 | closure@30%=0.784 | train_loss=0.695 | λ=19.0\n",
      "Epoch 015\n",
      "Current lambda_mass: 20.00\n"
     ]
    },
    {
     "name": "stderr",
     "output_type": "stream",
     "text": [
      "                                                        \r"
     ]
    },
    {
     "name": "stdout",
     "output_type": "stream",
     "text": [
      "JSDvsR 10 0.09997597\n",
      "JSDvsR 30 0.29998398\n",
      "JSDvsR 60 0.599992\n"
     ]
    },
    {
     "name": "stderr",
     "output_type": "stream",
     "text": [
      "/tmp/ipykernel_1531467/4283937357.py:241: DeprecationWarning: datetime.datetime.utcnow() is deprecated and scheduled for removal in a future version. Use timezone-aware objects to represent datetimes in UTC: datetime.datetime.now(datetime.UTC).\n",
      "  \"timestamp\": datetime.utcnow().isoformat() + \"Z\",\n"
     ]
    },
    {
     "name": "stdout",
     "output_type": "stream",
     "text": [
      "Checkpoint saved to /global/u2/s/sungwon/QML_project/ABCDisCo/notebook/checkpoints_qml_single_disco/epoch_015.pth\n",
      "AUC=0.509 | val_acc=0.494 | closure@30%=0.724 | train_loss=0.695 | λ=20.0\n",
      "Epoch 016\n",
      "Current lambda_mass: 21.00\n"
     ]
    },
    {
     "name": "stderr",
     "output_type": "stream",
     "text": [
      "                                                        \r"
     ]
    },
    {
     "name": "stdout",
     "output_type": "stream",
     "text": [
      "JSDvsR 10 0.09999199\n",
      "JSDvsR 30 0.3\n",
      "JSDvsR 60 0.59997594\n"
     ]
    },
    {
     "name": "stderr",
     "output_type": "stream",
     "text": [
      "/tmp/ipykernel_1531467/4283937357.py:241: DeprecationWarning: datetime.datetime.utcnow() is deprecated and scheduled for removal in a future version. Use timezone-aware objects to represent datetimes in UTC: datetime.datetime.now(datetime.UTC).\n",
      "  \"timestamp\": datetime.utcnow().isoformat() + \"Z\",\n"
     ]
    },
    {
     "name": "stdout",
     "output_type": "stream",
     "text": [
      "Checkpoint saved to /global/u2/s/sungwon/QML_project/ABCDisCo/notebook/checkpoints_qml_single_disco/epoch_016.pth\n",
      "AUC=0.475 | val_acc=0.477 | closure@30%=0.865 | train_loss=0.695 | λ=21.0\n",
      "Epoch 017\n",
      "Current lambda_mass: 22.00\n"
     ]
    },
    {
     "name": "stderr",
     "output_type": "stream",
     "text": [
      "                                                        \r"
     ]
    },
    {
     "name": "stdout",
     "output_type": "stream",
     "text": [
      "JSDvsR 10 0.09997597\n",
      "JSDvsR 30 0.29997596\n",
      "JSDvsR 60 0.599984\n"
     ]
    },
    {
     "name": "stderr",
     "output_type": "stream",
     "text": [
      "/tmp/ipykernel_1531467/4283937357.py:241: DeprecationWarning: datetime.datetime.utcnow() is deprecated and scheduled for removal in a future version. Use timezone-aware objects to represent datetimes in UTC: datetime.datetime.now(datetime.UTC).\n",
      "  \"timestamp\": datetime.utcnow().isoformat() + \"Z\",\n"
     ]
    },
    {
     "name": "stdout",
     "output_type": "stream",
     "text": [
      "Checkpoint saved to /global/u2/s/sungwon/QML_project/ABCDisCo/notebook/checkpoints_qml_single_disco/epoch_017.pth\n",
      "AUC=0.514 | val_acc=0.511 | closure@30%=0.737 | train_loss=0.695 | λ=22.0\n",
      "Epoch 018\n",
      "Current lambda_mass: 23.00\n"
     ]
    },
    {
     "name": "stderr",
     "output_type": "stream",
     "text": [
      "                                                        \r"
     ]
    },
    {
     "name": "stdout",
     "output_type": "stream",
     "text": [
      "JSDvsR 10 0.1\n",
      "JSDvsR 30 0.3\n",
      "JSDvsR 60 0.599992\n"
     ]
    },
    {
     "name": "stderr",
     "output_type": "stream",
     "text": [
      "/tmp/ipykernel_1531467/4283937357.py:241: DeprecationWarning: datetime.datetime.utcnow() is deprecated and scheduled for removal in a future version. Use timezone-aware objects to represent datetimes in UTC: datetime.datetime.now(datetime.UTC).\n",
      "  \"timestamp\": datetime.utcnow().isoformat() + \"Z\",\n"
     ]
    },
    {
     "name": "stdout",
     "output_type": "stream",
     "text": [
      "Checkpoint saved to /global/u2/s/sungwon/QML_project/ABCDisCo/notebook/checkpoints_qml_single_disco/epoch_018.pth\n",
      "AUC=0.466 | val_acc=0.472 | closure@30%=0.981 | train_loss=0.694 | λ=23.0\n",
      "Epoch 019\n",
      "Current lambda_mass: 24.00\n"
     ]
    },
    {
     "name": "stderr",
     "output_type": "stream",
     "text": [
      "                                                        \r"
     ]
    },
    {
     "name": "stdout",
     "output_type": "stream",
     "text": [
      "JSDvsR 10 0.09998398\n",
      "JSDvsR 30 0.29995194\n",
      "JSDvsR 60 0.599992\n"
     ]
    },
    {
     "name": "stderr",
     "output_type": "stream",
     "text": [
      "/tmp/ipykernel_1531467/4283937357.py:241: DeprecationWarning: datetime.datetime.utcnow() is deprecated and scheduled for removal in a future version. Use timezone-aware objects to represent datetimes in UTC: datetime.datetime.now(datetime.UTC).\n",
      "  \"timestamp\": datetime.utcnow().isoformat() + \"Z\",\n"
     ]
    },
    {
     "name": "stdout",
     "output_type": "stream",
     "text": [
      "Checkpoint saved to /global/u2/s/sungwon/QML_project/ABCDisCo/notebook/checkpoints_qml_single_disco/epoch_019.pth\n",
      "AUC=0.430 | val_acc=0.460 | closure@30%=1.240 | train_loss=0.695 | λ=24.0\n",
      "Epoch 020\n",
      "Current lambda_mass: 25.00\n"
     ]
    },
    {
     "name": "stderr",
     "output_type": "stream",
     "text": [
      "                                                        \r"
     ]
    },
    {
     "name": "stdout",
     "output_type": "stream",
     "text": [
      "JSDvsR 10 0.1\n",
      "JSDvsR 30 0.29998398\n",
      "JSDvsR 60 0.6\n"
     ]
    },
    {
     "name": "stderr",
     "output_type": "stream",
     "text": [
      "/tmp/ipykernel_1531467/4283937357.py:241: DeprecationWarning: datetime.datetime.utcnow() is deprecated and scheduled for removal in a future version. Use timezone-aware objects to represent datetimes in UTC: datetime.datetime.now(datetime.UTC).\n",
      "  \"timestamp\": datetime.utcnow().isoformat() + \"Z\",\n"
     ]
    },
    {
     "name": "stdout",
     "output_type": "stream",
     "text": [
      "Checkpoint saved to /global/u2/s/sungwon/QML_project/ABCDisCo/notebook/checkpoints_qml_single_disco/epoch_020.pth\n",
      "AUC=0.562 | val_acc=0.545 | closure@30%=0.679 | train_loss=0.695 | λ=25.0\n",
      "Epoch 021\n",
      "Current lambda_mass: 26.00\n"
     ]
    },
    {
     "name": "stderr",
     "output_type": "stream",
     "text": [
      "                                                        \r"
     ]
    },
    {
     "name": "stdout",
     "output_type": "stream",
     "text": [
      "JSDvsR 10 0.09999199\n",
      "JSDvsR 30 0.29998398\n",
      "JSDvsR 60 0.599984\n"
     ]
    },
    {
     "name": "stderr",
     "output_type": "stream",
     "text": [
      "/tmp/ipykernel_1531467/4283937357.py:241: DeprecationWarning: datetime.datetime.utcnow() is deprecated and scheduled for removal in a future version. Use timezone-aware objects to represent datetimes in UTC: datetime.datetime.now(datetime.UTC).\n",
      "  \"timestamp\": datetime.utcnow().isoformat() + \"Z\",\n"
     ]
    },
    {
     "name": "stdout",
     "output_type": "stream",
     "text": [
      "Checkpoint saved to /global/u2/s/sungwon/QML_project/ABCDisCo/notebook/checkpoints_qml_single_disco/epoch_021.pth\n",
      "AUC=0.550 | val_acc=0.526 | closure@30%=0.709 | train_loss=0.695 | λ=26.0\n",
      "Epoch 022\n",
      "Current lambda_mass: 27.00\n"
     ]
    },
    {
     "name": "stderr",
     "output_type": "stream",
     "text": [
      "                                                        \r"
     ]
    },
    {
     "name": "stdout",
     "output_type": "stream",
     "text": [
      "JSDvsR 10 0.1\n",
      "JSDvsR 30 0.29996797\n",
      "JSDvsR 60 0.6\n"
     ]
    },
    {
     "name": "stderr",
     "output_type": "stream",
     "text": [
      "/tmp/ipykernel_1531467/4283937357.py:241: DeprecationWarning: datetime.datetime.utcnow() is deprecated and scheduled for removal in a future version. Use timezone-aware objects to represent datetimes in UTC: datetime.datetime.now(datetime.UTC).\n",
      "  \"timestamp\": datetime.utcnow().isoformat() + \"Z\",\n"
     ]
    },
    {
     "name": "stdout",
     "output_type": "stream",
     "text": [
      "Checkpoint saved to /global/u2/s/sungwon/QML_project/ABCDisCo/notebook/checkpoints_qml_single_disco/epoch_022.pth\n",
      "AUC=0.489 | val_acc=0.497 | closure@30%=1.009 | train_loss=0.695 | λ=27.0\n",
      "Epoch 023\n",
      "Current lambda_mass: 28.00\n"
     ]
    },
    {
     "name": "stderr",
     "output_type": "stream",
     "text": [
      "                                                        \r"
     ]
    },
    {
     "name": "stdout",
     "output_type": "stream",
     "text": [
      "JSDvsR 10 0.09999199\n",
      "JSDvsR 30 0.299992\n",
      "JSDvsR 60 0.59996796\n"
     ]
    },
    {
     "name": "stderr",
     "output_type": "stream",
     "text": [
      "/tmp/ipykernel_1531467/4283937357.py:241: DeprecationWarning: datetime.datetime.utcnow() is deprecated and scheduled for removal in a future version. Use timezone-aware objects to represent datetimes in UTC: datetime.datetime.now(datetime.UTC).\n",
      "  \"timestamp\": datetime.utcnow().isoformat() + \"Z\",\n"
     ]
    },
    {
     "name": "stdout",
     "output_type": "stream",
     "text": [
      "Checkpoint saved to /global/u2/s/sungwon/QML_project/ABCDisCo/notebook/checkpoints_qml_single_disco/epoch_023.pth\n",
      "AUC=0.563 | val_acc=0.513 | closure@30%=0.708 | train_loss=0.695 | λ=28.0\n",
      "Epoch 024\n",
      "Current lambda_mass: 29.00\n"
     ]
    },
    {
     "name": "stderr",
     "output_type": "stream",
     "text": [
      "                                                        \r"
     ]
    },
    {
     "name": "stdout",
     "output_type": "stream",
     "text": [
      "JSDvsR 10 0.1\n",
      "JSDvsR 30 0.29995194\n",
      "JSDvsR 60 0.599984\n"
     ]
    },
    {
     "name": "stderr",
     "output_type": "stream",
     "text": [
      "/tmp/ipykernel_1531467/4283937357.py:241: DeprecationWarning: datetime.datetime.utcnow() is deprecated and scheduled for removal in a future version. Use timezone-aware objects to represent datetimes in UTC: datetime.datetime.now(datetime.UTC).\n",
      "  \"timestamp\": datetime.utcnow().isoformat() + \"Z\",\n"
     ]
    },
    {
     "name": "stdout",
     "output_type": "stream",
     "text": [
      "Checkpoint saved to /global/u2/s/sungwon/QML_project/ABCDisCo/notebook/checkpoints_qml_single_disco/epoch_024.pth\n",
      "AUC=0.548 | val_acc=0.539 | closure@30%=0.770 | train_loss=0.694 | λ=29.0\n",
      "Epoch 025\n",
      "Current lambda_mass: 30.00\n"
     ]
    },
    {
     "name": "stderr",
     "output_type": "stream",
     "text": [
      "                                                        \r"
     ]
    },
    {
     "name": "stdout",
     "output_type": "stream",
     "text": [
      "JSDvsR 10 0.09998398\n",
      "JSDvsR 30 0.29997596\n",
      "JSDvsR 60 0.599984\n"
     ]
    },
    {
     "name": "stderr",
     "output_type": "stream",
     "text": [
      "/tmp/ipykernel_1531467/4283937357.py:241: DeprecationWarning: datetime.datetime.utcnow() is deprecated and scheduled for removal in a future version. Use timezone-aware objects to represent datetimes in UTC: datetime.datetime.now(datetime.UTC).\n",
      "  \"timestamp\": datetime.utcnow().isoformat() + \"Z\",\n"
     ]
    },
    {
     "name": "stdout",
     "output_type": "stream",
     "text": [
      "Checkpoint saved to /global/u2/s/sungwon/QML_project/ABCDisCo/notebook/checkpoints_qml_single_disco/epoch_025.pth\n",
      "AUC=0.541 | val_acc=0.495 | closure@30%=0.795 | train_loss=0.694 | λ=30.0\n",
      "Epoch 026\n",
      "Current lambda_mass: 31.00\n"
     ]
    },
    {
     "name": "stderr",
     "output_type": "stream",
     "text": [
      "                                                        \r"
     ]
    },
    {
     "name": "stdout",
     "output_type": "stream",
     "text": [
      "JSDvsR 10 0.09999199\n",
      "JSDvsR 30 0.29996797\n",
      "JSDvsR 60 0.59997594\n"
     ]
    },
    {
     "name": "stderr",
     "output_type": "stream",
     "text": [
      "/tmp/ipykernel_1531467/4283937357.py:241: DeprecationWarning: datetime.datetime.utcnow() is deprecated and scheduled for removal in a future version. Use timezone-aware objects to represent datetimes in UTC: datetime.datetime.now(datetime.UTC).\n",
      "  \"timestamp\": datetime.utcnow().isoformat() + \"Z\",\n"
     ]
    },
    {
     "name": "stdout",
     "output_type": "stream",
     "text": [
      "Checkpoint saved to /global/u2/s/sungwon/QML_project/ABCDisCo/notebook/checkpoints_qml_single_disco/epoch_026.pth\n",
      "AUC=0.556 | val_acc=0.534 | closure@30%=0.757 | train_loss=0.695 | λ=31.0\n",
      "Epoch 027\n",
      "Current lambda_mass: 32.00\n"
     ]
    },
    {
     "name": "stderr",
     "output_type": "stream",
     "text": [
      "                                                        \r"
     ]
    },
    {
     "name": "stdout",
     "output_type": "stream",
     "text": [
      "JSDvsR 10 0.1\n",
      "JSDvsR 30 0.29998398\n",
      "JSDvsR 60 0.599984\n"
     ]
    },
    {
     "name": "stderr",
     "output_type": "stream",
     "text": [
      "/tmp/ipykernel_1531467/4283937357.py:241: DeprecationWarning: datetime.datetime.utcnow() is deprecated and scheduled for removal in a future version. Use timezone-aware objects to represent datetimes in UTC: datetime.datetime.now(datetime.UTC).\n",
      "  \"timestamp\": datetime.utcnow().isoformat() + \"Z\",\n"
     ]
    },
    {
     "name": "stdout",
     "output_type": "stream",
     "text": [
      "Checkpoint saved to /global/u2/s/sungwon/QML_project/ABCDisCo/notebook/checkpoints_qml_single_disco/epoch_027.pth\n",
      "AUC=0.540 | val_acc=0.494 | closure@30%=0.824 | train_loss=0.694 | λ=32.0\n",
      "Epoch 028\n",
      "Current lambda_mass: 33.00\n"
     ]
    },
    {
     "name": "stderr",
     "output_type": "stream",
     "text": [
      "                                                        \r"
     ]
    },
    {
     "name": "stdout",
     "output_type": "stream",
     "text": [
      "JSDvsR 10 0.09998398\n",
      "JSDvsR 30 0.29997596\n",
      "JSDvsR 60 0.59995997\n"
     ]
    },
    {
     "name": "stderr",
     "output_type": "stream",
     "text": [
      "/tmp/ipykernel_1531467/4283937357.py:241: DeprecationWarning: datetime.datetime.utcnow() is deprecated and scheduled for removal in a future version. Use timezone-aware objects to represent datetimes in UTC: datetime.datetime.now(datetime.UTC).\n",
      "  \"timestamp\": datetime.utcnow().isoformat() + \"Z\",\n"
     ]
    },
    {
     "name": "stdout",
     "output_type": "stream",
     "text": [
      "Checkpoint saved to /global/u2/s/sungwon/QML_project/ABCDisCo/notebook/checkpoints_qml_single_disco/epoch_028.pth\n",
      "AUC=0.568 | val_acc=0.498 | closure@30%=0.738 | train_loss=0.695 | λ=33.0\n",
      "Epoch 029\n",
      "Current lambda_mass: 34.00\n"
     ]
    },
    {
     "name": "stderr",
     "output_type": "stream",
     "text": [
      "                                                        \r"
     ]
    },
    {
     "name": "stdout",
     "output_type": "stream",
     "text": [
      "JSDvsR 10 0.09999199\n",
      "JSDvsR 30 0.29996797\n",
      "JSDvsR 60 0.599984\n"
     ]
    },
    {
     "name": "stderr",
     "output_type": "stream",
     "text": [
      "/tmp/ipykernel_1531467/4283937357.py:241: DeprecationWarning: datetime.datetime.utcnow() is deprecated and scheduled for removal in a future version. Use timezone-aware objects to represent datetimes in UTC: datetime.datetime.now(datetime.UTC).\n",
      "  \"timestamp\": datetime.utcnow().isoformat() + \"Z\",\n"
     ]
    },
    {
     "name": "stdout",
     "output_type": "stream",
     "text": [
      "Checkpoint saved to /global/u2/s/sungwon/QML_project/ABCDisCo/notebook/checkpoints_qml_single_disco/epoch_029.pth\n",
      "AUC=0.517 | val_acc=0.488 | closure@30%=0.982 | train_loss=0.694 | λ=34.0\n",
      "Epoch 030\n",
      "Current lambda_mass: 35.00\n"
     ]
    },
    {
     "name": "stderr",
     "output_type": "stream",
     "text": [
      "                                                        \r"
     ]
    },
    {
     "name": "stdout",
     "output_type": "stream",
     "text": [
      "JSDvsR 10 0.1\n",
      "JSDvsR 30 0.3\n",
      "JSDvsR 60 0.6\n"
     ]
    },
    {
     "name": "stderr",
     "output_type": "stream",
     "text": [
      "/tmp/ipykernel_1531467/4283937357.py:241: DeprecationWarning: datetime.datetime.utcnow() is deprecated and scheduled for removal in a future version. Use timezone-aware objects to represent datetimes in UTC: datetime.datetime.now(datetime.UTC).\n",
      "  \"timestamp\": datetime.utcnow().isoformat() + \"Z\",\n"
     ]
    },
    {
     "name": "stdout",
     "output_type": "stream",
     "text": [
      "Checkpoint saved to /global/u2/s/sungwon/QML_project/ABCDisCo/notebook/checkpoints_qml_single_disco/epoch_030.pth\n",
      "AUC=0.541 | val_acc=0.525 | closure@30%=0.865 | train_loss=0.695 | λ=35.0\n",
      "Epoch 031\n",
      "Current lambda_mass: 36.00\n"
     ]
    },
    {
     "name": "stderr",
     "output_type": "stream",
     "text": [
      "                                                        \r"
     ]
    },
    {
     "name": "stdout",
     "output_type": "stream",
     "text": [
      "JSDvsR 10 0.09998398\n",
      "JSDvsR 30 0.3\n",
      "JSDvsR 60 0.59997594\n"
     ]
    },
    {
     "name": "stderr",
     "output_type": "stream",
     "text": [
      "/tmp/ipykernel_1531467/4283937357.py:241: DeprecationWarning: datetime.datetime.utcnow() is deprecated and scheduled for removal in a future version. Use timezone-aware objects to represent datetimes in UTC: datetime.datetime.now(datetime.UTC).\n",
      "  \"timestamp\": datetime.utcnow().isoformat() + \"Z\",\n"
     ]
    },
    {
     "name": "stdout",
     "output_type": "stream",
     "text": [
      "Checkpoint saved to /global/u2/s/sungwon/QML_project/ABCDisCo/notebook/checkpoints_qml_single_disco/epoch_031.pth\n",
      "AUC=0.553 | val_acc=0.543 | closure@30%=0.826 | train_loss=0.695 | λ=36.0\n",
      "Epoch 032\n",
      "Current lambda_mass: 37.00\n"
     ]
    },
    {
     "name": "stderr",
     "output_type": "stream",
     "text": [
      "                                                        \r"
     ]
    },
    {
     "name": "stdout",
     "output_type": "stream",
     "text": [
      "JSDvsR 10 0.1\n",
      "JSDvsR 30 0.299992\n",
      "JSDvsR 60 0.6\n"
     ]
    },
    {
     "name": "stderr",
     "output_type": "stream",
     "text": [
      "/tmp/ipykernel_1531467/4283937357.py:241: DeprecationWarning: datetime.datetime.utcnow() is deprecated and scheduled for removal in a future version. Use timezone-aware objects to represent datetimes in UTC: datetime.datetime.now(datetime.UTC).\n",
      "  \"timestamp\": datetime.utcnow().isoformat() + \"Z\",\n"
     ]
    },
    {
     "name": "stdout",
     "output_type": "stream",
     "text": [
      "Checkpoint saved to /global/u2/s/sungwon/QML_project/ABCDisCo/notebook/checkpoints_qml_single_disco/epoch_032.pth\n",
      "AUC=0.586 | val_acc=0.566 | closure@30%=0.699 | train_loss=0.694 | λ=37.0\n",
      "Epoch 033\n",
      "Current lambda_mass: 38.00\n"
     ]
    },
    {
     "name": "stderr",
     "output_type": "stream",
     "text": [
      "                                                        \r"
     ]
    },
    {
     "name": "stdout",
     "output_type": "stream",
     "text": [
      "JSDvsR 10 0.09999199\n",
      "JSDvsR 30 0.299992\n",
      "JSDvsR 60 0.59995997\n"
     ]
    },
    {
     "name": "stderr",
     "output_type": "stream",
     "text": [
      "/tmp/ipykernel_1531467/4283937357.py:241: DeprecationWarning: datetime.datetime.utcnow() is deprecated and scheduled for removal in a future version. Use timezone-aware objects to represent datetimes in UTC: datetime.datetime.now(datetime.UTC).\n",
      "  \"timestamp\": datetime.utcnow().isoformat() + \"Z\",\n"
     ]
    },
    {
     "name": "stdout",
     "output_type": "stream",
     "text": [
      "Checkpoint saved to /global/u2/s/sungwon/QML_project/ABCDisCo/notebook/checkpoints_qml_single_disco/epoch_033.pth\n",
      "AUC=0.603 | val_acc=0.565 | closure@30%=0.663 | train_loss=0.695 | λ=38.0\n",
      "Epoch 034\n",
      "Current lambda_mass: 39.00\n"
     ]
    },
    {
     "name": "stderr",
     "output_type": "stream",
     "text": [
      "                                                        \r"
     ]
    },
    {
     "name": "stdout",
     "output_type": "stream",
     "text": [
      "JSDvsR 10 0.1\n",
      "JSDvsR 30 0.3\n",
      "JSDvsR 60 0.59997594\n"
     ]
    },
    {
     "name": "stderr",
     "output_type": "stream",
     "text": [
      "/tmp/ipykernel_1531467/4283937357.py:241: DeprecationWarning: datetime.datetime.utcnow() is deprecated and scheduled for removal in a future version. Use timezone-aware objects to represent datetimes in UTC: datetime.datetime.now(datetime.UTC).\n",
      "  \"timestamp\": datetime.utcnow().isoformat() + \"Z\",\n"
     ]
    },
    {
     "name": "stdout",
     "output_type": "stream",
     "text": [
      "Checkpoint saved to /global/u2/s/sungwon/QML_project/ABCDisCo/notebook/checkpoints_qml_single_disco/epoch_034.pth\n",
      "AUC=0.556 | val_acc=0.543 | closure@30%=0.853 | train_loss=0.695 | λ=39.0\n",
      "Epoch 035\n",
      "Current lambda_mass: 40.00\n"
     ]
    },
    {
     "name": "stderr",
     "output_type": "stream",
     "text": [
      "                                                        \r"
     ]
    },
    {
     "name": "stdout",
     "output_type": "stream",
     "text": [
      "JSDvsR 10 0.09999199\n",
      "JSDvsR 30 0.29998398\n",
      "JSDvsR 60 0.6\n"
     ]
    },
    {
     "name": "stderr",
     "output_type": "stream",
     "text": [
      "/tmp/ipykernel_1531467/4283937357.py:241: DeprecationWarning: datetime.datetime.utcnow() is deprecated and scheduled for removal in a future version. Use timezone-aware objects to represent datetimes in UTC: datetime.datetime.now(datetime.UTC).\n",
      "  \"timestamp\": datetime.utcnow().isoformat() + \"Z\",\n"
     ]
    },
    {
     "name": "stdout",
     "output_type": "stream",
     "text": [
      "Checkpoint saved to /global/u2/s/sungwon/QML_project/ABCDisCo/notebook/checkpoints_qml_single_disco/epoch_035.pth\n",
      "AUC=0.573 | val_acc=0.498 | closure@30%=0.769 | train_loss=0.695 | λ=40.0\n",
      "Epoch 036\n",
      "Current lambda_mass: 41.00\n"
     ]
    },
    {
     "name": "stderr",
     "output_type": "stream",
     "text": [
      "                                                        \r"
     ]
    },
    {
     "name": "stdout",
     "output_type": "stream",
     "text": [
      "JSDvsR 10 0.09999199\n",
      "JSDvsR 30 0.29996797\n",
      "JSDvsR 60 0.59996796\n"
     ]
    },
    {
     "name": "stderr",
     "output_type": "stream",
     "text": [
      "/tmp/ipykernel_1531467/4283937357.py:241: DeprecationWarning: datetime.datetime.utcnow() is deprecated and scheduled for removal in a future version. Use timezone-aware objects to represent datetimes in UTC: datetime.datetime.now(datetime.UTC).\n",
      "  \"timestamp\": datetime.utcnow().isoformat() + \"Z\",\n"
     ]
    },
    {
     "name": "stdout",
     "output_type": "stream",
     "text": [
      "Checkpoint saved to /global/u2/s/sungwon/QML_project/ABCDisCo/notebook/checkpoints_qml_single_disco/epoch_036.pth\n",
      "AUC=0.564 | val_acc=0.515 | closure@30%=0.818 | train_loss=0.695 | λ=41.0\n",
      "Epoch 037\n",
      "Current lambda_mass: 42.00\n"
     ]
    },
    {
     "name": "stderr",
     "output_type": "stream",
     "text": [
      "train:  13%|█▎        | 33/245 [00:15<01:35,  2.21it/s]"
     ]
    }
   ],
   "source": [
    "\n",
    "\n",
    "\n",
    "# Updated training loop with lambda ramping\n",
    "for epoch in range(start_epoch, EPOCHS):\n",
    "    print(f\"Epoch {epoch:03d}\")\n",
    "    # Get current lambda value for ramping\n",
    "    current_lambda = get_current_lambda(epoch)\n",
    "    print(f\"Current lambda_mass: {current_lambda:.2f}\")\n",
    "    \n",
    "    train_metrics = train_one_epoch(model, train_loader, optimizer, current_lambda)\n",
    "    s_val, y_val, w_val, m_val, val_metrics = evaluate(model, val_loader)\n",
    "\n",
    "    # Compute rich validation diagnostics as mandated by the evaluation guide.\n",
    "    classification = compute_epoch_classification_metrics(s_val, y_val, w_val)\n",
    "    roc_diag = compute_roc_diagnostics(s_val, y_val, w_val)\n",
    "    abcd_stats = compute_abcd_statistics(s_val, m_val, y_val, w_val)\n",
    "    jsd_points = compute_jsd_summary(s_val, m_val, y_val, w_val)\n",
    "\n",
    "    record = {\n",
    "        \"epoch\": epoch,\n",
    "        \"lambda_mass\": current_lambda,  # Track current lambda value\n",
    "        \"train_loss_cls\": train_metrics.get(\"loss_cls\", float(\"nan\")),\n",
    "        \"train_accuracy\": train_metrics.get(\"accuracy\", float(\"nan\")),\n",
    "        \"train_precision\": train_metrics.get(\"precision\", float(\"nan\")),\n",
    "        \"train_recall\": train_metrics.get(\"recall\", float(\"nan\")),\n",
    "        \"train_f1\": train_metrics.get(\"f1\", float(\"nan\")),\n",
    "        \"train_epoch_seconds\": train_metrics.get(\"epoch_seconds\", float(\"nan\")),\n",
    "        \"train_examples_per_second\": train_metrics.get(\"examples_per_second\", float(\"nan\")),\n",
    "        \"val_loss_cls\": val_metrics.get(\"loss_cls\", float(\"nan\")),\n",
    "        \"val_accuracy\": classification[\"accuracy\"],\n",
    "        \"val_precision\": classification[\"precision\"],\n",
    "        \"val_recall\": classification[\"recall\"],\n",
    "        \"val_f1\": classification[\"f1\"],\n",
    "        \"val_auc\": roc_diag[\"auc\"],\n",
    "        \"val_epoch_seconds\": val_metrics.get(\"epoch_seconds\", float(\"nan\")),\n",
    "        \"val_examples_per_second\": val_metrics.get(\"examples_per_second\", float(\"nan\")),\n",
    "    }\n",
    "    if \"dCorr_s_m\" in train_metrics:\n",
    "        record[\"train_dCorr_s_m\"] = train_metrics[\"dCorr_s_m\"]\n",
    "    if \"dCorr_s_m\" in val_metrics:\n",
    "        record[\"val_dCorr_s_m\"] = val_metrics[\"dCorr_s_m\"]\n",
    "    for target in SCORE_SIGNAL_EFFICIENCIES:\n",
    "        key = f\"background_eff_at_{int(target*100)}pct_sig\"\n",
    "        record[key] = roc_diag[key]\n",
    "    for item in abcd_stats[\"per_efficiency\"]:\n",
    "        eff = int(item[\"target_signal_efficiency\"] * 100)\n",
    "        record[f\"abcd_closure_ratio_{eff}pct\"] = item[\"closure_ratio\"]\n",
    "        record[f\"abcd_pull_{eff}pct\"] = item[\"pull\"]\n",
    "    aggregated = abcd_stats[\"aggregated\"]\n",
    "    record[\"abcd_closure_ratio_mean\"] = aggregated[\"closure_ratio\"][\"mean\"]\n",
    "    record[\"abcd_closure_ratio_std\"] = aggregated[\"closure_ratio\"][\"std\"]\n",
    "    record[\"abcd_closure_ratio_median\"] = aggregated[\"closure_ratio\"][\"median\"]\n",
    "    record[\"abcd_pull_mean\"] = aggregated[\"pull\"][\"mean\"]\n",
    "    record[\"abcd_pull_std\"] = aggregated[\"pull\"][\"std\"]\n",
    "    record[\"abcd_pull_rms\"] = aggregated[\"pull\"][\"rms\"]\n",
    "    record[\"abcd_pull_median\"] = aggregated[\"pull\"][\"median\"]\n",
    "    record[\"transfer_factor_B_over_D_mean\"] = aggregated[\"transfer_factor_B_over_D\"][\"mean\"]\n",
    "    record[\"transfer_factor_B_over_D_std\"] = aggregated[\"transfer_factor_B_over_D\"][\"std\"]\n",
    "    record[\"transfer_factor_C_over_D_mean\"] = aggregated[\"transfer_factor_C_over_D\"][\"mean\"]\n",
    "    record[\"transfer_factor_C_over_D_std\"] = aggregated[\"transfer_factor_C_over_D\"][\"std\"]\n",
    "    record[\"sideband_ratio_B_over_C_mean\"] = aggregated[\"sideband_ratio_B_over_C\"][\"mean\"]\n",
    "    record[\"sideband_ratio_B_over_C_std\"] = aggregated[\"sideband_ratio_B_over_C\"][\"std\"]\n",
    "    record[\"sideband_stability_mean\"] = aggregated[\"sideband_stability\"][\"mean\"]\n",
    "    record[\"sideband_stability_std\"] = aggregated[\"sideband_stability\"][\"std\"]\n",
    "    record[\"asimov_significance_mean\"] = aggregated[\"asimov_significance\"][\"mean\"]\n",
    "    record[\"asimov_significance_max\"] = aggregated[\"asimov_significance\"][\"max\"]\n",
    "    for item in jsd_points:\n",
    "        eff = int(item[\"target_signal_efficiency\"] * 100)\n",
    "        record[f\"inverse_jsd_{eff}pct\"] = item[\"inverse_jsd\"]\n",
    "        record[f\"background_rejection_{eff}pct\"] = item[\"background_rejection\"]\n",
    "\n",
    "    history.append(record)\n",
    "\n",
    "    # Persist a checkpoint capturing everything needed to resume training and\n",
    "    # redo evaluations, aligning with the per-epoch storage requirement.\n",
    "    val_record = {\n",
    "        \"classification\": classification,\n",
    "        \"roc\": {k: (v.tolist() if isinstance(v, np.ndarray) else v) for k, v in roc_diag.items()},\n",
    "        \"abcd\": abcd_stats,\n",
    "        \"jsd\": jsd_points,\n",
    "        \"confusion_matrix\": classification[\"confusion_matrix\"].tolist(),\n",
    "    }\n",
    "    train_record = train_metrics\n",
    "    extra = {\n",
    "        \"val_scores\": s_val.tolist(),\n",
    "        \"val_labels\": y_val.tolist(),\n",
    "        \"val_weights\": w_val.tolist(),\n",
    "        \"val_masses\": m_val.tolist(),\n",
    "    }\n",
    "    save_checkpoint(epoch, model, optimizer, history, train_record, val_record, extra)\n",
    "\n",
    "    print(\n",
    "        f\"AUC={roc_diag['auc']:.3f} | \"\n",
    "        f\"val_acc={classification['accuracy']:.3f} | \"\n",
    "        f\"closure@30%={record['abcd_closure_ratio_30pct']:.3f} | \"\n",
    "        f\"train_loss={train_metrics.get('loss_cls', float('nan')):.3f} | \"\n",
    "        f\"λ={current_lambda:.1f}\"\n",
    "    )\n",
    "\n",
    "history_df = pd.DataFrame(history)\n",
    "history_df.tail()\n"
   ]
  },
  {
   "cell_type": "markdown",
   "id": "4f46a892",
   "metadata": {},
   "source": [
    "\n",
    "### Training diagnostics\n",
    "\n",
    "We track the classification loss and the distance-correlation penalty to verify convergence and decorrelation strength.\n"
   ]
  },
  {
   "cell_type": "code",
   "execution_count": null,
   "id": "cec09beb",
   "metadata": {},
   "outputs": [],
   "source": [
    "\n",
    "# Visual summary of training history (losses, AUC, decorrelation, throughput).\n",
    "fig, axes = plt.subplots(2, 2, figsize=(18, 12))\n",
    "axes = axes.ravel()\n",
    "\n",
    "# Panel 0: weighted binary cross-entropy on train vs validation sets.\n",
    "axes[0].plot(history_df[\"epoch\"], history_df[\"train_loss_cls\"], label=\"train\", marker=\"o\")\n",
    "axes[0].plot(history_df[\"epoch\"], history_df[\"val_loss_cls\"], label=\"val\", marker=\"s\")\n",
    "axes[0].set_xlabel(\"Epoch\")\n",
    "axes[0].set_ylabel(\"Binary cross-entropy\")\n",
    "axes[0].set_title(\"Loss history\")\n",
    "axes[0].legend()\n",
    "\n",
    "# Panel 1: AUC progression across epochs (higher is better signal/background separation).\n",
    "axes[1].plot(history_df[\"epoch\"], history_df[\"val_auc\"], marker=\"o\")\n",
    "axes[1].set_xlabel(\"Epoch\")\n",
    "axes[1].set_ylabel(\"AUC\")\n",
    "axes[1].set_title(\"Validation ROC AUC\")\n",
    "axes[1].grid(True)\n",
    "\n",
    "# Panel 2: distance correlation term monitoring the DisCo penalty strength.\n",
    "if \"train_dCorr_s_m\" in history_df.columns:\n",
    "    axes[2].plot(history_df[\"epoch\"], history_df[\"train_dCorr_s_m\"], label=\"train\")\n",
    "if \"val_dCorr_s_m\" in history_df.columns:\n",
    "    axes[2].plot(history_df[\"epoch\"], history_df[\"val_dCorr_s_m\"], label=\"val\")\n",
    "axes[2].set_xlabel(\"Epoch\")\n",
    "axes[2].set_ylabel(\"Distance correlation\")\n",
    "axes[2].set_title(\"Decorrelating score vs jet mass\")\n",
    "axes[2].legend()\n",
    "\n",
    "# Panel 3: runtime throughput useful for planning segmented jobs under time limits.\n",
    "axes[3].plot(history_df[\"epoch\"], history_df[\"train_examples_per_second\"], label=\"train\", marker=\"o\")\n",
    "axes[3].plot(history_df[\"epoch\"], history_df[\"val_examples_per_second\"], label=\"val\", marker=\"s\")\n",
    "axes[3].set_xlabel(\"Epoch\")\n",
    "axes[3].set_ylabel(\"Examples per second\")\n",
    "axes[3].set_title(\"Throughput diagnostics\")\n",
    "axes[3].legend()\n",
    "\n",
    "plt.tight_layout()\n",
    "plt.show()\n",
    "\n"
   ]
  },
  {
   "cell_type": "code",
   "execution_count": null,
   "id": "242aa91f",
   "metadata": {},
   "outputs": [],
   "source": [
    "fig, axes = plt.subplots(2, 2, figsize=(18, 12))\n",
    "axes = axes.ravel()\n",
    "\n",
    "# # Loss evolution\n",
    "# axes[0].plot(history_df[\"epoch\"], history_df[\"train_loss_cls\"], label=\"train\", marker=\"o\")\n",
    "# axes[0].plot(history_df[\"epoch\"], history_df[\"val_loss_cls\"], label=\"val\", marker=\"s\")\n",
    "# axes[0].set_xlabel(\"Epoch\")\n",
    "# axes[0].set_ylabel(\"Binary cross-entropy\")\n",
    "# axes[0].set_title(\"Loss history\")\n",
    "# axes[0].legend()\n",
    "\n",
    "# # Classification metrics\n",
    "# axes[1].plot(history_df[\"epoch\"], history_df[\"train_accuracy\"], label=\"train acc\", marker=\"o\")\n",
    "# axes[1].plot(history_df[\"epoch\"], history_df[\"val_accuracy\"], label=\"val acc\", marker=\"s\")\n",
    "# axes[1].plot(history_df[\"epoch\"], history_df[\"val_precision\"], label=\"val precision\", linestyle=\"--\")\n",
    "# axes[1].plot(history_df[\"epoch\"], history_df[\"val_recall\"], label=\"val recall\", linestyle=\":\")\n",
    "# axes[1].plot(history_df[\"epoch\"], history_df[\"val_f1\"], label=\"val F1\", linestyle=\"-.\" )\n",
    "# axes[1].set_xlabel(\"Epoch\")\n",
    "# axes[1].set_ylabel(\"Score\")\n",
    "# axes[1].set_ylim(0.0, 1.05)\n",
    "# axes[1].set_title(\"Classification summary\")\n",
    "# axes[1].legend(loc=\"lower right\")\n",
    "\n",
    "# # ABCD closure and ROC\n",
    "# axes[2].plot(history_df[\"epoch\"], history_df[\"val_auc\"], label=\"AUC\", marker=\"o\")\n",
    "# axes[2].plot(history_df[\"epoch\"], 1.0 / np.maximum(history_df[\"background_eff_at_30pct_sig\"], 1e-6), label=\"1/ε_B @ 30%\", marker=\"s\")\n",
    "# axes[2].plot(history_df[\"epoch\"], history_df[\"abcd_closure_ratio_30pct\"], label=\"closure ratio @ 30%\", linestyle=\"--\")\n",
    "# axes[2].axhspan(0.9, 1.1, color=\"grey\", alpha=0.15, label=\"±10% closure band\")\n",
    "# axes[2].set_xlabel(\"Epoch\")\n",
    "# axes[2].set_ylabel(\"Metric value\")\n",
    "# axes[2].set_title(\"ROC vs. ABCD stability\")\n",
    "# axes[2].legend()\n",
    "# axes[2].set_yscale(\"log\")\n",
    "\n",
    "# # Runtime diagnostics\n",
    "# axes[3].plot(history_df[\"epoch\"], history_df[\"train_epoch_seconds\"], label=\"train\", marker=\"o\")\n",
    "# axes[3].plot(history_df[\"epoch\"], history_df[\"val_epoch_seconds\"], label=\"val\", marker=\"s\")\n",
    "# axes[3].set_xlabel(\"Epoch\")\n",
    "# axes[3].set_ylabel(\"Seconds\")\n",
    "# axes[3].set_title(\"Per-epoch wall-clock time\")\n",
    "# axes[3].legend()\n",
    "\n",
    "# plt.tight_layout()\n",
    "# plt.show()\n",
    "\n",
    "# Safer plotting for HPC: chunk long paths, decimate, sanitize, and limit rows\n",
    "plt.rcParams['agg.path.chunksize'] = 10000\n",
    "plot_df = history_df.tail(min(len(history_df), 2000)).copy()\n",
    "\n",
    "def decimate(n):  # reduce marker density\n",
    "    return max(1, n // 200)\n",
    "\n",
    "# Panel 0: loss\n",
    "axes[0].plot(plot_df[\"epoch\"], plot_df[\"train_loss_cls\"], label=\"train\", marker=None)\n",
    "axes[0].plot(plot_df[\"epoch\"], plot_df[\"val_loss_cls\"], label=\"val\", marker=None)\n",
    "axes[0].set_xlabel(\"Epoch\"); axes[0].set_ylabel(\"Binary cross-entropy\"); axes[0].set_title(\"Loss history\"); axes[0].legend()\n",
    "\n",
    "# Panel 1: classification summary (no markers for long series)\n",
    "axes[1].plot(plot_df[\"epoch\"], plot_df[\"train_accuracy\"], label=\"train acc\")\n",
    "axes[1].plot(plot_df[\"epoch\"], plot_df[\"val_accuracy\"], label=\"val acc\")\n",
    "axes[1].plot(plot_df[\"epoch\"], plot_df[\"val_precision\"], label=\"val precision\", linestyle=\"--\")\n",
    "axes[1].plot(plot_df[\"epoch\"], plot_df[\"val_recall\"], label=\"val recall\", linestyle=\":\")\n",
    "axes[1].plot(plot_df[\"epoch\"], plot_df[\"val_f1\"], label=\"val F1\", linestyle=\"-.\")\n",
    "axes[1].set_xlabel(\"Epoch\"); axes[1].set_ylabel(\"Score\"); axes[1].set_ylim(0.0, 1.05); axes[1].set_title(\"Classification summary\")\n",
    "axes[1].legend(loc=\"lower right\")\n",
    "\n",
    "# Panel 2: ROC vs ABCD stability (log-safe)\n",
    "bkg_eff = plot_df.get(\"background_eff_at_30pct_sig\")\n",
    "if bkg_eff is not None:\n",
    "    inv_bkg = 1.0 / np.clip(bkg_eff.astype(float), 1e-6, 1e6)\n",
    "    axes[2].plot(plot_df[\"epoch\"], plot_df[\"val_auc\"], label=\"AUC\")\n",
    "    axes[2].plot(plot_df[\"epoch\"], inv_bkg, label=\"1/ε_B @ 30%\")\n",
    "    if np.all(inv_bkg > 0):\n",
    "        axes[2].set_yscale(\"log\")\n",
    "    axes[2].plot(plot_df[\"epoch\"], plot_df.get(\"abcd_closure_ratio_30pct\", np.nan), label=\"closure ratio @ 30%\", linestyle=\"--\")\n",
    "    axes[2].axhspan(0.9, 1.1, color=\"grey\", alpha=0.15, label=\"±10% closure band\")\n",
    "    axes[2].set_xlabel(\"Epoch\"); axes[2].set_ylabel(\"Metric value\"); axes[2].set_title(\"ROC vs. ABCD stability\"); axes[2].legend()\n",
    "else:\n",
    "    axes[2].set_visible(False)\n",
    "\n",
    "# Panel 3: runtime diagnostics\n",
    "axes[3].plot(plot_df[\"epoch\"], plot_df[\"train_epoch_seconds\"], label=\"train\")\n",
    "axes[3].plot(plot_df[\"epoch\"], plot_df[\"val_epoch_seconds\"], label=\"val\")\n",
    "axes[3].set_xlabel(\"Epoch\"); axes[3].set_ylabel(\"Seconds\"); axes[3].set_title(\"Per-epoch wall-clock time\"); axes[3].legend()\n",
    "\n",
    "plt.tight_layout()\n",
    "plt.savefig(\"metrics_compact.png\", dpi=120)  # avoid massive inline payload\n",
    "plt.close(fig)\n",
    "from IPython.display import Image, display\n",
    "display(Image(\"metrics_compact.png\"))"
   ]
  },
  {
   "cell_type": "markdown",
   "id": "483491cb",
   "metadata": {},
   "source": [
    "\n",
    "## 6. Evaluation (`evaluation.py` lines 1-70)\n",
    "\n",
    "We reproduce the single-score diagnostics: ROC curves, background mass sculpting, and the Jensen-Shannon divergence versus background rejection figure of merit used in the paper.\n"
   ]
  },
  {
   "cell_type": "code",
   "execution_count": null,
   "id": "ddd85125",
   "metadata": {},
   "outputs": [],
   "source": [
    "\n",
    "# Final evaluation on the held-out test set following the evaluation guide.\n",
    "from importlib import reload\n",
    "import evaluation\n",
    "reload(evaluation)\n",
    "from evaluation import JSDvsR\n",
    "\n",
    "# Run the evaluate() helper to obtain raw scores, labels, weights, masses.\n",
    "s_test, y_test, w_test, m_test, test_metrics = evaluate(model, test_loader)\n",
    "\n",
    "# Compute the suite of diagnostics requested: classification metrics, ROC, ABCD closure,\n",
    "# Jensen–Shannon vs rejection, and distance correlation on pure background.\n",
    "classification_test = compute_epoch_classification_metrics(s_test, y_test, w_test)\n",
    "roc_test = compute_roc_diagnostics(s_test, y_test, w_test)\n",
    "abcd_test = compute_abcd_statistics(s_test, m_test, y_test, w_test)\n",
    "jsd_test = compute_jsd_summary(s_test, m_test, y_test, w_test)\n",
    "\n",
    "background = y_test < 0.5\n",
    "if background.any():\n",
    "    d_test = distance_corr_safe(\n",
    "        torch.as_tensor(s_test[background]),\n",
    "        torch.as_tensor(m_test[background]),\n",
    "        torch.ones_like(torch.as_tensor(m_test[background])),\n",
    "    ).item()\n",
    "else:\n",
    "    d_test = float(\"nan\")\n",
    "\n",
    "print(\"Test-set diagnostics:\")\n",
    "print(f\"  AUC = {roc_test['auc']:.3f}\")\n",
    "print(f\"  Accuracy = {classification_test['accuracy']:.3f}\")\n",
    "print(f\"  Precision = {classification_test['precision']:.3f}\")\n",
    "print(f\"  Recall = {classification_test['recall']:.3f}\")\n",
    "print(f\"  F1-score = {classification_test['f1']:.3f}\")\n",
    "print(f\"  Background distance-correlation(score, mass) = {d_test:.4f}\")\n",
    "\n",
    "# Visualise ROC, confusion matrix, mass sculpting, and ABCD closure vs rejection.\n",
    "fig, axes = plt.subplots(2, 2, figsize=(18, 12))\n",
    "axes = axes.ravel()\n",
    "axes[0].plot(roc_test[\"fpr\"], roc_test[\"tpr\"], label=f\"ROC (AUC={roc_test['auc']:.3f})\")\n",
    "axes[0].set_xlabel(\"Background efficiency ε_B\")\n",
    "axes[0].set_ylabel(\"Signal efficiency ε_S\")\n",
    "axes[0].set_title(\"Receiver Operating Characteristic\")\n",
    "axes[0].legend(loc=\"lower right\")\n",
    "axes[0].grid(True)\n",
    "cm = classification_test[\"confusion_matrix\"]\n",
    "im = axes[1].imshow(cm, cmap=\"viridis\")\n",
    "axes[1].set_xticks([0, 1])\n",
    "axes[1].set_yticks([0, 1])\n",
    "axes[1].set_xticklabels([\"Predicted background\", \"Predicted signal\"])\n",
    "axes[1].set_yticklabels([\"True background\", \"True signal\"])\n",
    "axes[1].set_title(\"Weighted confusion matrix\")\n",
    "for (i, j), value in np.ndenumerate(cm):\n",
    "    axes[1].text(j, i, f\"{value:.0f}\", ha=\"center\", va=\"center\", color=\"white\" if value > cm.max() / 2 else \"black\")\n",
    "fig.colorbar(im, ax=axes[1])\n",
    "nbins = ABCD_HISTOGRAM_BINS\n",
    "mass_range = (m_test.min(), m_test.max())\n",
    "axes[2].hist(\n",
    "    m_test[background], bins=nbins, range=mass_range, weights=w_test[background],\n",
    "    histtype=\"step\", label=\"All background\", linewidth=2\n",
    ")\n",
    "cut = weighted_quantile(s_test[y_test > 0.5], 1 - 0.3, w_test[y_test > 0.5])\n",
    "sel = background & (s_test > cut)\n",
    "axes[2].hist(\n",
    "    m_test[sel], bins=nbins, range=mass_range, weights=w_test[sel],\n",
    "    histtype=\"stepfilled\", alpha=0.4, label=\"Background above 30% signal-eff cut\"\n",
    ")\n",
    "axes[2].set_xlabel(\"Jet mass [GeV]\")\n",
    "axes[2].set_ylabel(\"Weighted events\")\n",
    "axes[2].set_title(\"Mass sculpting diagnostic\")\n",
    "axes[2].legend()\n",
    "rejections = [item[\"background_rejection\"] for item in jsd_test]\n",
    "closures = [item[\"closure_ratio\"] for item in abcd_test[\"per_efficiency\"]]\n",
    "labels_eff = [int(item[\"target_signal_efficiency\"] * 100) for item in abcd_test[\"per_efficiency\"]]\n",
    "axes[3].scatter(rejections, closures, c=labels_eff, cmap=\"plasma\", s=120)\n",
    "for rej, clo, eff in zip(rejections, closures, labels_eff):\n",
    "    axes[3].annotate(f\"{eff}%\", (rej, clo))\n",
    "axes[3].axhspan(0.9, 1.1, color=\"grey\", alpha=0.15, label=\"±10% closure band\")\n",
    "axes[3].set_xlabel(\"Background rejection 1/ε_B\")\n",
    "axes[3].set_ylabel(\"Closure ratio N_pred/N_true\")\n",
    "axes[3].set_title(\"ABCD closure vs. rejection\")\n",
    "axes[3].set_xscale(\"log\")\n",
    "axes[3].legend()\n",
    "plt.tight_layout()\n",
    "plt.show()\n",
    "\n",
    "# Tabulate ABCD and JSD results for the notebook summary.\n",
    "abcd_rows = []\n",
    "for abcd_entry, jsd_entry in zip(abcd_test[\"per_efficiency\"], jsd_test):\n",
    "    eff = int(abcd_entry[\"target_signal_efficiency\"] * 100)\n",
    "    abcd_rows.append({\n",
    "        \"signal_efficiency_percent\": eff,\n",
    "        \"score_cut\": abcd_entry[\"score_cut\"],\n",
    "        \"background_prediction\": abcd_entry[\"predicted_bg\"],\n",
    "        \"closure_ratio\": abcd_entry[\"closure_ratio\"],\n",
    "        \"closure_error_percent\": abcd_entry[\"closure_error_pct\"],\n",
    "        \"pull\": abcd_entry[\"pull\"],\n",
    "        \"transfer_factor_B_over_D\": abcd_entry[\"transfer_factor_B_over_D\"],\n",
    "        \"transfer_factor_C_over_D\": abcd_entry[\"transfer_factor_C_over_D\"],\n",
    "        \"sideband_ratio_B_over_C\": abcd_entry[\"sideband_ratio_B_over_C\"],\n",
    "        \"sideband_stability\": abcd_entry[\"sideband_stability\"],\n",
    "        \"signal_in_A\": abcd_entry[\"signal_in_A\"],\n",
    "        \"observed_total_in_A\": abcd_entry[\"observed_total_in_A\"],\n",
    "        \"asimov_significance\": abcd_entry[\"asimov_significance\"],\n",
    "        \"background_rejection\": jsd_entry[\"background_rejection\"],\n",
    "        \"inverse_jsd\": jsd_entry[\"inverse_jsd\"],\n",
    "    })\n",
    "abcd_df = pd.DataFrame(abcd_rows)\n",
    "abcd_df\n",
    "\n",
    "aggregated_df = pd.json_normalize(abcd_test[\"aggregated\"], sep=\"_\")\n",
    "aggregated_df.T\n"
   ]
  },
  {
   "cell_type": "markdown",
   "id": "bf3ab8b0",
   "metadata": {},
   "source": [
    "\n",
    "## 7. Persist artefacts\n",
    "\n",
    "Save inference scores and the trained model weights for downstream ABCDisCo or `pyhf` studies.\n"
   ]
  },
  {
   "cell_type": "code",
   "execution_count": null,
   "id": "dd407c18",
   "metadata": {},
   "outputs": [],
   "source": [
    "def to_serializable(obj: Any):\n",
    "    # Convert numpy scalars/arrays and torch tensors to built-in Python types recursively.\n",
    "    if isinstance(obj, (np.floating, np.integer, np.bool_)):\n",
    "        return obj.item()\n",
    "    if isinstance(obj, np.ndarray):\n",
    "        return obj.tolist()\n",
    "    if torch.is_tensor(obj):\n",
    "        if obj.ndim == 0:\n",
    "            return obj.item()\n",
    "        return obj.detach().cpu().tolist()\n",
    "    if isinstance(obj, dict):\n",
    "        return {str(k): to_serializable(v) for k, v in obj.items()}\n",
    "    if isinstance(obj, (list, tuple, set)):\n",
    "        return [to_serializable(v) for v in obj]\n",
    "    return obj\n",
    "\n",
    "results_df = pd.DataFrame({\n",
    "    \"score\": s_test,\n",
    "    \"label\": y_test,\n",
    "    \"weight\": w_test,\n",
    "    \"mass\": m_test,\n",
    "})\n",
    "results_df.head()\n",
    "\n",
    "summary_payload = {\n",
    "    \"classification\": {k: (v.tolist() if isinstance(v, np.ndarray) else float(v) if np.isscalar(v) else v) for k, v in classification_test.items() if k != \"confusion_matrix\"},\n",
    "    \"confusion_matrix\": classification_test[\"confusion_matrix\"].tolist(),\n",
    "    \"roc\": {k: (v.tolist() if isinstance(v, np.ndarray) else float(v)) for k, v in roc_test.items()},\n",
    "    \"abcd\": abcd_test,\n",
    "    \"jsd\": jsd_test,\n",
    "    \"distance_correlation\": d_test,\n",
    "}\n",
    "summary_path = CHECKPOINT_DIR / \"test_evaluation.json\"\n",
    "with open(summary_path, \"w\") as handle:\n",
    "    json.dump(to_serializable(summary_payload), handle, indent=2)\n",
    "print(f\"Saved detailed test summary to {summary_path}\")\n",
    "\n"
   ]
  },
  {
   "cell_type": "markdown",
   "id": "1811ab61",
   "metadata": {},
   "source": [
    "\n",
    "## 8. Extending to Double-DisCo & QML studies\n",
    "\n",
    "- **Recovering the paper-level numbers**: set `FULL_DATASET = True`, increase `EPOCHS` to 200, and sweep `LAMBDA_MASS` in the range 50-400 as in the reference scans.\n",
    "- **Quantum experiments**: switch `BACKEND = \"qml\"`, tune `N_QUBITS`/`QML_LAYERS`, and initialise the PennyLane device with `qml.seed(SEED)` for reproducibility.\n",
    "- **Transition to Double-DisCo**: after validating this notebook, open `ABCDisCo_tutorial.ipynb` for the two-network variant and reuse the saved preprocessing steps to initialise the dual heads.\n"
   ]
  }
 ],
 "metadata": {
  "kernelspec": {
   "display_name": "ABCDisCo",
   "language": "python",
   "name": "abcdisco"
  },
  "language_info": {
   "codemirror_mode": {
    "name": "ipython",
    "version": 3
   },
   "file_extension": ".py",
   "mimetype": "text/x-python",
   "name": "python",
   "nbconvert_exporter": "python",
   "pygments_lexer": "ipython3",
   "version": "3.12.12"
  }
 },
 "nbformat": 4,
 "nbformat_minor": 5
}
