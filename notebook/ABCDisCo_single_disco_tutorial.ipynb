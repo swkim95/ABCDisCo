{
 "cells": [
  {
   "cell_type": "markdown",
   "id": "3873f1a8",
   "metadata": {},
   "source": [
    "\n",
    "# ABCDisCo Single-DisCo Tutorial (Torch + optional PennyLane backend)\n",
    "\n",
    "This notebook reproduces the **Single-DisCo** workflow described in [T. Aarrestad *et al.*, *Eur. Phys. J. C* **81**, 1003 (2021), arXiv:2007.14400](https://arxiv.org/abs/2007.14400). It mirrors the reference scripts shipped with this repository so you can validate the mass-decorrelated baseline before moving to the Double-DisCo configuration.\n",
    "\n",
    "> **Mapping to repository scripts**\n",
    "> - Data ingestion and scaling follow `ABCD_topjets_HLF_mD.py` (lines 69-101) together with the dataset helpers in `data_loader.py` (lines 1-63).\n",
    "> - The neural-network head reuses `networks.DNNclassifier` (lines 8-44), while the DisCo penalty mirrors `model.py` (lines 24-86) plus `disco.py` (lines 14-118).\n",
    "> - Evaluation adapts the single-score diagnostics from `evaluation.py` (lines 1-70), including the Jensen-Shannon divergence vs. background rejection scan.\n",
    "\n",
    "The workflow is organised as:\n",
    "\n",
    "1. **Setup & configuration** (Single-DisCo hyperparameters).\n",
    "2. **Data loading and preprocessing** (min-max scaling, feature selection matching `ABCD_topjets_HLF_mD.py`).\n",
    "3. **Model definition** with interchangeable Torch/PennyLane heads.\n",
    "4. **Training** with the DisCo mass decorrelation penalty.\n",
    "5. **Diagnostics & evaluation**: ROC curves, distance correlations, JSD vs. background rejection, and mass sculpting checks.\n",
    "6. **Export** of trained weights and inference scores.\n",
    "\n",
    "> **Datasets**: The repository already ships reduced CMS top-tagging HLF samples (`topsample_*_tau.dat.gz`). You can run this notebook end-to-end without external downloads.\n"
   ]
  },
  {
   "cell_type": "markdown",
   "id": "e015d9e7",
   "metadata": {},
   "source": [
    "\n",
    "## Environment preparation\n",
    "\n",
    "Run the following cell *once per environment* if you still need to install the CPU builds of PyTorch, PennyLane, and the lightweight analysis stack.\n"
   ]
  },
  {
   "cell_type": "code",
   "execution_count": 1,
   "id": "b6df378a",
   "metadata": {},
   "outputs": [],
   "source": [
    "\n",
    "# Optional: install dependencies (uncomment the lines you need)\n",
    "# %pip install numpy pandas scikit-learn matplotlib tqdm\n",
    "# %pip install torch torchvision torchaudio --index-url https://download.pytorch.org/whl/cpu\n",
    "# %pip install pennylane pennylane-lightning\n",
    "# %pip install pyhf\n"
   ]
  },
  {
   "cell_type": "markdown",
   "id": "9afe8e3b",
   "metadata": {},
   "source": [
    "\n",
    "## 0. Configuration (mirrors `ABCD_topjets_HLF_mD.py` lines 69-126)\n",
    "\n",
    "We keep the dataset limits, optimiser choices, and DisCo penalty normalisation consistent with the single-network script so that this notebook can reproduce the published baselines.\n"
   ]
  },
  {
   "cell_type": "code",
   "execution_count": 2,
   "id": "daa3f01a",
   "metadata": {},
   "outputs": [
    {
     "name": "stderr",
     "output_type": "stream",
     "text": [
      "/global/common/software/m4138/ABCDisCo/lib/python3.12/site-packages/tqdm/auto.py:21: TqdmWarning: IProgress not found. Please update jupyter and ipywidgets. See https://ipywidgets.readthedocs.io/en/stable/user_install.html\n",
      "  from .autonotebook import tqdm as notebook_tqdm\n"
     ]
    },
    {
     "name": "stdout",
     "output_type": "stream",
     "text": [
      "Using device: cuda\n"
     ]
    }
   ],
   "source": [
    "from __future__ import annotations\n",
    "\n",
    "# ---------------------------------------------------------------\n",
    "# Standard-library utilities used throughout the tutorial notebook\n",
    "# ---------------------------------------------------------------\n",
    "import gzip  # Read the compressed CMS top-tagging datasets that ship with the repo\n",
    "import json  # Serialize metadata for the checkpoints that we write every epoch\n",
    "import time  # Measure wall-clock runtime so we can report epoch durations\n",
    "from datetime import datetime  # Timestamp saved checkpoints for reproducibility\n",
    "from pathlib import Path  # Work with filesystem paths in a platform-agnostic way\n",
    "from typing import Any, Dict, Iterable, List, Optional, Tuple\n",
    "\n",
    "# ---------------------------------------------------------------\n",
    "# Scientific Python stack: numerical arrays, data frames, and plots\n",
    "# ---------------------------------------------------------------\n",
    "import matplotlib.pyplot as plt\n",
    "import numpy as np\n",
    "import pandas as pd\n",
    "\n",
    "# ---------------------------------------------------------------\n",
    "# PyTorch: tensor library used for both classical and quantum models\n",
    "# ---------------------------------------------------------------\n",
    "import torch\n",
    "import torch.nn.functional as F\n",
    "from torch import nn\n",
    "from torch.utils.data import DataLoader, Dataset\n",
    "\n",
    "# ---------------------------------------------------------------\n",
    "# Scikit-Learn: classical metrics used to interpret classifier quality\n",
    "# ---------------------------------------------------------------\n",
    "from sklearn.metrics import (\n",
    "    accuracy_score,\n",
    "    auc,\n",
    "    confusion_matrix,\n",
    "    f1_score,\n",
    "    precision_score,\n",
    "    recall_score,\n",
    "    roc_curve,\n",
    ")\n",
    "\n",
    "# ---------------------------------------------------------------\n",
    "# Utilities for nicely formatted progress bars inside notebooks\n",
    "# ---------------------------------------------------------------\n",
    "from tqdm.auto import tqdm\n",
    "\n",
    "# ---------------------------------------------------------------\n",
    "# Repository-local modules (they mirror the original training scripts)\n",
    "# ---------------------------------------------------------------\n",
    "import sys\n",
    "project_root = Path.cwd().resolve().parent  # notebook/ -> project root\n",
    "if str(project_root) not in sys.path:\n",
    "    sys.path.insert(0, str(project_root))\n",
    "from disco import distance_corr_unbiased  # distance correlation regulariser\n",
    "from networks import DNNclassifier  # baseline dense neural network classifier\n",
    "from evaluation import JSDvsR  # Jensen-Shannon vs. rejection diagnostic from the paper\n",
    "\n",
    "# ---------------------------------------------------------------\n",
    "# Optional PennyLane backend for the hybrid quantum notebook\n",
    "# (we keep the import guarded so the classical notebook works without it)\n",
    "# ---------------------------------------------------------------\n",
    "try:\n",
    "    import pennylane as qml\n",
    "    PENNYLANE_AVAILABLE = True\n",
    "except ImportError:\n",
    "    PENNYLANE_AVAILABLE = False\n",
    "\n",
    "# ---------------------------------------------------------------\n",
    "# Plot styling: use a high-contrast theme that works well in dark/light modes\n",
    "# ---------------------------------------------------------------\n",
    "plt.style.use(\"seaborn-v0_8-talk\")\n",
    "\n",
    "# ---------------------------------------------------------------\n",
    "# Reproducibility knobs: numpy and torch share a common seed for this tutorial\n",
    "# ---------------------------------------------------------------\n",
    "SEED = 1337\n",
    "rng = np.random.default_rng(SEED)\n",
    "torch.manual_seed(SEED)\n",
    "\n",
    "# ---------------------------------------------------------------\n",
    "# Dataset locations.  We keep everything relative to the project root so the\n",
    "# notebook can be executed from any environment (local, remote, or batch jobs).\n",
    "# ---------------------------------------------------------------\n",
    "DATA_ROOT = project_root\n",
    "RAW_FILES = {\n",
    "    \"train\": DATA_ROOT / \"topsample_train_tau.dat.gz\",\n",
    "    \"val\": DATA_ROOT / \"topsample_val_tau.dat.gz\",\n",
    "    \"test\": DATA_ROOT / \"topsample_test_tau.dat.gz\",\n",
    "}\n",
    "\n",
    "# ---------------------------------------------------------------\n",
    "# Training hyper-parameters.  Flip FULL_DATASET to True for the 5M-event dataset\n",
    "# from the ABCDisCo paper; by default we use a smaller subset for quick iteration.\n",
    "# ---------------------------------------------------------------\n",
    "FULL_DATASET = False\n",
    "EVENT_LIMITS = {\n",
    "    \"train\": 100000 if not FULL_DATASET else None,\n",
    "    \"val\": 50000 if not FULL_DATASET else None,\n",
    "    \"test\": 50000 if not FULL_DATASET else None,\n",
    "}\n",
    "BATCH_SIZE = 2048\n",
    "EPOCHS = 50 if not FULL_DATASET else 200\n",
    "LEARNING_RATE = 1e-3\n",
    "\n",
    "# ---------------------------------------------------------------\n",
    "# DisCo hyper-parameters.  LAMBDA_MASS rescales the distance-correlation penalty\n",
    "# that encourages the classifier score to be independent of jet mass for background.\n",
    "# ---------------------------------------------------------------\n",
    "LAMBDA_MASS = 200.0\n",
    "\n",
    "# ---------------------------------------------------------------\n",
    "# Evaluation settings for ABCD-related diagnostics.\n",
    "# ---------------------------------------------------------------\n",
    "SCORE_SIGNAL_EFFICIENCIES = (0.1, 0.3, 0.6)  # working points used in the paper\n",
    "ABCD_SIGNAL_WINDOW_QUANTILES = (0.3, 0.7)  # central mass window defines the SR\n",
    "ABCD_HISTOGRAM_BINS = 40  # consistent with the JSD vs. R plots in the paper\n",
    "\n",
    "# ---------------------------------------------------------------\n",
    "# Filesystem layout for per-epoch checkpoints.\n",
    "# ---------------------------------------------------------------\n",
    "CHECKPOINT_DIR = Path.cwd() / \"checkpoints_single_disco\"\n",
    "CHECKPOINT_DIR.mkdir(parents=True, exist_ok=True)\n",
    "CHECKPOINT_TEMPLATE = \"epoch_{epoch:03d}.pth\"\n",
    "RESUME_CHECKPOINT: Optional[Path] = None  # set to a file in CHECKPOINT_DIR to resume\n",
    "\n",
    "# ---------------------------------------------------------------\n",
    "# Device selection: automatically use CUDA when available, otherwise fall back\n",
    "# to CPU so the notebook works on any machine (including lightweight VMs).\n",
    "# ---------------------------------------------------------------\n",
    "DEVICE = torch.device(\"cuda\" if torch.cuda.is_available() else \"cpu\")\n",
    "print(f\"Using device: {DEVICE}\")\n",
    "\n",
    "# ---------------------------------------------------------------\n",
    "# Feature bookkeeping.  The Single-DisCo configuration removes the leading two\n",
    "# observables (mass and pT) from the classifier input, while still keeping them\n",
    "# available for ABCD evaluation and decorrelation studies.\n",
    "# ---------------------------------------------------------------\n",
    "ORIGINAL_FEATURES = [\n",
    "    \"mass\",\n",
    "    \"pt\",\n",
    "    \"tau1_half\",\n",
    "    \"tau2_half\",\n",
    "    \"tau3_half\",\n",
    "    \"tau1\",\n",
    "    \"tau2\",\n",
    "    \"tau3\",\n",
    "    \"tau4\",\n",
    "    \"tau1_sq\",\n",
    "    \"tau2_sq\",\n",
    "    \"tau3_sq\",\n",
    "    \"tau4_sq\",\n",
    "]\n",
    "SINGLE_FEATURE_INDICES = list(range(2, len(ORIGINAL_FEATURES)))\n",
    "FEATURE_NAMES = [ORIGINAL_FEATURES[i] for i in SINGLE_FEATURE_INDICES]\n",
    "\n"
   ]
  },
  {
   "cell_type": "code",
   "execution_count": null,
   "id": "a668a97c",
   "metadata": {},
   "outputs": [],
   "source": [
    "# ---------------------------------------------------------------\n",
    "# Backend configuration: toggle between classical PyTorch and PennyLane QML heads.\n",
    "# ---------------------------------------------------------------\n",
    "BACKEND = \"torch\"  # options: \"torch\" for the dense network or \"qml\" for the PennyLane circuit\n",
    "N_QUBITS = 6  # only used when BACKEND == \"qml\"\n",
    "QML_LAYERS = 2\n",
    "QML_DEVICE = \"default.qubit\"\n",
    "\n",
    "if BACKEND == \"qml\":\n",
    "    if not PENNYLANE_AVAILABLE:\n",
    "        raise ImportError(\n",
    "            \"PennyLane is required for the QML backend. Install it with `%pip install pennylane pennylane-lightning`.\"\n",
    "        )\n",
    "    print(\n",
    "        f\"Configuring PennyLane with {N_QUBITS} qubits, {QML_LAYERS} variational layers, on device '{QML_DEVICE}'.\"\n",
    "    )\n",
    "else:\n",
    "    print(\"Configuring classical Single-DisCo head (PyTorch).\")\n"
   ]
  },
  {
   "cell_type": "markdown",
   "id": "8fdb8ffe",
   "metadata": {},
   "source": [
    "\n",
    "## 1. Data loading & scaling (`ABCD_topjets_HLF_mD.py` lines 69-95)\n",
    "\n",
    "The original script concatenates train/validation/test splits, applies a global min-max scaling to all 13 high-level features, and then selects the 11 observables used for the single-network classifier. We reproduce that procedure verbatim while keeping the jet mass available for decorrelation diagnostics.\n"
   ]
  },
  {
   "cell_type": "code",
   "execution_count": 3,
   "id": "b6980f93",
   "metadata": {},
   "outputs": [
    {
     "data": {
      "text/html": [
       "<div>\n",
       "<style scoped>\n",
       "    .dataframe tbody tr th:only-of-type {\n",
       "        vertical-align: middle;\n",
       "    }\n",
       "\n",
       "    .dataframe tbody tr th {\n",
       "        vertical-align: top;\n",
       "    }\n",
       "\n",
       "    .dataframe thead th {\n",
       "        text-align: right;\n",
       "    }\n",
       "</style>\n",
       "<table border=\"1\" class=\"dataframe\">\n",
       "  <thead>\n",
       "    <tr style=\"text-align: right;\">\n",
       "      <th></th>\n",
       "      <th>split</th>\n",
       "      <th>events</th>\n",
       "      <th>signal_fraction</th>\n",
       "    </tr>\n",
       "  </thead>\n",
       "  <tbody>\n",
       "    <tr>\n",
       "      <th>0</th>\n",
       "      <td>train</td>\n",
       "      <td>100000</td>\n",
       "      <td>0.50053</td>\n",
       "    </tr>\n",
       "    <tr>\n",
       "      <th>1</th>\n",
       "      <td>val</td>\n",
       "      <td>50000</td>\n",
       "      <td>0.49670</td>\n",
       "    </tr>\n",
       "    <tr>\n",
       "      <th>2</th>\n",
       "      <td>test</td>\n",
       "      <td>50000</td>\n",
       "      <td>0.49984</td>\n",
       "    </tr>\n",
       "  </tbody>\n",
       "</table>\n",
       "</div>"
      ],
      "text/plain": [
       "   split  events  signal_fraction\n",
       "0  train  100000          0.50053\n",
       "1    val   50000          0.49670\n",
       "2   test   50000          0.49984"
      ]
     },
     "metadata": {},
     "output_type": "display_data"
    },
    {
     "data": {
      "text/html": [
       "<div>\n",
       "<style scoped>\n",
       "    .dataframe tbody tr th:only-of-type {\n",
       "        vertical-align: middle;\n",
       "    }\n",
       "\n",
       "    .dataframe tbody tr th {\n",
       "        vertical-align: top;\n",
       "    }\n",
       "\n",
       "    .dataframe thead th {\n",
       "        text-align: right;\n",
       "    }\n",
       "</style>\n",
       "<table border=\"1\" class=\"dataframe\">\n",
       "  <thead>\n",
       "    <tr style=\"text-align: right;\">\n",
       "      <th></th>\n",
       "      <th>tau1_half</th>\n",
       "      <th>tau2_half</th>\n",
       "      <th>tau3_half</th>\n",
       "      <th>tau1</th>\n",
       "      <th>tau2</th>\n",
       "      <th>tau3</th>\n",
       "      <th>tau4</th>\n",
       "      <th>tau1_sq</th>\n",
       "      <th>tau2_sq</th>\n",
       "      <th>tau3_sq</th>\n",
       "      <th>tau4_sq</th>\n",
       "    </tr>\n",
       "  </thead>\n",
       "  <tbody>\n",
       "    <tr>\n",
       "      <th>0</th>\n",
       "      <td>0.536776</td>\n",
       "      <td>0.500864</td>\n",
       "      <td>0.574945</td>\n",
       "      <td>0.394624</td>\n",
       "      <td>0.339701</td>\n",
       "      <td>0.385666</td>\n",
       "      <td>0.344517</td>\n",
       "      <td>0.234931</td>\n",
       "      <td>0.193813</td>\n",
       "      <td>0.169328</td>\n",
       "      <td>0.218196</td>\n",
       "    </tr>\n",
       "    <tr>\n",
       "      <th>1</th>\n",
       "      <td>0.435426</td>\n",
       "      <td>0.372848</td>\n",
       "      <td>0.350198</td>\n",
       "      <td>0.341338</td>\n",
       "      <td>0.251511</td>\n",
       "      <td>0.206516</td>\n",
       "      <td>0.182207</td>\n",
       "      <td>0.238264</td>\n",
       "      <td>0.154509</td>\n",
       "      <td>0.071783</td>\n",
       "      <td>0.109701</td>\n",
       "    </tr>\n",
       "    <tr>\n",
       "      <th>2</th>\n",
       "      <td>0.258615</td>\n",
       "      <td>0.200300</td>\n",
       "      <td>0.194578</td>\n",
       "      <td>0.202230</td>\n",
       "      <td>0.131560</td>\n",
       "      <td>0.094665</td>\n",
       "      <td>0.105227</td>\n",
       "      <td>0.161852</td>\n",
       "      <td>0.109971</td>\n",
       "      <td>0.035088</td>\n",
       "      <td>0.054957</td>\n",
       "    </tr>\n",
       "    <tr>\n",
       "      <th>3</th>\n",
       "      <td>0.553174</td>\n",
       "      <td>0.588799</td>\n",
       "      <td>0.544666</td>\n",
       "      <td>0.396228</td>\n",
       "      <td>0.439678</td>\n",
       "      <td>0.412337</td>\n",
       "      <td>0.349588</td>\n",
       "      <td>0.231673</td>\n",
       "      <td>0.247405</td>\n",
       "      <td>0.198532</td>\n",
       "      <td>0.148587</td>\n",
       "    </tr>\n",
       "    <tr>\n",
       "      <th>4</th>\n",
       "      <td>0.270467</td>\n",
       "      <td>0.262601</td>\n",
       "      <td>0.248148</td>\n",
       "      <td>0.154974</td>\n",
       "      <td>0.114489</td>\n",
       "      <td>0.119845</td>\n",
       "      <td>0.133753</td>\n",
       "      <td>0.109002</td>\n",
       "      <td>0.039658</td>\n",
       "      <td>0.053723</td>\n",
       "      <td>0.077720</td>\n",
       "    </tr>\n",
       "  </tbody>\n",
       "</table>\n",
       "</div>"
      ],
      "text/plain": [
       "   tau1_half  tau2_half  tau3_half      tau1      tau2      tau3      tau4  \\\n",
       "0   0.536776   0.500864   0.574945  0.394624  0.339701  0.385666  0.344517   \n",
       "1   0.435426   0.372848   0.350198  0.341338  0.251511  0.206516  0.182207   \n",
       "2   0.258615   0.200300   0.194578  0.202230  0.131560  0.094665  0.105227   \n",
       "3   0.553174   0.588799   0.544666  0.396228  0.439678  0.412337  0.349588   \n",
       "4   0.270467   0.262601   0.248148  0.154974  0.114489  0.119845  0.133753   \n",
       "\n",
       "    tau1_sq   tau2_sq   tau3_sq   tau4_sq  \n",
       "0  0.234931  0.193813  0.169328  0.218196  \n",
       "1  0.238264  0.154509  0.071783  0.109701  \n",
       "2  0.161852  0.109971  0.035088  0.054957  \n",
       "3  0.231673  0.247405  0.198532  0.148587  \n",
       "4  0.109002  0.039658  0.053723  0.077720  "
      ]
     },
     "execution_count": 3,
     "metadata": {},
     "output_type": "execute_result"
    }
   ],
   "source": [
    "def _load_tau_file(path: Path) -> np.ndarray:\n",
    "    \"\"\"Load a compressed .dat.gz file into a NumPy array with extensive safety checks.\"\"\"\n",
    "    if not path.exists():\n",
    "        raise FileNotFoundError(f\"Missing dataset: {path}\")\n",
    "    with gzip.open(path, \"rt\") as handle:\n",
    "        # Each file is a plain-text CSV with whitespace delimiters.\n",
    "        data = np.loadtxt(handle)\n",
    "    if data.ndim != 2:\n",
    "        raise ValueError(f\"Expected a 2D array, received shape {data.shape}\")\n",
    "    return data\n",
    "\n",
    "\n",
    "def _split_features_labels(matrix: np.ndarray) -> Tuple[np.ndarray, np.ndarray, np.ndarray, np.ndarray]:\n",
    "    \"\"\"Return feature matrix, binary labels, jet mass, and per-event weights.\n",
    "\n",
    "    The raw files store columns in the order used by the CMS top-tagging study:\n",
    "    - column 0: jet mass (GeV)\n",
    "    - column 1: transverse momentum pT (GeV)\n",
    "    - columns 2-13: the 12 subjettiness-inspired observables used by ABCDisCo\n",
    "    - column 14: binary label (1 = signal, 0 = background)\n",
    "    - column 15: per-event weight (encodes cross-section and luminosity factors)\n",
    "    \"\"\"\n",
    "    if matrix.shape[1] < 16:\n",
    "        raise ValueError(\n",
    "            \"The top-tagging files should contain at least 16 columns. \"\n",
    "            \"Please verify that the dataset matches the expected format.\"\n",
    "        )\n",
    "    mass = matrix[:, 0]\n",
    "    features = matrix[:, SINGLE_FEATURE_INDICES]\n",
    "    labels = matrix[:, 14]\n",
    "    weights = matrix[:, 15]\n",
    "    return features, labels, mass, weights\n",
    "\n",
    "\n",
    "def load_split(name: str, limit: Optional[int] = None) -> Dict[str, np.ndarray]:\n",
    "    \"\"\"Utility that loads one dataset split and optionally truncates it for speed.\"\"\"\n",
    "    matrix = _load_tau_file(RAW_FILES[name])\n",
    "    if limit is not None:\n",
    "        matrix = matrix[:limit]\n",
    "    x, y, mass, weight = _split_features_labels(matrix)\n",
    "    return {\"x\": x, \"y\": y, \"mass\": mass, \"weight\": weight}\n",
    "\n",
    "\n",
    "# ---------------------------------------------------------------\n",
    "# Load train/validation/test partitions into NumPy arrays\n",
    "# ---------------------------------------------------------------\n",
    "arrays = {\n",
    "    split: load_split(split, limit=EVENT_LIMITS[split])\n",
    "    for split in (\"train\", \"val\", \"test\")\n",
    "}\n",
    "for split, payload in arrays.items():\n",
    "    print(\n",
    "        f\"{split:>5} | events={len(payload['x']):>7} | \"\n",
    "        f\"signal={int(payload['y'].sum()):>7} | background={len(payload['y']) - int(payload['y'].sum()):>7}\"\n",
    "    )\n",
    "\n"
   ]
  },
  {
   "cell_type": "markdown",
   "id": "53adbcb2",
   "metadata": {},
   "source": [
    "\n",
    "## 2. Torch datasets (`data_loader.py` lines 22-63)\n",
    "\n",
    "We wrap the min-max scaled arrays into PyTorch `Dataset` objects that expose the classifier inputs, labels, per-event weights, and jet masses used in the DisCo penalty.\n"
   ]
  },
  {
   "cell_type": "code",
   "execution_count": 4,
   "id": "a6f014a0",
   "metadata": {},
   "outputs": [
    {
     "data": {
      "text/plain": [
       "(100000, 50000, 50000)"
      ]
     },
     "execution_count": 4,
     "metadata": {},
     "output_type": "execute_result"
    }
   ],
   "source": [
    "class TorchTopTaggingDataset(Dataset):\n",
    "    \"\"\"Thin PyTorch wrapper that converts numpy arrays into tensors on the fly.\"\"\"\n",
    "\n",
    "    def __init__(self, x: np.ndarray, y: np.ndarray, mass: np.ndarray, weight: np.ndarray | None = None):\n",
    "        # Convert arrays to torch.Tensor so DataLoader can move them to DEVICE efficiently.\n",
    "        self.x = torch.as_tensor(x, dtype=torch.float32)\n",
    "        self.y = torch.as_tensor(y, dtype=torch.float32)\n",
    "        self.mass = torch.as_tensor(mass, dtype=torch.float32)\n",
    "        if weight is None:\n",
    "            weight = np.ones_like(y, dtype=np.float32)\n",
    "        self.weight = torch.as_tensor(weight, dtype=torch.float32)\n",
    "\n",
    "    def __len__(self) -> int:\n",
    "        return self.x.shape[0]\n",
    "\n",
    "    def __getitem__(self, index: int) -> Tuple[torch.Tensor, torch.Tensor, torch.Tensor, torch.Tensor]:\n",
    "        # Each item returns a tuple: (features, label, weight, mass)\n",
    "        return self.x[index], self.y[index], self.weight[index], self.mass[index]\n",
    "\n",
    "\n",
    "def make_dataloaders(arrays: Dict[str, Dict[str, np.ndarray]]) -> Dict[str, DataLoader]:\n",
    "    \"\"\"Create PyTorch DataLoaders with consistent shuffling and batch sizes.\"\"\"\n",
    "    datasets = {\n",
    "        split: TorchTopTaggingDataset(payload[\"x\"], payload[\"y\"], payload[\"mass\"], payload[\"weight\"])\n",
    "        for split, payload in arrays.items()\n",
    "    }\n",
    "    loaders = {\n",
    "        \"train\": DataLoader(datasets[\"train\"], batch_size=BATCH_SIZE, shuffle=True, drop_last=False),\n",
    "        \"val\": DataLoader(datasets[\"val\"], batch_size=BATCH_SIZE, shuffle=False, drop_last=False),\n",
    "        \"test\": DataLoader(datasets[\"test\"], batch_size=BATCH_SIZE, shuffle=False, drop_last=False),\n",
    "    }\n",
    "    return loaders\n",
    "\n",
    "\n",
    "loaders = make_dataloaders(arrays)\n",
    "train_loader, val_loader, test_loader = loaders[\"train\"], loaders[\"val\"], loaders[\"test\"]\n",
    "print(f\"Batches per epoch: train={len(train_loader)}, val={len(val_loader)}, test={len(test_loader)}\")\n",
    "\n"
   ]
  },
  {
   "cell_type": "markdown",
   "id": "22662386",
   "metadata": {},
   "source": [
    "\n",
    "## 3. Model backends (`networks.py` lines 8-44)\n",
    "\n",
    "The Single-DisCo setup uses a single `DNNclassifier` head. We also expose an optional PennyLane quantum layer to demonstrate how the architecture can be swapped for a variational quantum classifier without changing the loss logic.\n"
   ]
  },
  {
   "cell_type": "code",
   "execution_count": 5,
   "id": "5fb324d3",
   "metadata": {},
   "outputs": [
    {
     "name": "stderr",
     "output_type": "stream",
     "text": [
      "/global/u2/s/sungwon/QML_project/ABCDisCo/networks.py:26: FutureWarning: `nn.init.kaiming_normal` is now deprecated in favor of `nn.init.kaiming_normal_`.\n",
      "  init.kaiming_normal(self.classifier.weight)\n"
     ]
    },
    {
     "data": {
      "text/plain": [
       "TorchSingleDisco(\n",
       "  (head): DNNclassifier(\n",
       "    (dense_1): Linear(in_features=11, out_features=64, bias=True)\n",
       "    (bn2): BatchNorm1d(11, eps=1e-05, momentum=0.1, affine=True, track_running_stats=True)\n",
       "    (bn64): BatchNorm1d(64, eps=1e-05, momentum=0.1, affine=True, track_running_stats=True)\n",
       "    (dense_2): Linear(in_features=64, out_features=64, bias=True)\n",
       "    (dense_3): Linear(in_features=64, out_features=64, bias=True)\n",
       "    (classifier): Linear(in_features=64, out_features=2, bias=True)\n",
       "  )\n",
       ")"
      ]
     },
     "execution_count": 5,
     "metadata": {},
     "output_type": "execute_result"
    }
   ],
   "source": [
    "class TorchSingleDisco(nn.Module):\n",
    "    \"\"\"Wrap the original dense network with explicit comments on each processing step.\"\"\"\n",
    "\n",
    "    def __init__(self, n_features: int):\n",
    "        super().__init__()\n",
    "        # The historical Single-DisCo architecture uses a small fully-connected head\n",
    "        # defined in networks.py.  It produces two logits (background vs. signal).\n",
    "        self.head = DNNclassifier(n_features, 2)\n",
    "\n",
    "    def forward(self, x: torch.Tensor) -> Tuple[torch.Tensor, torch.Tensor]:\n",
    "        logits = self.head(x)  # Raw, unnormalised scores for the two classes\n",
    "        # Convert logits into probabilities with a softmax so the second entry\n",
    "        # can be interpreted as the \"signal score\" used in ABCD studies.\n",
    "        score = F.softmax(logits, dim=1)[:, 1]\n",
    "        return logits, score\n",
    "\n",
    "\n",
    "class PennyLaneSingleDisco(nn.Module):\n",
    "    \"\"\"Variational quantum classifier compatible with the Single-DisCo loss.\"\"\"\n",
    "\n",
    "    def __init__(self, n_features: int, n_qubits: int = 6, layers: int = 2, device_name: str = \"default.qubit\"):\n",
    "        if not PENNYLANE_AVAILABLE:\n",
    "            raise RuntimeError(\"PennyLane is not installed. Run `%pip install pennylane pennylane-lightning`.\")\n",
    "        super().__init__()\n",
    "\n",
    "        self.n_qubits = n_qubits\n",
    "        self.n_features = n_features\n",
    "\n",
    "        # The device emulates a quantum processor; default.qubit is a noiseless state-vector simulator.\n",
    "        qdevice = qml.device(device_name, wires=n_qubits)\n",
    "        weight_shapes = {\"weights\": (layers, n_qubits)}  # PennyLane infers how many trainable parameters we need.\n",
    "\n",
    "        @qml.qnode(qdevice, interface=\"torch\")\n",
    "        def circuit(inputs, weights):\n",
    "            # ------------------------------------------------------------------\n",
    "            # Python tip: \"inputs\" is a tensor of shape [batch, n_features].  Inside\n",
    "            # the QNode we receive one example at a time, so we reshape/pad it to match\n",
    "            # the qubit register dimension.  This slicing logic emphasises how data\n",
    "            # embedding works before calling AngleEmbedding.\n",
    "            # ------------------------------------------------------------------\n",
    "            x_pad = torch.zeros(n_qubits, dtype=inputs.dtype, device=inputs.device)\n",
    "            take = min(inputs.shape[-1], n_qubits)\n",
    "            x_pad[:take] = inputs[..., :take]\n",
    "            # AngleEmbedding rotates each qubit around the Y-axis with the provided\n",
    "            # feature values.  This is equivalent to preparing a product state where\n",
    "            # each qubit encodes one observable from the jet.\n",
    "            qml.templates.AngleEmbedding(x_pad, wires=range(n_qubits), rotation=\"Y\")\n",
    "            # BasicEntanglerLayers applies layers of CX entanglers plus single-qubit rotations,\n",
    "            # giving the circuit expressive power.  The \"weights\" argument is trained by PyTorch.\n",
    "            qml.templates.BasicEntanglerLayers(weights, wires=range(n_qubits))\n",
    "            # Measure Pauli-Z on the first two wires; these expectation values are the quantum features.\n",
    "            return [qml.expval(qml.PauliZ(i)) for i in range(2)]\n",
    "\n",
    "        # TorchLayer wraps the quantum node so it behaves like a PyTorch module with trainable parameters.\n",
    "        self.qlayer = qml.qnn.TorchLayer(circuit, weight_shapes)\n",
    "        # Map the two quantum observables into class logits.\n",
    "        self.head = nn.Linear(2, 2)\n",
    "\n",
    "    def forward(self, x: torch.Tensor) -> Tuple[torch.Tensor, torch.Tensor]:\n",
    "        # Feed only the first n_qubits features to the quantum circuit.  Remaining classical features\n",
    "        # could be concatenated in hybrid architectures; for Single-DisCo we limit ourselves to n_qubits.\n",
    "        q_inputs = x[:, : self.n_qubits]\n",
    "        q_features = self.qlayer(q_inputs)\n",
    "        logits = self.head(q_features)\n",
    "        score = F.softmax(logits, dim=1)[:, 1]\n",
    "        return logits, score\n",
    "\n",
    "\n",
    "def build_model(n_features: int) -> nn.Module:\n",
    "    \"\"\"Factory that returns either the classical or quantum head depending on BACKEND.\"\"\"\n",
    "    if BACKEND == \"qml\":\n",
    "        model = PennyLaneSingleDisco(n_features, n_qubits=N_QUBITS, layers=QML_LAYERS, device_name=QML_DEVICE)\n",
    "    else:\n",
    "        model = TorchSingleDisco(n_features)\n",
    "    return model.to(DEVICE)\n",
    "\n",
    "\n",
    "model = build_model(len(FEATURE_NAMES))\n",
    "optimizer = torch.optim.Adam(model.parameters(), lr=LEARNING_RATE)\n",
    "model\n",
    "\n"
   ]
  },
  {
   "cell_type": "code",
   "execution_count": null,
   "id": "55000146",
   "metadata": {},
   "outputs": [],
   "source": [
    "def describe_model_architecture(model: nn.Module, optimizer: torch.optim.Optimizer) -> pd.DataFrame:\n",
    "    \"\"\"Generate a tabular summary of learnable layers and hyper-parameters.\"\"\"\n",
    "    rows = []\n",
    "    for name, module in model.named_modules():\n",
    "        if name == \"\":\n",
    "            continue  # skip the root module to avoid duplicate rows\n",
    "        if any(module.children()):\n",
    "            continue  # only list leaf modules so the table stays compact\n",
    "        params = sum(p.numel() for p in module.parameters())\n",
    "        trainable = any(p.requires_grad for p in module.parameters())\n",
    "        rows.append({\n",
    "            \"module\": name,\n",
    "            \"type\": module.__class__.__name__,\n",
    "            \"parameters\": params,\n",
    "            \"trainable\": trainable,\n",
    "        })\n",
    "    df = pd.DataFrame(rows).sort_values(\"module\")\n",
    "    total_params = int(sum(row[\"parameters\"] for row in rows))\n",
    "    print(\"Optimizer:\", optimizer.__class__.__name__)\n",
    "    print(\"Learning rate:\", optimizer.param_groups[0][\"lr\"])\n",
    "    print(\"Total learnable parameters:\", total_params)\n",
    "    return df\n",
    "\n",
    "\n",
    "architecture_df = describe_model_architecture(model, optimizer)\n",
    "architecture_df\n",
    "\n"
   ]
  },
  {
   "cell_type": "markdown",
   "id": "54a33af9",
   "metadata": {},
   "source": [
    "def distance_corr_safe(x: torch.Tensor, y: torch.Tensor, weight: torch.Tensor) -> torch.Tensor:\n",
    "    \"\"\"Distance correlation with guard rails for small sample sizes.\"\"\"\n",
    "    if x.numel() <= 2 or y.numel() <= 2:\n",
    "        return torch.zeros(1, device=x.device, dtype=x.dtype)\n",
    "    normed = weight / (weight.sum() + 1e-12) * len(weight)\n",
    "    return distance_corr_unbiased(x, y, normed, power=1)\n",
    "\n",
    "\n",
    "def compute_weighted_classification_stats(labels: torch.Tensor, scores: torch.Tensor, weights: torch.Tensor, threshold: float = 0.5) -> Dict[str, float]:\n",
    "    \"\"\"Return weighted TP/FP/TN/FN counts and derived metrics for binary classification.\"\"\"\n",
    "    preds = (scores >= threshold).to(labels.dtype)\n",
    "    w = weights\n",
    "    tp = torch.sum(w * (preds == 1) * (labels == 1))\n",
    "    tn = torch.sum(w * (preds == 0) * (labels == 0))\n",
    "    fp = torch.sum(w * (preds == 1) * (labels == 0))\n",
    "    fn = torch.sum(w * (preds == 0) * (labels == 1))\n",
    "    total = tp + tn + fp + fn + 1e-12\n",
    "    accuracy = (tp + tn) / total\n",
    "    precision = tp / (tp + fp + 1e-12)\n",
    "    recall = tp / (tp + fn + 1e-12)\n",
    "    f1 = 2 * precision * recall / (precision + recall + 1e-12)\n",
    "    return {\n",
    "        \"tp\": tp.item(),\n",
    "        \"tn\": tn.item(),\n",
    "        \"fp\": fp.item(),\n",
    "        \"fn\": fn.item(),\n",
    "        \"accuracy\": accuracy.item(),\n",
    "        \"precision\": precision.item(),\n",
    "        \"recall\": recall.item(),\n",
    "        \"f1\": f1.item(),\n",
    "    }\n",
    "\n",
    "\n",
    "def compute_losses(model: nn.Module, batch: Tuple[torch.Tensor, ...]) -> Tuple[torch.Tensor, Dict[str, float]]:\n",
    "    \"\"\"Compute classification + decorrelation losses together with monitoring metrics.\"\"\"\n",
    "    features, labels, weights, masses = batch\n",
    "    features = features.to(DEVICE)\n",
    "    labels = labels.to(DEVICE)\n",
    "    weights = weights.to(DEVICE)\n",
    "    masses = masses.to(DEVICE)\n",
    "\n",
    "    logits, score = model(features)\n",
    "    loss_cls = F.binary_cross_entropy(score, labels, weight=weights)\n",
    "    loss = loss_cls\n",
    "\n",
    "    stats = compute_weighted_classification_stats(labels, score, weights)\n",
    "    metrics = {\n",
    "        \"loss_cls\": float(loss_cls.detach().cpu()),\n",
    "        \"accuracy\": float(stats[\"accuracy\"]),\n",
    "        \"precision\": float(stats[\"precision\"]),\n",
    "        \"recall\": float(stats[\"recall\"]),\n",
    "        \"f1\": float(stats[\"f1\"]),\n",
    "    }\n",
    "\n",
    "    background = labels < 0.5\n",
    "    if background.any() and LAMBDA_MASS > 0.0:\n",
    "        w_bkg = torch.ones_like(weights[background])\n",
    "        d_mass = distance_corr_safe(score[background], masses[background], w_bkg)\n",
    "        loss = loss + LAMBDA_MASS * d_mass\n",
    "        metrics[\"dCorr_s_m\"] = float(d_mass.detach().cpu())\n",
    "\n",
    "    return loss, metrics\n",
    "\n"
   ]
  },
  {
   "cell_type": "code",
   "execution_count": 6,
   "id": "f77a02f2",
   "metadata": {},
   "outputs": [],
   "source": [
    "\n",
    "def distance_corr_safe(x: torch.Tensor, y: torch.Tensor, weight: torch.Tensor) -> torch.Tensor:\n",
    "    if x.numel() <= 2 or y.numel() <= 2:\n",
    "        return torch.zeros(1, device=x.device, dtype=x.dtype)\n",
    "    normed = weight / (weight.sum() + 1e-12) * len(weight)\n",
    "    return distance_corr_unbiased(x, y, normed, power=1)\n",
    "\n",
    "\n",
    "def compute_losses(model: nn.Module, batch: Tuple[torch.Tensor, ...]) -> Tuple[torch.Tensor, Dict[str, float]]:\n",
    "    features, labels, weights, masses = batch\n",
    "    features = features.to(DEVICE)\n",
    "    labels = labels.to(DEVICE)\n",
    "    weights = weights.to(DEVICE)\n",
    "    masses = masses.to(DEVICE)\n",
    "\n",
    "    logits, score = model(features)\n",
    "    loss_cls = F.binary_cross_entropy(score, labels, weight=weights)\n",
    "    loss = loss_cls\n",
    "\n",
    "    metrics = {\n",
    "        \"loss_cls\": float(loss_cls.detach().cpu()),\n",
    "    }\n",
    "\n",
    "    background = labels < 0.5\n",
    "    if background.any() and LAMBDA_MASS > 0.0:\n",
    "        w_bkg = torch.ones_like(weights[background])\n",
    "        d_mass = distance_corr_safe(score[background], masses[background], w_bkg)\n",
    "        loss = loss + LAMBDA_MASS * d_mass\n",
    "        metrics[\"dCorr_s_m\"] = float(d_mass.detach().cpu())\n",
    "\n",
    "    return loss, metrics\n"
   ]
  },
  {
   "cell_type": "code",
   "execution_count": null,
   "id": "bc5f370c",
   "metadata": {},
   "outputs": [],
   "source": [
    "def weighted_quantile(values: np.ndarray, quantile: float, sample_weight: np.ndarray) -> float:\n",
    "    \"\"\"Weighted quantile helper mirroring the definition in the evaluation guide.\"\"\"\n",
    "    order = np.argsort(values)\n",
    "    values = values[order]\n",
    "    weights = sample_weight[order]\n",
    "    cumulative = np.cumsum(weights) - 0.5 * weights\n",
    "    cumulative /= weights.sum()\n",
    "    return float(np.interp(quantile, cumulative, values))\n",
    "\n",
    "\n",
    "def compute_epoch_classification_metrics(scores: np.ndarray, labels: np.ndarray, weights: np.ndarray) -> Dict[str, Any]:\n",
    "    \"\"\"Compute accuracy/precision/recall/F1 and a weighted confusion matrix.\"\"\"\n",
    "    preds = (scores >= 0.5).astype(int)\n",
    "    metrics = {\n",
    "        \"accuracy\": accuracy_score(labels, preds, sample_weight=weights),\n",
    "        \"precision\": precision_score(labels, preds, sample_weight=weights, zero_division=0),\n",
    "        \"recall\": recall_score(labels, preds, sample_weight=weights, zero_division=0),\n",
    "        \"f1\": f1_score(labels, preds, sample_weight=weights, zero_division=0),\n",
    "    }\n",
    "    cm = confusion_matrix(labels, preds, sample_weight=weights)\n",
    "    metrics[\"confusion_matrix\"] = cm.astype(float)\n",
    "    return metrics\n",
    "\n",
    "\n",
    "def compute_roc_diagnostics(scores: np.ndarray, labels: np.ndarray, weights: np.ndarray) -> Dict[str, Any]:\n",
    "    \"\"\"Return ROC arrays and background rejection at fixed signal efficiencies.\"\"\"\n",
    "    fpr, tpr, thresholds = roc_curve(labels, scores, sample_weight=weights)\n",
    "    roc_auc = auc(fpr, tpr)\n",
    "    diagnostics = {\"fpr\": fpr, \"tpr\": tpr, \"thresholds\": thresholds, \"auc\": roc_auc}\n",
    "    for target in SCORE_SIGNAL_EFFICIENCIES:\n",
    "        diagnostics[f\"background_eff_at_{int(target*100)}pct_sig\"] = float(np.interp(target, tpr, fpr))\n",
    "    return diagnostics\n",
    "\n",
    "\n",
    "def compute_abcd_statistics(scores: np.ndarray, masses: np.ndarray, labels: np.ndarray, weights: np.ndarray) -> Dict[str, Any]:\n",
    "    \"\"\"Evaluate ABCD closure, pulls, and background efficiencies as recommended in the guide.\"\"\"\n",
    "    signal_mask = labels > 0.5\n",
    "    background_mask = ~signal_mask\n",
    "    if signal_mask.sum() == 0 or background_mask.sum() == 0:\n",
    "        raise ValueError(\"Need both signal and background events to evaluate ABCD metrics\")\n",
    "    mass_low = np.quantile(masses[signal_mask], ABCD_SIGNAL_WINDOW_QUANTILES[0])\n",
    "    mass_high = np.quantile(masses[signal_mask], ABCD_SIGNAL_WINDOW_QUANTILES[1])\n",
    "    in_signal_mass = (masses >= mass_low) & (masses <= mass_high)\n",
    "\n",
    "    results = {\n",
    "        \"mass_window\": (mass_low, mass_high),\n",
    "        \"per_efficiency\": [],\n",
    "    }\n",
    "\n",
    "    for target in SCORE_SIGNAL_EFFICIENCIES:\n",
    "        score_cut = weighted_quantile(scores[signal_mask], 1 - target, weights[signal_mask])\n",
    "        pass_score = scores >= score_cut\n",
    "        region_A = pass_score & in_signal_mass\n",
    "        region_B = pass_score & (~in_signal_mass)\n",
    "        region_C = (~pass_score) & in_signal_mass\n",
    "        region_D = (~pass_score) & (~in_signal_mass)\n",
    "\n",
    "        def weighted_sum(mask: np.ndarray) -> float:\n",
    "            return float(np.sum(weights[mask]))\n",
    "\n",
    "        A_bg = weighted_sum(background_mask & region_A)\n",
    "        B_bg = weighted_sum(background_mask & region_B)\n",
    "        C_bg = weighted_sum(background_mask & region_C)\n",
    "        D_bg = weighted_sum(background_mask & region_D)\n",
    "        prediction = B_bg * C_bg / (D_bg + 1e-12)\n",
    "        closure_ratio = prediction / (A_bg + 1e-12)\n",
    "        sigma_pred = prediction * np.sqrt(1 / (B_bg + 1e-12) + 1 / (C_bg + 1e-12) + 1 / (D_bg + 1e-12))\n",
    "        sigma_obs = np.sqrt(A_bg + 1e-12)\n",
    "        pull = (A_bg - prediction) / np.sqrt(sigma_pred**2 + sigma_obs**2)\n",
    "\n",
    "        results[\"per_efficiency\"].append(\n",
    "            {\n",
    "                \"target_signal_efficiency\": target,\n",
    "                \"score_cut\": score_cut,\n",
    "                \"A_bg\": A_bg,\n",
    "                \"B_bg\": B_bg,\n",
    "                \"C_bg\": C_bg,\n",
    "                \"D_bg\": D_bg,\n",
    "                \"predicted_bg\": prediction,\n",
    "                \"closure_ratio\": closure_ratio,\n",
    "                \"closure_error_pct\": (closure_ratio - 1.0) * 100.0,\n",
    "                \"pull\": pull,\n",
    "            }\n",
    "        )\n",
    "\n",
    "    return results\n",
    "\n",
    "\n",
    "def compute_jsd_summary(scores: np.ndarray, masses: np.ndarray, labels: np.ndarray, weights: np.ndarray) -> List[Dict[str, float]]:\n",
    "    \"\"\"Call the reference JSDvsR routine for multiple working points and capture the outputs.\"\"\"\n",
    "    background = labels < 0.5\n",
    "    signal = labels > 0.5\n",
    "    summary = []\n",
    "    for target in SCORE_SIGNAL_EFFICIENCIES:\n",
    "        rejection, inv_jsd = JSDvsR(\n",
    "            sigscore=scores[signal],\n",
    "            bgscore=scores[background],\n",
    "            bgmass=masses[background],\n",
    "            sigweights=weights[signal],\n",
    "            bgweights=weights[background],\n",
    "            sigeff=int(target * 100),\n",
    "            nbins=ABCD_HISTOGRAM_BINS,\n",
    "            minmass=float(masses.min()),\n",
    "            maxmass=float(masses.max()),\n",
    "        )\n",
    "        summary.append({\n",
    "            \"target_signal_efficiency\": target,\n",
    "            \"background_rejection\": rejection,\n",
    "            \"inverse_jsd\": inv_jsd,\n",
    "        })\n",
    "    return summary\n",
    "\n",
    "\n",
    "def save_checkpoint(epoch: int, model: nn.Module, optimizer: torch.optim.Optimizer, history: List[Dict[str, Any]], train_record: Dict[str, Any], val_record: Dict[str, Any], extra: Dict[str, Any]) -> Path:\n",
    "    \"\"\"Persist model, optimiser, and evaluation metadata so training can resume later.\"\"\"\n",
    "    payload = {\n",
    "        \"epoch\": epoch,\n",
    "        \"timestamp\": datetime.utcnow().isoformat() + \"Z\",\n",
    "        \"model_state\": model.state_dict(),\n",
    "        \"optimizer_state\": optimizer.state_dict(),\n",
    "        \"history\": history,\n",
    "        \"train_record\": train_record,\n",
    "        \"val_record\": val_record,\n",
    "    }\n",
    "    payload.update(extra)\n",
    "    path = CHECKPOINT_DIR / CHECKPOINT_TEMPLATE.format(epoch=epoch)\n",
    "    torch.save(payload, path)\n",
    "    print(f\"Checkpoint saved to {path}\")\n",
    "    return path\n",
    "\n",
    "\n",
    "def load_checkpoint(path: Path, model: nn.Module, optimizer: torch.optim.Optimizer) -> Dict[str, Any]:\n",
    "    \"\"\"Load a saved checkpoint and restore model/optimiser states.\"\"\"\n",
    "    payload = torch.load(path, map_location=DEVICE)\n",
    "    model.load_state_dict(payload[\"model_state\"])\n",
    "    optimizer.load_state_dict(payload[\"optimizer_state\"])\n",
    "    print(f\"Loaded checkpoint from {path}\")\n",
    "    return payload\n",
    "\n",
    "\n",
    "def list_available_checkpoints() -> List[Path]:\n",
    "    \"\"\"Return checkpoints sorted by epoch number to ease manual selection.\"\"\"\n",
    "    paths = sorted(CHECKPOINT_DIR.glob(\"epoch_*.pth\"))\n",
    "    for p in paths:\n",
    "        print(p.name)\n",
    "    return paths\n",
    "\n"
   ]
  },
  {
   "cell_type": "markdown",
   "id": "4b9d446a",
   "metadata": {},
   "source": [
    "\n",
    "## 5. Training loop (`model.py` lines 88-170)\n",
    "\n",
    "We adapt the original `train`/`val` helpers to work seamlessly on CPU/GPU and to log the DisCo decorrelation term alongside the classification loss.\n"
   ]
  },
  {
   "cell_type": "code",
   "execution_count": 7,
   "id": "1b6468b4",
   "metadata": {},
   "outputs": [
    {
     "name": "stderr",
     "output_type": "stream",
     "text": [
      "                                                      \r"
     ]
    },
    {
     "name": "stdout",
     "output_type": "stream",
     "text": [
      "Epoch 000 | AUC=0.342 | train_loss=0.718 | val_loss=0.715\n"
     ]
    },
    {
     "name": "stderr",
     "output_type": "stream",
     "text": [
      "                                                      \r"
     ]
    },
    {
     "name": "stdout",
     "output_type": "stream",
     "text": [
      "Epoch 001 | AUC=0.430 | train_loss=0.727 | val_loss=0.730\n"
     ]
    },
    {
     "name": "stderr",
     "output_type": "stream",
     "text": [
      "                                                      \r"
     ]
    },
    {
     "name": "stdout",
     "output_type": "stream",
     "text": [
      "Epoch 002 | AUC=0.451 | train_loss=0.723 | val_loss=0.727\n"
     ]
    },
    {
     "name": "stderr",
     "output_type": "stream",
     "text": [
      "                                                      \r"
     ]
    },
    {
     "name": "stdout",
     "output_type": "stream",
     "text": [
      "Epoch 003 | AUC=0.462 | train_loss=0.719 | val_loss=0.727\n"
     ]
    },
    {
     "name": "stderr",
     "output_type": "stream",
     "text": [
      "                                                      \r"
     ]
    },
    {
     "name": "stdout",
     "output_type": "stream",
     "text": [
      "Epoch 004 | AUC=0.488 | train_loss=0.716 | val_loss=0.720\n"
     ]
    },
    {
     "name": "stderr",
     "output_type": "stream",
     "text": [
      "                                                      \r"
     ]
    },
    {
     "name": "stdout",
     "output_type": "stream",
     "text": [
      "Epoch 005 | AUC=0.503 | train_loss=0.709 | val_loss=0.715\n"
     ]
    },
    {
     "name": "stderr",
     "output_type": "stream",
     "text": [
      "                                                      \r"
     ]
    },
    {
     "name": "stdout",
     "output_type": "stream",
     "text": [
      "Epoch 006 | AUC=0.579 | train_loss=0.702 | val_loss=0.683\n"
     ]
    },
    {
     "name": "stderr",
     "output_type": "stream",
     "text": [
      "                                                      \r"
     ]
    },
    {
     "name": "stdout",
     "output_type": "stream",
     "text": [
      "Epoch 007 | AUC=0.550 | train_loss=0.696 | val_loss=0.696\n"
     ]
    },
    {
     "name": "stderr",
     "output_type": "stream",
     "text": [
      "                                                      \r"
     ]
    },
    {
     "name": "stdout",
     "output_type": "stream",
     "text": [
      "Epoch 008 | AUC=0.512 | train_loss=0.696 | val_loss=0.715\n"
     ]
    },
    {
     "name": "stderr",
     "output_type": "stream",
     "text": [
      "                                                      \r"
     ]
    },
    {
     "name": "stdout",
     "output_type": "stream",
     "text": [
      "Epoch 009 | AUC=0.584 | train_loss=0.694 | val_loss=0.683\n"
     ]
    },
    {
     "name": "stderr",
     "output_type": "stream",
     "text": [
      "                                                      \r"
     ]
    },
    {
     "name": "stdout",
     "output_type": "stream",
     "text": [
      "Epoch 010 | AUC=0.573 | train_loss=0.686 | val_loss=0.689\n"
     ]
    },
    {
     "name": "stderr",
     "output_type": "stream",
     "text": [
      "                                                      \r"
     ]
    },
    {
     "name": "stdout",
     "output_type": "stream",
     "text": [
      "Epoch 011 | AUC=0.596 | train_loss=0.688 | val_loss=0.678\n"
     ]
    },
    {
     "name": "stderr",
     "output_type": "stream",
     "text": [
      "                                                      \r"
     ]
    },
    {
     "name": "stdout",
     "output_type": "stream",
     "text": [
      "Epoch 012 | AUC=0.566 | train_loss=0.683 | val_loss=0.694\n"
     ]
    },
    {
     "name": "stderr",
     "output_type": "stream",
     "text": [
      "                                                      \r"
     ]
    },
    {
     "name": "stdout",
     "output_type": "stream",
     "text": [
      "Epoch 013 | AUC=0.643 | train_loss=0.676 | val_loss=0.656\n"
     ]
    },
    {
     "name": "stderr",
     "output_type": "stream",
     "text": [
      "                                                      \r"
     ]
    },
    {
     "name": "stdout",
     "output_type": "stream",
     "text": [
      "Epoch 014 | AUC=0.617 | train_loss=0.674 | val_loss=0.674\n"
     ]
    },
    {
     "name": "stderr",
     "output_type": "stream",
     "text": [
      "                                                      \r"
     ]
    },
    {
     "name": "stdout",
     "output_type": "stream",
     "text": [
      "Epoch 015 | AUC=0.652 | train_loss=0.668 | val_loss=0.656\n"
     ]
    },
    {
     "name": "stderr",
     "output_type": "stream",
     "text": [
      "                                                      \r"
     ]
    },
    {
     "name": "stdout",
     "output_type": "stream",
     "text": [
      "Epoch 016 | AUC=0.645 | train_loss=0.661 | val_loss=0.660\n"
     ]
    },
    {
     "name": "stderr",
     "output_type": "stream",
     "text": [
      "                                                      \r"
     ]
    },
    {
     "name": "stdout",
     "output_type": "stream",
     "text": [
      "Epoch 017 | AUC=0.665 | train_loss=0.649 | val_loss=0.649\n"
     ]
    },
    {
     "name": "stderr",
     "output_type": "stream",
     "text": [
      "                                                      \r"
     ]
    },
    {
     "name": "stdout",
     "output_type": "stream",
     "text": [
      "Epoch 018 | AUC=0.679 | train_loss=0.641 | val_loss=0.638\n"
     ]
    },
    {
     "name": "stderr",
     "output_type": "stream",
     "text": [
      "                                                      \r"
     ]
    },
    {
     "name": "stdout",
     "output_type": "stream",
     "text": [
      "Epoch 019 | AUC=0.705 | train_loss=0.633 | val_loss=0.623\n"
     ]
    },
    {
     "name": "stderr",
     "output_type": "stream",
     "text": [
      "                                                      \r"
     ]
    },
    {
     "name": "stdout",
     "output_type": "stream",
     "text": [
      "Epoch 020 | AUC=0.726 | train_loss=0.621 | val_loss=0.610\n"
     ]
    },
    {
     "name": "stderr",
     "output_type": "stream",
     "text": [
      "                                                      \r"
     ]
    },
    {
     "name": "stdout",
     "output_type": "stream",
     "text": [
      "Epoch 021 | AUC=0.711 | train_loss=0.614 | val_loss=0.620\n"
     ]
    },
    {
     "name": "stderr",
     "output_type": "stream",
     "text": [
      "                                                      \r"
     ]
    },
    {
     "name": "stdout",
     "output_type": "stream",
     "text": [
      "Epoch 022 | AUC=0.748 | train_loss=0.604 | val_loss=0.593\n"
     ]
    },
    {
     "name": "stderr",
     "output_type": "stream",
     "text": [
      "                                                      \r"
     ]
    },
    {
     "name": "stdout",
     "output_type": "stream",
     "text": [
      "Epoch 023 | AUC=0.721 | train_loss=0.597 | val_loss=0.609\n"
     ]
    },
    {
     "name": "stderr",
     "output_type": "stream",
     "text": [
      "                                                      \r"
     ]
    },
    {
     "name": "stdout",
     "output_type": "stream",
     "text": [
      "Epoch 024 | AUC=0.764 | train_loss=0.593 | val_loss=0.581\n"
     ]
    },
    {
     "name": "stderr",
     "output_type": "stream",
     "text": [
      "                                                      \r"
     ]
    },
    {
     "name": "stdout",
     "output_type": "stream",
     "text": [
      "Epoch 025 | AUC=0.771 | train_loss=0.583 | val_loss=0.572\n"
     ]
    },
    {
     "name": "stderr",
     "output_type": "stream",
     "text": [
      "                                                      \r"
     ]
    },
    {
     "name": "stdout",
     "output_type": "stream",
     "text": [
      "Epoch 026 | AUC=0.801 | train_loss=0.577 | val_loss=0.548\n"
     ]
    },
    {
     "name": "stderr",
     "output_type": "stream",
     "text": [
      "                                                      \r"
     ]
    },
    {
     "name": "stdout",
     "output_type": "stream",
     "text": [
      "Epoch 027 | AUC=0.777 | train_loss=0.574 | val_loss=0.567\n"
     ]
    },
    {
     "name": "stderr",
     "output_type": "stream",
     "text": [
      "                                                      \r"
     ]
    },
    {
     "name": "stdout",
     "output_type": "stream",
     "text": [
      "Epoch 028 | AUC=0.779 | train_loss=0.566 | val_loss=0.564\n"
     ]
    },
    {
     "name": "stderr",
     "output_type": "stream",
     "text": [
      "                                                      \r"
     ]
    },
    {
     "name": "stdout",
     "output_type": "stream",
     "text": [
      "Epoch 029 | AUC=0.784 | train_loss=0.562 | val_loss=0.558\n"
     ]
    },
    {
     "name": "stderr",
     "output_type": "stream",
     "text": [
      "                                                      \r"
     ]
    },
    {
     "name": "stdout",
     "output_type": "stream",
     "text": [
      "Epoch 030 | AUC=0.789 | train_loss=0.553 | val_loss=0.556\n"
     ]
    },
    {
     "name": "stderr",
     "output_type": "stream",
     "text": [
      "                                                      \r"
     ]
    },
    {
     "name": "stdout",
     "output_type": "stream",
     "text": [
      "Epoch 031 | AUC=0.795 | train_loss=0.547 | val_loss=0.548\n"
     ]
    },
    {
     "name": "stderr",
     "output_type": "stream",
     "text": [
      "                                                      \r"
     ]
    },
    {
     "name": "stdout",
     "output_type": "stream",
     "text": [
      "Epoch 032 | AUC=0.791 | train_loss=0.553 | val_loss=0.551\n"
     ]
    },
    {
     "name": "stderr",
     "output_type": "stream",
     "text": [
      "                                                      \r"
     ]
    },
    {
     "name": "stdout",
     "output_type": "stream",
     "text": [
      "Epoch 033 | AUC=0.780 | train_loss=0.547 | val_loss=0.558\n"
     ]
    },
    {
     "name": "stderr",
     "output_type": "stream",
     "text": [
      "                                                      \r"
     ]
    },
    {
     "name": "stdout",
     "output_type": "stream",
     "text": [
      "Epoch 034 | AUC=0.771 | train_loss=0.539 | val_loss=0.571\n"
     ]
    },
    {
     "name": "stderr",
     "output_type": "stream",
     "text": [
      "                                                      \r"
     ]
    },
    {
     "name": "stdout",
     "output_type": "stream",
     "text": [
      "Epoch 035 | AUC=0.806 | train_loss=0.546 | val_loss=0.536\n"
     ]
    },
    {
     "name": "stderr",
     "output_type": "stream",
     "text": [
      "                                                      \r"
     ]
    },
    {
     "name": "stdout",
     "output_type": "stream",
     "text": [
      "Epoch 036 | AUC=0.799 | train_loss=0.542 | val_loss=0.545\n"
     ]
    },
    {
     "name": "stderr",
     "output_type": "stream",
     "text": [
      "                                                      \r"
     ]
    },
    {
     "name": "stdout",
     "output_type": "stream",
     "text": [
      "Epoch 037 | AUC=0.830 | train_loss=0.526 | val_loss=0.511\n"
     ]
    },
    {
     "name": "stderr",
     "output_type": "stream",
     "text": [
      "                                                      \r"
     ]
    },
    {
     "name": "stdout",
     "output_type": "stream",
     "text": [
      "Epoch 038 | AUC=0.816 | train_loss=0.521 | val_loss=0.527\n"
     ]
    },
    {
     "name": "stderr",
     "output_type": "stream",
     "text": [
      "                                                      \r"
     ]
    },
    {
     "name": "stdout",
     "output_type": "stream",
     "text": [
      "Epoch 039 | AUC=0.832 | train_loss=0.516 | val_loss=0.507\n"
     ]
    },
    {
     "name": "stderr",
     "output_type": "stream",
     "text": [
      "                                                      \r"
     ]
    },
    {
     "name": "stdout",
     "output_type": "stream",
     "text": [
      "Epoch 040 | AUC=0.828 | train_loss=0.516 | val_loss=0.512\n"
     ]
    },
    {
     "name": "stderr",
     "output_type": "stream",
     "text": [
      "                                                      \r"
     ]
    },
    {
     "name": "stdout",
     "output_type": "stream",
     "text": [
      "Epoch 041 | AUC=0.837 | train_loss=0.523 | val_loss=0.502\n"
     ]
    },
    {
     "name": "stderr",
     "output_type": "stream",
     "text": [
      "                                                      \r"
     ]
    },
    {
     "name": "stdout",
     "output_type": "stream",
     "text": [
      "Epoch 042 | AUC=0.821 | train_loss=0.515 | val_loss=0.517\n"
     ]
    },
    {
     "name": "stderr",
     "output_type": "stream",
     "text": [
      "                                                      \r"
     ]
    },
    {
     "name": "stdout",
     "output_type": "stream",
     "text": [
      "Epoch 043 | AUC=0.813 | train_loss=0.515 | val_loss=0.532\n"
     ]
    },
    {
     "name": "stderr",
     "output_type": "stream",
     "text": [
      "                                                      \r"
     ]
    },
    {
     "name": "stdout",
     "output_type": "stream",
     "text": [
      "Epoch 044 | AUC=0.843 | train_loss=0.519 | val_loss=0.495\n"
     ]
    },
    {
     "name": "stderr",
     "output_type": "stream",
     "text": [
      "                                                      \r"
     ]
    },
    {
     "name": "stdout",
     "output_type": "stream",
     "text": [
      "Epoch 045 | AUC=0.834 | train_loss=0.513 | val_loss=0.503\n"
     ]
    },
    {
     "name": "stderr",
     "output_type": "stream",
     "text": [
      "                                                      \r"
     ]
    },
    {
     "name": "stdout",
     "output_type": "stream",
     "text": [
      "Epoch 046 | AUC=0.818 | train_loss=0.515 | val_loss=0.522\n"
     ]
    },
    {
     "name": "stderr",
     "output_type": "stream",
     "text": [
      "                                                      \r"
     ]
    },
    {
     "name": "stdout",
     "output_type": "stream",
     "text": [
      "Epoch 047 | AUC=0.813 | train_loss=0.511 | val_loss=0.532\n"
     ]
    },
    {
     "name": "stderr",
     "output_type": "stream",
     "text": [
      "                                                      \r"
     ]
    },
    {
     "name": "stdout",
     "output_type": "stream",
     "text": [
      "Epoch 048 | AUC=0.810 | train_loss=0.521 | val_loss=0.539\n"
     ]
    },
    {
     "name": "stderr",
     "output_type": "stream",
     "text": [
      "                                                      "
     ]
    },
    {
     "name": "stdout",
     "output_type": "stream",
     "text": [
      "Epoch 049 | AUC=0.817 | train_loss=0.518 | val_loss=0.528\n"
     ]
    },
    {
     "name": "stderr",
     "output_type": "stream",
     "text": [
      "\r"
     ]
    },
    {
     "data": {
      "text/html": [
       "<div>\n",
       "<style scoped>\n",
       "    .dataframe tbody tr th:only-of-type {\n",
       "        vertical-align: middle;\n",
       "    }\n",
       "\n",
       "    .dataframe tbody tr th {\n",
       "        vertical-align: top;\n",
       "    }\n",
       "\n",
       "    .dataframe thead th {\n",
       "        text-align: right;\n",
       "    }\n",
       "</style>\n",
       "<table border=\"1\" class=\"dataframe\">\n",
       "  <thead>\n",
       "    <tr style=\"text-align: right;\">\n",
       "      <th></th>\n",
       "      <th>epoch</th>\n",
       "      <th>roc_auc</th>\n",
       "      <th>train_loss_cls</th>\n",
       "      <th>train_dCorr_s_m</th>\n",
       "      <th>val_loss</th>\n",
       "      <th>val_loss_cls</th>\n",
       "      <th>val_dCorr_s_m</th>\n",
       "    </tr>\n",
       "  </thead>\n",
       "  <tbody>\n",
       "    <tr>\n",
       "      <th>45</th>\n",
       "      <td>45</td>\n",
       "      <td>0.834063</td>\n",
       "      <td>0.513059</td>\n",
       "      <td>0.000859</td>\n",
       "      <td>0.660538</td>\n",
       "      <td>0.502515</td>\n",
       "      <td>0.000790</td>\n",
       "    </tr>\n",
       "    <tr>\n",
       "      <th>46</th>\n",
       "      <td>46</td>\n",
       "      <td>0.817780</td>\n",
       "      <td>0.515202</td>\n",
       "      <td>0.000892</td>\n",
       "      <td>0.687485</td>\n",
       "      <td>0.521621</td>\n",
       "      <td>0.000829</td>\n",
       "    </tr>\n",
       "    <tr>\n",
       "      <th>47</th>\n",
       "      <td>47</td>\n",
       "      <td>0.813367</td>\n",
       "      <td>0.510593</td>\n",
       "      <td>0.001777</td>\n",
       "      <td>0.846683</td>\n",
       "      <td>0.532455</td>\n",
       "      <td>0.001571</td>\n",
       "    </tr>\n",
       "    <tr>\n",
       "      <th>48</th>\n",
       "      <td>48</td>\n",
       "      <td>0.810317</td>\n",
       "      <td>0.521281</td>\n",
       "      <td>0.002259</td>\n",
       "      <td>0.783155</td>\n",
       "      <td>0.538678</td>\n",
       "      <td>0.001222</td>\n",
       "    </tr>\n",
       "    <tr>\n",
       "      <th>49</th>\n",
       "      <td>49</td>\n",
       "      <td>0.817259</td>\n",
       "      <td>0.518249</td>\n",
       "      <td>0.000952</td>\n",
       "      <td>0.683498</td>\n",
       "      <td>0.527916</td>\n",
       "      <td>0.000778</td>\n",
       "    </tr>\n",
       "  </tbody>\n",
       "</table>\n",
       "</div>"
      ],
      "text/plain": [
       "    epoch   roc_auc  train_loss_cls  train_dCorr_s_m  val_loss  val_loss_cls  \\\n",
       "45     45  0.834063        0.513059         0.000859  0.660538      0.502515   \n",
       "46     46  0.817780        0.515202         0.000892  0.687485      0.521621   \n",
       "47     47  0.813367        0.510593         0.001777  0.846683      0.532455   \n",
       "48     48  0.810317        0.521281         0.002259  0.783155      0.538678   \n",
       "49     49  0.817259        0.518249         0.000952  0.683498      0.527916   \n",
       "\n",
       "    val_dCorr_s_m  \n",
       "45       0.000790  \n",
       "46       0.000829  \n",
       "47       0.001571  \n",
       "48       0.001222  \n",
       "49       0.000778  "
      ]
     },
     "execution_count": 7,
     "metadata": {},
     "output_type": "execute_result"
    }
   ],
   "source": [
    "def train_one_epoch(model: nn.Module, loader: DataLoader, optimizer: torch.optim.Optimizer) -> Dict[str, float]:\n",
    "    \"\"\"Single training epoch with rich instrumentation.\"\"\"\n",
    "    model.train()\n",
    "    agg: Dict[str, List[float]] = {}\n",
    "    total_examples = 0\n",
    "    start = time.perf_counter()\n",
    "    for batch in tqdm(loader, leave=False, desc=\"train\"):\n",
    "        optimizer.zero_grad(set_to_none=True)\n",
    "        loss, metrics = compute_losses(model, batch)\n",
    "        loss.backward()\n",
    "        optimizer.step()\n",
    "        batch_size = batch[0].shape[0]\n",
    "        total_examples += batch_size\n",
    "        for key, value in metrics.items():\n",
    "            agg.setdefault(key, []).append(value)\n",
    "    duration = time.perf_counter() - start\n",
    "    results = {key: float(np.mean(values)) for key, values in agg.items()}\n",
    "    results.update({\n",
    "        \"epoch_seconds\": duration,\n",
    "        \"examples_per_second\": total_examples / duration if duration > 0 else float(\"nan\"),\n",
    "        \"iterations_per_second\": len(loader) / duration if duration > 0 else float(\"nan\"),\n",
    "    })\n",
    "    return results\n",
    "\n",
    "\n",
    "def evaluate(model: nn.Module, loader: DataLoader) -> Tuple[np.ndarray, np.ndarray, np.ndarray, np.ndarray, Dict[str, float]]:\n",
    "    \"\"\"Run evaluation loop returning raw arrays and averaged metrics.\"\"\"\n",
    "    model.eval()\n",
    "    scores, labels_all, weights_all, masses_all = [], [], [], []\n",
    "    agg: Dict[str, List[float]] = {}\n",
    "    total_examples = 0\n",
    "    start = time.perf_counter()\n",
    "    with torch.no_grad():\n",
    "        for batch in tqdm(loader, leave=False, desc=\"eval\"):\n",
    "            loss, metrics = compute_losses(model, batch)\n",
    "            features, labels, weights, masses = batch\n",
    "            features = features.to(DEVICE)\n",
    "            _, score = model(features)\n",
    "            batch_size = features.shape[0]\n",
    "            total_examples += batch_size\n",
    "            scores.append(score.cpu().numpy())\n",
    "            labels_all.append(labels.numpy())\n",
    "            weights_all.append(weights.numpy())\n",
    "            masses_all.append(masses.numpy())\n",
    "            agg.setdefault(\"loss_cls\", []).append(metrics[\"loss_cls\"])\n",
    "            for key in (\"accuracy\", \"precision\", \"recall\", \"f1\"):\n",
    "                agg.setdefault(key, []).append(metrics[key])\n",
    "            if \"dCorr_s_m\" in metrics:\n",
    "                agg.setdefault(\"dCorr_s_m\", []).append(metrics[\"dCorr_s_m\"])\n",
    "    duration = time.perf_counter() - start\n",
    "    metrics_mean = {key: float(np.mean(values)) for key, values in agg.items()}\n",
    "    metrics_mean.update({\n",
    "        \"epoch_seconds\": duration,\n",
    "        \"examples_per_second\": total_examples / duration if duration > 0 else float(\"nan\"),\n",
    "        \"iterations_per_second\": len(loader) / duration if duration > 0 else float(\"nan\"),\n",
    "    })\n",
    "    return (\n",
    "        np.concatenate(scores),\n",
    "        np.concatenate(labels_all),\n",
    "        np.concatenate(weights_all),\n",
    "        np.concatenate(masses_all),\n",
    "        metrics_mean,\n",
    "    )\n",
    "\n",
    "\n",
    "history: List[Dict[str, Any]] = []\n",
    "start_epoch = 0\n",
    "loaded_checkpoint = None\n",
    "if RESUME_CHECKPOINT is not None:\n",
    "    loaded_checkpoint = load_checkpoint(Path(RESUME_CHECKPOINT), model, optimizer)\n",
    "    history = loaded_checkpoint.get(\"history\", [])\n",
    "    start_epoch = int(loaded_checkpoint.get(\"epoch\", -1)) + 1\n",
    "    print(f\"Resuming from epoch {start_epoch}\")\n",
    "\n",
    "for epoch in range(start_epoch, EPOCHS):\n",
    "    print(f\"Epoch {epoch:03d}\")\n",
    "    train_metrics = train_one_epoch(model, train_loader, optimizer)\n",
    "    s_val, y_val, w_val, m_val, val_metrics = evaluate(model, val_loader)\n",
    "\n",
    "    classification = compute_epoch_classification_metrics(s_val, y_val, w_val)\n",
    "    roc_diag = compute_roc_diagnostics(s_val, y_val, w_val)\n",
    "    abcd_stats = compute_abcd_statistics(s_val, m_val, y_val, w_val)\n",
    "    jsd_points = compute_jsd_summary(s_val, m_val, y_val, w_val)\n",
    "\n",
    "    record = {\n",
    "        \"epoch\": epoch,\n",
    "        \"train_loss_cls\": train_metrics.get(\"loss_cls\", float(\"nan\")),\n",
    "        \"train_accuracy\": train_metrics.get(\"accuracy\", float(\"nan\")),\n",
    "        \"train_precision\": train_metrics.get(\"precision\", float(\"nan\")),\n",
    "        \"train_recall\": train_metrics.get(\"recall\", float(\"nan\")),\n",
    "        \"train_f1\": train_metrics.get(\"f1\", float(\"nan\")),\n",
    "        \"train_epoch_seconds\": train_metrics.get(\"epoch_seconds\", float(\"nan\")),\n",
    "        \"train_examples_per_second\": train_metrics.get(\"examples_per_second\", float(\"nan\")),\n",
    "        \"val_loss_cls\": val_metrics.get(\"loss_cls\", float(\"nan\")),\n",
    "        \"val_accuracy\": classification[\"accuracy\"],\n",
    "        \"val_precision\": classification[\"precision\"],\n",
    "        \"val_recall\": classification[\"recall\"],\n",
    "        \"val_f1\": classification[\"f1\"],\n",
    "        \"val_auc\": roc_diag[\"auc\"],\n",
    "        \"val_epoch_seconds\": val_metrics.get(\"epoch_seconds\", float(\"nan\")),\n",
    "        \"val_examples_per_second\": val_metrics.get(\"examples_per_second\", float(\"nan\")),\n",
    "    }\n",
    "    for target in SCORE_SIGNAL_EFFICIENCIES:\n",
    "        key = f\"background_eff_at_{int(target*100)}pct_sig\"\n",
    "        record[key] = roc_diag[key]\n",
    "    for item in abcd_stats[\"per_efficiency\"]:\n",
    "        eff = int(item[\"target_signal_efficiency\"] * 100)\n",
    "        record[f\"abcd_closure_ratio_{eff}pct\"] = item[\"closure_ratio\"]\n",
    "        record[f\"abcd_pull_{eff}pct\"] = item[\"pull\"]\n",
    "    for item in jsd_points:\n",
    "        eff = int(item[\"target_signal_efficiency\"] * 100)\n",
    "        record[f\"inverse_jsd_{eff}pct\"] = item[\"inverse_jsd\"]\n",
    "        record[f\"background_rejection_{eff}pct\"] = item[\"background_rejection\"]\n",
    "\n",
    "    history.append(record)\n",
    "\n",
    "    val_record = {\n",
    "        \"classification\": classification,\n",
    "        \"roc\": {k: (v.tolist() if isinstance(v, np.ndarray) else v) for k, v in roc_diag.items()},\n",
    "        \"abcd\": abcd_stats,\n",
    "        \"jsd\": jsd_points,\n",
    "        \"confusion_matrix\": classification[\"confusion_matrix\"].tolist(),\n",
    "    }\n",
    "    train_record = train_metrics\n",
    "    extra = {\n",
    "        \"val_scores\": s_val.tolist(),\n",
    "        \"val_labels\": y_val.tolist(),\n",
    "        \"val_weights\": w_val.tolist(),\n",
    "        \"val_masses\": m_val.tolist(),\n",
    "    }\n",
    "    save_checkpoint(epoch, model, optimizer, history, train_record, val_record, extra)\n",
    "\n",
    "    print(\n",
    "        f\"AUC={roc_diag['auc']:.3f} | \"\n",
    "        f\"val_acc={classification['accuracy']:.3f} | \"\n",
    "        f\"closure@30%={record['abcd_closure_ratio_30pct']:.3f} | \"\n",
    "        f\"train_loss={train_metrics.get('loss_cls', float('nan')):.3f}\"\n",
    "    )\n",
    "\n",
    "history_df = pd.DataFrame(history)\n",
    "history_df.tail()\n",
    "\n"
   ]
  },
  {
   "cell_type": "markdown",
   "id": "4f46a892",
   "metadata": {},
   "source": [
    "\n",
    "### Training diagnostics\n",
    "\n",
    "We track the classification loss and the distance-correlation penalty to verify convergence and decorrelation strength.\n"
   ]
  },
  {
   "cell_type": "code",
   "execution_count": 8,
   "id": "cec09beb",
   "metadata": {},
   "outputs": [
    {
     "data": {
      "image/png": "[encoded data removed]",
      "text/plain": [
       "<Figure size 1400x500 with 2 Axes>"
      ]
     },
     "metadata": {},
     "output_type": "display_data"
    }
   ],
   "source": [
    "fig, axes = plt.subplots(2, 2, figsize=(18, 12))\n",
    "axes = axes.ravel()\n",
    "\n",
    "# Loss evolution\n",
    "axes[0].plot(history_df[\"epoch\"], history_df[\"train_loss_cls\"], label=\"train\", marker=\"o\")\n",
    "axes[0].plot(history_df[\"epoch\"], history_df[\"val_loss_cls\"], label=\"val\", marker=\"s\")\n",
    "axes[0].set_xlabel(\"Epoch\")\n",
    "axes[0].set_ylabel(\"Binary cross-entropy\")\n",
    "axes[0].set_title(\"Loss history\")\n",
    "axes[0].legend()\n",
    "\n",
    "# Classification metrics\n",
    "axes[1].plot(history_df[\"epoch\"], history_df[\"train_accuracy\"], label=\"train acc\", marker=\"o\")\n",
    "axes[1].plot(history_df[\"epoch\"], history_df[\"val_accuracy\"], label=\"val acc\", marker=\"s\")\n",
    "axes[1].plot(history_df[\"epoch\"], history_df[\"val_precision\"], label=\"val precision\", linestyle=\"--\")\n",
    "axes[1].plot(history_df[\"epoch\"], history_df[\"val_recall\"], label=\"val recall\", linestyle=\":\")\n",
    "axes[1].plot(history_df[\"epoch\"], history_df[\"val_f1\"], label=\"val F1\", linestyle=\"-.\" )\n",
    "axes[1].set_xlabel(\"Epoch\")\n",
    "axes[1].set_ylabel(\"Score\")\n",
    "axes[1].set_ylim(0.0, 1.05)\n",
    "axes[1].set_title(\"Classification summary\")\n",
    "axes[1].legend(loc=\"lower right\")\n",
    "\n",
    "# ABCD closure and ROC\n",
    "axes[2].plot(history_df[\"epoch\"], history_df[\"val_auc\"], label=\"AUC\", marker=\"o\")\n",
    "axes[2].plot(history_df[\"epoch\"], 1.0 / np.maximum(history_df[\"background_eff_at_30pct_sig\"], 1e-6), label=\"1/ε_B @ 30%\", marker=\"s\")\n",
    "axes[2].plot(history_df[\"epoch\"], history_df[\"abcd_closure_ratio_30pct\"], label=\"closure ratio @ 30%\", linestyle=\"--\")\n",
    "axes[2].axhspan(0.9, 1.1, color=\"grey\", alpha=0.15, label=\"±10% closure band\")\n",
    "axes[2].set_xlabel(\"Epoch\")\n",
    "axes[2].set_ylabel(\"Metric value\")\n",
    "axes[2].set_title(\"ROC vs. ABCD stability\")\n",
    "axes[2].legend()\n",
    "axes[2].set_yscale(\"log\")\n",
    "\n",
    "# Runtime diagnostics\n",
    "axes[3].plot(history_df[\"epoch\"], history_df[\"train_epoch_seconds\"], label=\"train\", marker=\"o\")\n",
    "axes[3].plot(history_df[\"epoch\"], history_df[\"val_epoch_seconds\"], label=\"val\", marker=\"s\")\n",
    "axes[3].set_xlabel(\"Epoch\")\n",
    "axes[3].set_ylabel(\"Seconds\")\n",
    "axes[3].set_title(\"Per-epoch wall-clock time\")\n",
    "axes[3].legend()\n",
    "\n",
    "plt.tight_layout()\n",
    "plt.show()\n",
    "\n"
   ]
  },
  {
   "cell_type": "markdown",
   "id": "483491cb",
   "metadata": {},
   "source": [
    "\n",
    "## 6. Evaluation (`evaluation.py` lines 1-70)\n",
    "\n",
    "We reproduce the single-score diagnostics: ROC curves, background mass sculpting, and the Jensen-Shannon divergence versus background rejection figure of merit used in the paper.\n"
   ]
  },
  {
   "cell_type": "code",
   "execution_count": 9,
   "id": "ddd85125",
   "metadata": {},
   "outputs": [
    {
     "name": "stderr",
     "output_type": "stream",
     "text": [
      "                                                     \r"
     ]
    },
    {
     "name": "stdout",
     "output_type": "stream",
     "text": [
      "Test AUC = 0.818\n",
      "Background distance-correlation(score, mass) = 0.0008\n",
      "JSDvsR 10 0.099992\n",
      "JSDvsR 30 0.30001602\n",
      "JSDvsR 50 0.5\n"
     ]
    },
    {
     "data": {
      "image/png": "[encoded data removed]",
      "text/plain": [
       "<Figure size 1800x500 with 3 Axes>"
      ]
     },
     "metadata": {},
     "output_type": "display_data"
    }
   ],
   "source": [
    "from importlib import reload\n",
    "import evaluation\n",
    "reload(evaluation)\n",
    "from evaluation import JSDvsR  # re-import to ensure the latest definition is in scope\n",
    "\n",
    "s_test, y_test, w_test, m_test, test_metrics = evaluate(model, test_loader)\n",
    "\n",
    "classification_test = compute_epoch_classification_metrics(s_test, y_test, w_test)\n",
    "roc_test = compute_roc_diagnostics(s_test, y_test, w_test)\n",
    "abcd_test = compute_abcd_statistics(s_test, m_test, y_test, w_test)\n",
    "jsd_test = compute_jsd_summary(s_test, m_test, y_test, w_test)\n",
    "\n",
    "background = y_test < 0.5\n",
    "if background.any():\n",
    "    d_test = distance_corr_safe(\n",
    "        torch.as_tensor(s_test[background]),\n",
    "        torch.as_tensor(m_test[background]),\n",
    "        torch.ones_like(torch.as_tensor(m_test[background])),\n",
    "    ).item()\n",
    "else:\n",
    "    d_test = float(\"nan\")\n",
    "\n",
    "print(\"Test-set diagnostics:\")\n",
    "print(f\"  AUC = {roc_test['auc']:.3f}\")\n",
    "print(f\"  Accuracy = {classification_test['accuracy']:.3f}\")\n",
    "print(f\"  Precision = {classification_test['precision']:.3f}\")\n",
    "print(f\"  Recall = {classification_test['recall']:.3f}\")\n",
    "print(f\"  F1-score = {classification_test['f1']:.3f}\")\n",
    "print(f\"  Background distance-correlation(score, mass) = {d_test:.4f}\")\n",
    "\n",
    "fig, axes = plt.subplots(2, 2, figsize=(18, 12))\n",
    "axes = axes.ravel()\n",
    "\n",
    "# ROC curve\n",
    "axes[0].plot(roc_test[\"fpr\"], roc_test[\"tpr\"], label=f\"ROC (AUC={roc_test['auc']:.3f})\")\n",
    "axes[0].set_xlabel(\"Background efficiency ε_B\")\n",
    "axes[0].set_ylabel(\"Signal efficiency ε_S\")\n",
    "axes[0].set_title(\"Receiver Operating Characteristic\")\n",
    "axes[0].legend(loc=\"lower right\")\n",
    "axes[0].grid(True)\n",
    "\n",
    "# Confusion matrix heatmap (weighted)\n",
    "cm = classification_test[\"confusion_matrix\"]\n",
    "im = axes[1].imshow(cm, cmap=\"viridis\")\n",
    "axes[1].set_xticks([0, 1])\n",
    "axes[1].set_yticks([0, 1])\n",
    "axes[1].set_xticklabels([\"Predicted background\", \"Predicted signal\"])\n",
    "axes[1].set_yticklabels([\"True background\", \"True signal\"])\n",
    "axes[1].set_title(\"Weighted confusion matrix\")\n",
    "for (i, j), value in np.ndenumerate(cm):\n",
    "    axes[1].text(j, i, f\"{value:.0f}\", ha=\"center\", va=\"center\", color=\"white\" if value > cm.max() / 2 else \"black\")\n",
    "fig.colorbar(im, ax=axes[1])\n",
    "\n",
    "# Mass sculpting check (background mass before/after score cut)\n",
    "nbins = ABCD_HISTOGRAM_BINS\n",
    "mass_range = (m_test.min(), m_test.max())\n",
    "axes[2].hist(\n",
    "    m_test[background], bins=nbins, range=mass_range, weights=w_test[background],\n",
    "    histtype=\"step\", label=\"All background\", linewidth=2\n",
    ")\n",
    "cut = weighted_quantile(s_test[y_test > 0.5], 1 - 0.3, w_test[y_test > 0.5])\n",
    "sel = background & (s_test > cut)\n",
    "axes[2].hist(\n",
    "    m_test[sel], bins=nbins, range=mass_range, weights=w_test[sel],\n",
    "    histtype=\"stepfilled\", alpha=0.4, label=\"Background above 30% signal-eff cut\"\n",
    ")\n",
    "axes[2].set_xlabel(\"Jet mass [GeV]\")\n",
    "axes[2].set_ylabel(\"Weighted events\")\n",
    "axes[2].set_title(\"Mass sculpting diagnostic\")\n",
    "axes[2].legend()\n",
    "\n",
    "# ABCD closure vs background rejection scatter\n",
    "rejections = [item[\"background_rejection\"] for item in jsd_test]\n",
    "closures = [item[\"closure_ratio\"] for item in abcd_test[\"per_efficiency\"]]\n",
    "labels_eff = [int(item[\"target_signal_efficiency\"] * 100) for item in abcd_test[\"per_efficiency\"]]\n",
    "axes[3].scatter(rejections, closures, c=labels_eff, cmap=\"plasma\", s=120)\n",
    "for rej, clo, eff in zip(rejections, closures, labels_eff):\n",
    "    axes[3].annotate(f\"{eff}%\", (rej, clo))\n",
    "axes[3].axhspan(0.9, 1.1, color=\"grey\", alpha=0.15, label=\"±10% closure band\")\n",
    "axes[3].set_xlabel(\"Background rejection 1/ε_B\")\n",
    "axes[3].set_ylabel(\"Closure ratio N_pred/N_true\")\n",
    "axes[3].set_title(\"ABCD closure vs. rejection\")\n",
    "axes[3].set_xscale(\"log\")\n",
    "axes[3].legend()\n",
    "\n",
    "plt.tight_layout()\n",
    "plt.show()\n",
    "\n",
    "# Tabulate per-efficiency ABCD and JSD metrics for deeper analysis\n",
    "abcd_rows = []\n",
    "for abcd_entry, jsd_entry in zip(abcd_test[\"per_efficiency\"], jsd_test):\n",
    "    eff = int(abcd_entry[\"target_signal_efficiency\"] * 100)\n",
    "    abcd_rows.append({\n",
    "        \"signal_efficiency_percent\": eff,\n",
    "        \"score_cut\": abcd_entry[\"score_cut\"],\n",
    "        \"background_prediction\": abcd_entry[\"predicted_bg\"],\n",
    "        \"closure_ratio\": abcd_entry[\"closure_ratio\"],\n",
    "        \"closure_error_percent\": abcd_entry[\"closure_error_pct\"],\n",
    "        \"pull\": abcd_entry[\"pull\"],\n",
    "        \"background_rejection\": jsd_entry[\"background_rejection\"],\n",
    "        \"inverse_jsd\": jsd_entry[\"inverse_jsd\"],\n",
    "    })\n",
    "abcd_df = pd.DataFrame(abcd_rows)\n",
    "abcd_df\n",
    "\n"
   ]
  },
  {
   "cell_type": "markdown",
   "id": "bf3ab8b0",
   "metadata": {},
   "source": [
    "\n",
    "## 7. Persist artefacts\n",
    "\n",
    "Save inference scores and the trained model weights for downstream ABCDisCo or `pyhf` studies.\n"
   ]
  },
  {
   "cell_type": "code",
   "execution_count": 10,
   "id": "dd407c18",
   "metadata": {},
   "outputs": [
    {
     "data": {
      "text/plain": [
       "(PosixPath('DNN_abcdisco_single_disco_scores.parquet'),\n",
       " PosixPath('DNN_abcdisco_single_disco_model.pt'))"
      ]
     },
     "execution_count": 10,
     "metadata": {},
     "output_type": "execute_result"
    }
   ],
   "source": [
    "results_df = pd.DataFrame({\n",
    "    \"score\": s_test,\n",
    "    \"label\": y_test,\n",
    "    \"weight\": w_test,\n",
    "    \"mass\": m_test,\n",
    "})\n",
    "results_df.head()\n",
    "\n",
    "summary_payload = {\n",
    "    \"classification\": {k: (v.tolist() if isinstance(v, np.ndarray) else float(v) if np.isscalar(v) else v) for k, v in classification_test.items() if k != \"confusion_matrix\"},\n",
    "    \"confusion_matrix\": classification_test[\"confusion_matrix\"].tolist(),\n",
    "    \"roc\": {k: (v.tolist() if isinstance(v, np.ndarray) else float(v)) for k, v in roc_test.items()},\n",
    "    \"abcd\": abcd_test,\n",
    "    \"jsd\": jsd_test,\n",
    "    \"distance_correlation\": d_test,\n",
    "}\n",
    "summary_path = CHECKPOINT_DIR / \"test_evaluation.json\"\n",
    "with open(summary_path, \"w\") as handle:\n",
    "    json.dump(summary_payload, handle, indent=2)\n",
    "print(f\"Saved detailed test summary to {summary_path}\")\n",
    "\n"
   ]
  },
  {
   "cell_type": "markdown",
   "id": "1811ab61",
   "metadata": {},
   "source": [
    "\n",
    "## 8. Extending to Double-DisCo & QML studies\n",
    "\n",
    "- **Recovering the paper-level numbers**: set `FULL_DATASET = True`, increase `EPOCHS` to 200, and sweep `LAMBDA_MASS` in the range 50-400 as in the reference scans.\n",
    "- **Quantum experiments**: switch `BACKEND = \"qml\"`, tune `N_QUBITS`/`QML_LAYERS`, and initialise the PennyLane device with `qml.seed(SEED)` for reproducibility.\n",
    "- **Transition to Double-DisCo**: after validating this notebook, open `ABCDisCo_tutorial.ipynb` for the two-network variant and reuse the saved preprocessing steps to initialise the dual heads.\n"
   ]
  }
 ],
 "metadata": {
  "kernelspec": {
   "display_name": "ABCDisCo",
   "language": "python",
   "name": "abcdisco"
  },
  "language_info": {
   "codemirror_mode": {
    "name": "ipython",
    "version": 3
   },
   "file_extension": ".py",
   "mimetype": "text/x-python",
   "name": "python",
   "nbconvert_exporter": "python",
   "pygments_lexer": "ipython3",
   "version": "3.12.12"
  }
 },
 "nbformat": 4,
 "nbformat_minor": 5
}
