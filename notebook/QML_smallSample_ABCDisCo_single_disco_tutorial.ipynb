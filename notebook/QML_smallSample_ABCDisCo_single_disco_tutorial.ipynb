{
 "cells": [
  {
   "cell_type": "markdown",
   "id": "3873f1a8",
   "metadata": {},
   "source": [
    "\n",
    "# ABCDisCo Single-DisCo Tutorial (Torch + optional PennyLane backend)\n",
    "\n",
    "This notebook reproduces the **Single-DisCo** workflow described in [T. Aarrestad *et al.*, *Eur. Phys. J. C* **81**, 1003 (2021), arXiv:2007.14400](https://arxiv.org/abs/2007.14400). It mirrors the reference scripts shipped with this repository so you can validate the mass-decorrelated baseline before moving to the Double-DisCo configuration.\n",
    "\n",
    "> **Mapping to repository scripts**\n",
    "> - Data ingestion and scaling follow `ABCD_topjets_HLF_mD.py` (lines 69-101) together with the dataset helpers in `data_loader.py` (lines 1-63).\n",
    "> - The neural-network head reuses `networks.DNNclassifier` (lines 8-44), while the DisCo penalty mirrors `model.py` (lines 24-86) plus `disco.py` (lines 14-118).\n",
    "> - Evaluation adapts the single-score diagnostics from `evaluation.py` (lines 1-70), including the Jensen-Shannon divergence vs. background rejection scan.\n",
    "\n",
    "The workflow is organised as:\n",
    "\n",
    "1. **Setup & configuration** (Single-DisCo hyperparameters).\n",
    "2. **Data loading and preprocessing** (min-max scaling, feature selection matching `ABCD_topjets_HLF_mD.py`).\n",
    "3. **Model definition** with interchangeable Torch/PennyLane heads.\n",
    "4. **Training** with the DisCo mass decorrelation penalty.\n",
    "5. **Diagnostics & evaluation**: ROC curves, distance correlations, JSD vs. background rejection, and mass sculpting checks.\n",
    "6. **Export** of trained weights and inference scores.\n",
    "\n",
    "> **Datasets**: The repository already ships reduced CMS top-tagging HLF samples (`topsample_*_tau.dat.gz`). You can run this notebook end-to-end without external downloads.\n"
   ]
  },
  {
   "cell_type": "markdown",
   "id": "e015d9e7",
   "metadata": {},
   "source": [
    "\n",
    "## Environment preparation\n",
    "\n",
    "Run the following cell *once per environment* if you still need to install the CPU builds of PyTorch, PennyLane, and the lightweight analysis stack.\n"
   ]
  },
  {
   "cell_type": "code",
   "execution_count": 1,
   "id": "b6df378a",
   "metadata": {},
   "outputs": [],
   "source": [
    "\n",
    "# Optional: install dependencies (uncomment the lines you need)\n",
    "# %pip install numpy pandas scikit-learn matplotlib tqdm\n",
    "# %pip install torch torchvision torchaudio --index-url https://download.pytorch.org/whl/cpu\n",
    "# %pip install pennylane pennylane-lightning\n",
    "# %pip install pyhf\n"
   ]
  },
  {
   "cell_type": "markdown",
   "id": "9afe8e3b",
   "metadata": {},
   "source": [
    "\n",
    "## 0. Configuration (mirrors `ABCD_topjets_HLF_mD.py` lines 69-126)\n",
    "\n",
    "We keep the dataset limits, optimiser choices, and DisCo penalty normalisation consistent with the single-network script so that this notebook can reproduce the published baselines.\n"
   ]
  },
  {
   "cell_type": "code",
   "execution_count": 2,
   "id": "daa3f01a",
   "metadata": {},
   "outputs": [
    {
     "name": "stderr",
     "output_type": "stream",
     "text": [
      "/global/common/software/m4138/ABCDisCo/lib/python3.12/site-packages/tqdm/auto.py:21: TqdmWarning: IProgress not found. Please update jupyter and ipywidgets. See https://ipywidgets.readthedocs.io/en/stable/user_install.html\n",
      "  from .autonotebook import tqdm as notebook_tqdm\n"
     ]
    },
    {
     "name": "stdout",
     "output_type": "stream",
     "text": [
      "Using device: cuda\n"
     ]
    }
   ],
   "source": [
    "\n",
    "from __future__ import annotations\n",
    "\n",
    "import gzip\n",
    "from pathlib import Path\n",
    "from typing import Dict, Tuple\n",
    "\n",
    "import matplotlib.pyplot as plt\n",
    "import numpy as np\n",
    "import pandas as pd\n",
    "import torch\n",
    "import torch.nn.functional as F\n",
    "from sklearn.metrics import auc, roc_curve\n",
    "from torch import nn\n",
    "from torch.utils.data import DataLoader, Dataset\n",
    "from tqdm.auto import tqdm\n",
    "\n",
    "# Repository-local modules (mirror original scripts)\n",
    "import sys\n",
    "project_root = str(Path.cwd().resolve().parent)\n",
    "if project_root not in sys.path:\n",
    "    sys.path.insert(0, project_root)\n",
    "from disco import distance_corr_unbiased\n",
    "from networks import DNNclassifier\n",
    "\n",
    "try:\n",
    "    import pennylane as qml  # optional backend\n",
    "    PENNYLANE_AVAILABLE = True\n",
    "except ImportError:  # keep optional\n",
    "    PENNYLANE_AVAILABLE = False\n",
    "\n",
    "plt.style.use(\"seaborn-v0_8-talk\")\n",
    "\n",
    "SEED = 1337\n",
    "rng = np.random.default_rng(SEED)\n",
    "torch.manual_seed(SEED)\n",
    "\n",
    "# Use project root (one level up from this notebook) for data files\n",
    "DATA_ROOT = Path.cwd().resolve().parent\n",
    "RAW_FILES = {\n",
    "    \"train\": DATA_ROOT / \"topsample_train_tau.dat.gz\",\n",
    "    \"val\": DATA_ROOT / \"topsample_val_tau.dat.gz\",\n",
    "    \"test\": DATA_ROOT / \"topsample_test_tau.dat.gz\",\n",
    "}\n",
    "\n",
    "# Toggle to match the full training statistics used in the paper.\n",
    "FULL_DATASET = False\n",
    "EVENT_LIMITS = {\n",
    "    \"train\": 10000 if not FULL_DATASET else None,\n",
    "    \"val\": 5000 if not FULL_DATASET else None,\n",
    "    \"test\": 5000 if not FULL_DATASET else None,\n",
    "}\n",
    "\n",
    "BATCH_SIZE = 512\n",
    "EPOCHS = 50 if not FULL_DATASET else 200\n",
    "LEARNING_RATE = 1e-3\n",
    "\n",
    "# DisCo regularisation weight (cf. model.py lines 24-86)\n",
    "LAMBDA_MASS = 200.0  # strength of the distance-correlation penalty between score and jet mass\n",
    "\n",
    "# QML backend knobs (used only when BACKEND == \"qml\")\n",
    "# BACKEND = \"torch\"  # switch to \"qml\" after installing PennyLane\n",
    "BACKEND = \"qml\"  # switch to \"qml\" after installing PennyLane\n",
    "N_QUBITS = 6\n",
    "QML_LAYERS = 2\n",
    "QML_DEVICE = \"lightning.gpu\"\n",
    "\n",
    "ORIGINAL_FEATURES = [\n",
    "    \"mass\",\n",
    "    \"pt\",\n",
    "    \"tau1_half\",\n",
    "    \"tau2_half\",\n",
    "    \"tau3_half\",\n",
    "    \"tau1\",\n",
    "    \"tau2\",\n",
    "    \"tau3\",\n",
    "    \"tau4\",\n",
    "    \"tau1_sq\",\n",
    "    \"tau2_sq\",\n",
    "    \"tau3_sq\",\n",
    "    \"tau4_sq\",\n",
    "]\n",
    "\n",
    "# The single-network setup removes the first two observables (mass, pT) from the classifier input\n",
    "SINGLE_FEATURE_INDICES = list(range(2, len(ORIGINAL_FEATURES)))\n",
    "FEATURE_NAMES = [ORIGINAL_FEATURES[i] for i in SINGLE_FEATURE_INDICES]\n",
    "\n",
    "DEVICE = torch.device(\"cuda\" if torch.cuda.is_available() else \"cpu\")\n",
    "print(f\"Using device: {DEVICE}\")\n"
   ]
  },
  {
   "cell_type": "markdown",
   "id": "8fdb8ffe",
   "metadata": {},
   "source": [
    "\n",
    "## 1. Data loading & scaling (`ABCD_topjets_HLF_mD.py` lines 69-95)\n",
    "\n",
    "The original script concatenates train/validation/test splits, applies a global min-max scaling to all 13 high-level features, and then selects the 11 observables used for the single-network classifier. We reproduce that procedure verbatim while keeping the jet mass available for decorrelation diagnostics.\n"
   ]
  },
  {
   "cell_type": "code",
   "execution_count": 3,
   "id": "b6980f93",
   "metadata": {},
   "outputs": [
    {
     "data": {
      "text/html": [
       "<div>\n",
       "<style scoped>\n",
       "    .dataframe tbody tr th:only-of-type {\n",
       "        vertical-align: middle;\n",
       "    }\n",
       "\n",
       "    .dataframe tbody tr th {\n",
       "        vertical-align: top;\n",
       "    }\n",
       "\n",
       "    .dataframe thead th {\n",
       "        text-align: right;\n",
       "    }\n",
       "</style>\n",
       "<table border=\"1\" class=\"dataframe\">\n",
       "  <thead>\n",
       "    <tr style=\"text-align: right;\">\n",
       "      <th></th>\n",
       "      <th>split</th>\n",
       "      <th>events</th>\n",
       "      <th>signal_fraction</th>\n",
       "    </tr>\n",
       "  </thead>\n",
       "  <tbody>\n",
       "    <tr>\n",
       "      <th>0</th>\n",
       "      <td>train</td>\n",
       "      <td>10000</td>\n",
       "      <td>0.4990</td>\n",
       "    </tr>\n",
       "    <tr>\n",
       "      <th>1</th>\n",
       "      <td>val</td>\n",
       "      <td>5000</td>\n",
       "      <td>0.4978</td>\n",
       "    </tr>\n",
       "    <tr>\n",
       "      <th>2</th>\n",
       "      <td>test</td>\n",
       "      <td>5000</td>\n",
       "      <td>0.4980</td>\n",
       "    </tr>\n",
       "  </tbody>\n",
       "</table>\n",
       "</div>"
      ],
      "text/plain": [
       "   split  events  signal_fraction\n",
       "0  train   10000           0.4990\n",
       "1    val    5000           0.4978\n",
       "2   test    5000           0.4980"
      ]
     },
     "metadata": {},
     "output_type": "display_data"
    },
    {
     "data": {
      "text/html": [
       "<div>\n",
       "<style scoped>\n",
       "    .dataframe tbody tr th:only-of-type {\n",
       "        vertical-align: middle;\n",
       "    }\n",
       "\n",
       "    .dataframe tbody tr th {\n",
       "        vertical-align: top;\n",
       "    }\n",
       "\n",
       "    .dataframe thead th {\n",
       "        text-align: right;\n",
       "    }\n",
       "</style>\n",
       "<table border=\"1\" class=\"dataframe\">\n",
       "  <thead>\n",
       "    <tr style=\"text-align: right;\">\n",
       "      <th></th>\n",
       "      <th>tau1_half</th>\n",
       "      <th>tau2_half</th>\n",
       "      <th>tau3_half</th>\n",
       "      <th>tau1</th>\n",
       "      <th>tau2</th>\n",
       "      <th>tau3</th>\n",
       "      <th>tau4</th>\n",
       "      <th>tau1_sq</th>\n",
       "      <th>tau2_sq</th>\n",
       "      <th>tau3_sq</th>\n",
       "      <th>tau4_sq</th>\n",
       "    </tr>\n",
       "  </thead>\n",
       "  <tbody>\n",
       "    <tr>\n",
       "      <th>0</th>\n",
       "      <td>0.536776</td>\n",
       "      <td>0.500864</td>\n",
       "      <td>0.574945</td>\n",
       "      <td>0.394624</td>\n",
       "      <td>0.339701</td>\n",
       "      <td>0.385666</td>\n",
       "      <td>0.344517</td>\n",
       "      <td>0.234931</td>\n",
       "      <td>0.193813</td>\n",
       "      <td>0.169328</td>\n",
       "      <td>0.218196</td>\n",
       "    </tr>\n",
       "    <tr>\n",
       "      <th>1</th>\n",
       "      <td>0.435426</td>\n",
       "      <td>0.372848</td>\n",
       "      <td>0.350198</td>\n",
       "      <td>0.341338</td>\n",
       "      <td>0.251511</td>\n",
       "      <td>0.206516</td>\n",
       "      <td>0.182207</td>\n",
       "      <td>0.238264</td>\n",
       "      <td>0.154509</td>\n",
       "      <td>0.071783</td>\n",
       "      <td>0.109701</td>\n",
       "    </tr>\n",
       "    <tr>\n",
       "      <th>2</th>\n",
       "      <td>0.258615</td>\n",
       "      <td>0.200300</td>\n",
       "      <td>0.194578</td>\n",
       "      <td>0.202230</td>\n",
       "      <td>0.131560</td>\n",
       "      <td>0.094665</td>\n",
       "      <td>0.105227</td>\n",
       "      <td>0.161852</td>\n",
       "      <td>0.109971</td>\n",
       "      <td>0.035088</td>\n",
       "      <td>0.054957</td>\n",
       "    </tr>\n",
       "    <tr>\n",
       "      <th>3</th>\n",
       "      <td>0.553174</td>\n",
       "      <td>0.588799</td>\n",
       "      <td>0.544666</td>\n",
       "      <td>0.396228</td>\n",
       "      <td>0.439678</td>\n",
       "      <td>0.412337</td>\n",
       "      <td>0.349588</td>\n",
       "      <td>0.231673</td>\n",
       "      <td>0.247405</td>\n",
       "      <td>0.198532</td>\n",
       "      <td>0.148587</td>\n",
       "    </tr>\n",
       "    <tr>\n",
       "      <th>4</th>\n",
       "      <td>0.270467</td>\n",
       "      <td>0.262601</td>\n",
       "      <td>0.248148</td>\n",
       "      <td>0.154974</td>\n",
       "      <td>0.114489</td>\n",
       "      <td>0.119845</td>\n",
       "      <td>0.133753</td>\n",
       "      <td>0.109002</td>\n",
       "      <td>0.039658</td>\n",
       "      <td>0.053723</td>\n",
       "      <td>0.077720</td>\n",
       "    </tr>\n",
       "  </tbody>\n",
       "</table>\n",
       "</div>"
      ],
      "text/plain": [
       "   tau1_half  tau2_half  tau3_half      tau1      tau2      tau3      tau4  \\\n",
       "0   0.536776   0.500864   0.574945  0.394624  0.339701  0.385666  0.344517   \n",
       "1   0.435426   0.372848   0.350198  0.341338  0.251511  0.206516  0.182207   \n",
       "2   0.258615   0.200300   0.194578  0.202230  0.131560  0.094665  0.105227   \n",
       "3   0.553174   0.588799   0.544666  0.396228  0.439678  0.412337  0.349588   \n",
       "4   0.270467   0.262601   0.248148  0.154974  0.114489  0.119845  0.133753   \n",
       "\n",
       "    tau1_sq   tau2_sq   tau3_sq   tau4_sq  \n",
       "0  0.234931  0.193813  0.169328  0.218196  \n",
       "1  0.238264  0.154509  0.071783  0.109701  \n",
       "2  0.161852  0.109971  0.035088  0.054957  \n",
       "3  0.231673  0.247405  0.198532  0.148587  \n",
       "4  0.109002  0.039658  0.053723  0.077720  "
      ]
     },
     "execution_count": 3,
     "metadata": {},
     "output_type": "execute_result"
    }
   ],
   "source": [
    "\n",
    "def _load_tau_file(path: Path) -> np.ndarray:\n",
    "    if not path.exists():\n",
    "        raise FileNotFoundError(f\"Missing dataset: {path}\")\n",
    "    with gzip.open(path, \"rt\") as handle:\n",
    "        array = np.loadtxt(handle, delimiter=\",\", skiprows=15)\n",
    "    if array.ndim != 2 or array.shape[1] != 14:\n",
    "        raise ValueError(f\"Unexpected shape {array.shape} in {path}\")\n",
    "    return array\n",
    "\n",
    "\n",
    "def load_and_scale(raw_files: Dict[str, Path]) -> Tuple[Dict[str, np.ndarray], Dict[str, np.ndarray], Dict[str, np.ndarray]]:\n",
    "    \"\"\"Replicate the min-max scaling used in `ABCD_topjets_HLF_mD.py`.\"\"\"\n",
    "    raw_arrays = {split: _load_tau_file(path) for split, path in raw_files.items()}\n",
    "\n",
    "    concatenated = np.vstack([arr[:, 1:] for arr in raw_arrays.values()])\n",
    "    feat_min = concatenated.min(axis=0)\n",
    "    feat_range = np.maximum(concatenated.max(axis=0) - feat_min, 1e-8)\n",
    "\n",
    "    features: Dict[str, np.ndarray] = {}\n",
    "    labels: Dict[str, np.ndarray] = {}\n",
    "    masses: Dict[str, np.ndarray] = {}\n",
    "\n",
    "    for split, array in raw_arrays.items():\n",
    "        scaled = (array[:, 1:] - feat_min) / feat_range\n",
    "        features[split] = scaled.astype(np.float32)\n",
    "        labels[split] = array[:, 0].astype(np.float32)\n",
    "        masses[split] = array[:, 1].astype(np.float32)\n",
    "\n",
    "    return features, labels, masses\n",
    "\n",
    "\n",
    "features_all, labels, masses = load_and_scale(RAW_FILES)\n",
    "features = {split: feats[:, SINGLE_FEATURE_INDICES] for split, feats in features_all.items()}\n",
    "\n",
    "summary = []\n",
    "for split in (\"train\", \"val\", \"test\"):\n",
    "    limit = EVENT_LIMITS[split]\n",
    "    n_events = features[split].shape[0] if limit is None else min(limit, features[split].shape[0])\n",
    "    summary.append({\n",
    "        \"split\": split,\n",
    "        \"events\": n_events,\n",
    "        \"signal_fraction\": float(labels[split][:n_events].mean()),\n",
    "    })\n",
    "\n",
    "summary_df = pd.DataFrame(summary)\n",
    "display(summary_df)\n",
    "\n",
    "pd.DataFrame(features[\"train\"][:5], columns=FEATURE_NAMES)\n"
   ]
  },
  {
   "cell_type": "markdown",
   "id": "53adbcb2",
   "metadata": {},
   "source": [
    "\n",
    "## 2. Torch datasets (`data_loader.py` lines 22-63)\n",
    "\n",
    "We wrap the min-max scaled arrays into PyTorch `Dataset` objects that expose the classifier inputs, labels, per-event weights, and jet masses used in the DisCo penalty.\n"
   ]
  },
  {
   "cell_type": "code",
   "execution_count": 4,
   "id": "a6f014a0",
   "metadata": {},
   "outputs": [
    {
     "data": {
      "text/plain": [
       "(10000, 5000, 5000)"
      ]
     },
     "execution_count": 4,
     "metadata": {},
     "output_type": "execute_result"
    }
   ],
   "source": [
    "\n",
    "class TorchTopTaggingDataset(Dataset):\n",
    "    def __init__(self, x: np.ndarray, y: np.ndarray, mass: np.ndarray, weight: np.ndarray | None = None):\n",
    "        self.x = torch.as_tensor(x, dtype=torch.float32)\n",
    "        self.y = torch.as_tensor(y, dtype=torch.float32)\n",
    "        if weight is None:\n",
    "            weight = np.ones_like(y, dtype=np.float32)\n",
    "        self.w = torch.as_tensor(weight, dtype=torch.float32)\n",
    "        self.mass = torch.as_tensor(mass, dtype=torch.float32)\n",
    "\n",
    "    def __len__(self) -> int:\n",
    "        return self.x.shape[0]\n",
    "\n",
    "    def __getitem__(self, idx: int):\n",
    "        return self.x[idx], self.y[idx], self.w[idx], self.mass[idx]\n",
    "\n",
    "\n",
    "def _clip_events(split: str, array: np.ndarray) -> np.ndarray:\n",
    "    limit = EVENT_LIMITS[split]\n",
    "    if limit is None:\n",
    "        return array\n",
    "    return array[:limit]\n",
    "\n",
    "\n",
    "train_set = TorchTopTaggingDataset(\n",
    "    _clip_events(\"train\", features[\"train\"]),\n",
    "    _clip_events(\"train\", labels[\"train\"]),\n",
    "    _clip_events(\"train\", masses[\"train\"]),\n",
    ")\n",
    "val_set = TorchTopTaggingDataset(\n",
    "    _clip_events(\"val\", features[\"val\"]),\n",
    "    _clip_events(\"val\", labels[\"val\"]),\n",
    "    _clip_events(\"val\", masses[\"val\"]),\n",
    ")\n",
    "test_set = TorchTopTaggingDataset(\n",
    "    _clip_events(\"test\", features[\"test\"]),\n",
    "    _clip_events(\"test\", labels[\"test\"]),\n",
    "    _clip_events(\"test\", masses[\"test\"]),\n",
    ")\n",
    "\n",
    "train_loader = DataLoader(train_set, batch_size=BATCH_SIZE, shuffle=True, drop_last=False)\n",
    "val_loader = DataLoader(val_set, batch_size=BATCH_SIZE, shuffle=False)\n",
    "test_loader = DataLoader(test_set, batch_size=BATCH_SIZE, shuffle=False)\n",
    "\n",
    "len(train_set), len(val_set), len(test_set)\n"
   ]
  },
  {
   "cell_type": "markdown",
   "id": "22662386",
   "metadata": {},
   "source": [
    "\n",
    "## 3. Model backends (`networks.py` lines 8-44)\n",
    "\n",
    "The Single-DisCo setup uses a single `DNNclassifier` head. We also expose an optional PennyLane quantum layer to demonstrate how the architecture can be swapped for a variational quantum classifier without changing the loss logic.\n"
   ]
  },
  {
   "cell_type": "code",
   "execution_count": 5,
   "id": "5fb324d3",
   "metadata": {},
   "outputs": [
    {
     "name": "stdout",
     "output_type": "stream",
     "text": [
      "Using device: lightning.gpu\n",
      "N_qubits: 6\n",
      "N_features: 11\n"
     ]
    },
    {
     "data": {
      "text/plain": [
       "PennyLaneSingleDisco(\n",
       "  (qlayer): <Quantum Torch Layer: func=circuit>\n",
       "  (head): Linear(in_features=2, out_features=2, bias=True)\n",
       ")"
      ]
     },
     "execution_count": 5,
     "metadata": {},
     "output_type": "execute_result"
    }
   ],
   "source": [
    "\n",
    "class TorchSingleDisco(nn.Module):\n",
    "    \"\"\"Wrap one `DNNclassifier` head exactly as in the Single-DisCo script.\"\"\"\n",
    "\n",
    "    def __init__(self, n_features: int):\n",
    "        super().__init__()\n",
    "        self.head = DNNclassifier(n_features, 2)\n",
    "\n",
    "    def forward(self, x: torch.Tensor):\n",
    "        logits = self.head(x)\n",
    "        score = F.softmax(logits, dim=1)[:, 1]\n",
    "        return logits, score\n",
    "\n",
    "\n",
    "class PennyLaneSingleDisco(nn.Module):\n",
    "    \"\"\"Minimal PennyLane VQC head compatible with the Single-DisCo loss.\"\"\"\n",
    "\n",
    "    def __init__(self, n_features: int, n_qubits: int = 6, layers: int = 2, device_name: str = \"default.qubit\"):\n",
    "        if not PENNYLANE_AVAILABLE:\n",
    "            raise RuntimeError(\"PennyLane is not installed. Run `%pip install pennylane pennylane-lightning`.\")\n",
    "        super().__init__()\n",
    "        self.n_qubits = n_qubits\n",
    "        self.n_features = n_features\n",
    "\n",
    "        print(\"Using device:\", device_name)\n",
    "        print(\"N_qubits:\", n_qubits)\n",
    "        print(\"N_features:\", n_features)\n",
    "        qdevice = qml.device(device_name, wires=n_qubits)\n",
    "        weight_shapes = {\"weights\": (layers, n_qubits)}\n",
    "\n",
    "        @qml.qnode(qdevice, interface=\"torch\")\n",
    "        def circuit(inputs, weights):\n",
    "            take = min(inputs.shape[-1], n_qubits)\n",
    "            if inputs.ndim == 1:\n",
    "                x_pad = torch.zeros(n_qubits, dtype=inputs.dtype, device=inputs.device)\n",
    "                x_pad[:take] = inputs[:take]\n",
    "            else:\n",
    "                batch_size = inputs.shape[0]\n",
    "                x_pad = torch.zeros((batch_size, n_qubits), dtype=inputs.dtype, device=inputs.device)\n",
    "                x_pad[:, :take] = inputs[:, :take]\n",
    "            qml.templates.AngleEmbedding(x_pad, wires=range(n_qubits), rotation=\"Y\")\n",
    "            qml.templates.BasicEntanglerLayers(weights, wires=range(n_qubits))\n",
    "            return [qml.expval(qml.PauliZ(i)) for i in range(2)]\n",
    "\n",
    "        self.qlayer = qml.qnn.TorchLayer(circuit, weight_shapes)\n",
    "        self.head = nn.Linear(2, 2)\n",
    "\n",
    "    def forward(self, x: torch.Tensor):\n",
    "        q_inputs = x[:, : self.n_qubits]\n",
    "        q_features = self.qlayer(q_inputs)\n",
    "        logits = self.head(q_features)\n",
    "        score = F.softmax(logits, dim=1)[:, 1]\n",
    "        return logits, score\n",
    "\n",
    "\n",
    "def build_model(n_features: int) -> nn.Module:\n",
    "    if BACKEND == \"qml\":\n",
    "        model = PennyLaneSingleDisco(n_features, n_qubits=N_QUBITS, layers=QML_LAYERS, device_name=QML_DEVICE)\n",
    "    else:\n",
    "        model = TorchSingleDisco(n_features)\n",
    "    return model.to(DEVICE)\n",
    "\n",
    "\n",
    "model = build_model(len(FEATURE_NAMES))\n",
    "optimizer = torch.optim.Adam(model.parameters(), lr=LEARNING_RATE)\n",
    "model\n"
   ]
  },
  {
   "cell_type": "markdown",
   "id": "54a33af9",
   "metadata": {},
   "source": [
    "\n",
    "## 4. Loss function with DisCo penalty (`model.py` lines 24-86 & `disco.py`)\n",
    "\n",
    "We compute the weighted binary cross-entropy loss and add the unbiased distance-correlation penalty between the classifier score and jet mass on background events, following the original `train_model(..., decorr_mode='dist_unbiased')` implementation.\n"
   ]
  },
  {
   "cell_type": "code",
   "execution_count": 6,
   "id": "f77a02f2",
   "metadata": {},
   "outputs": [],
   "source": [
    "\n",
    "def distance_corr_safe(x: torch.Tensor, y: torch.Tensor, weight: torch.Tensor) -> torch.Tensor:\n",
    "    if x.numel() <= 2 or y.numel() <= 2:\n",
    "        return torch.zeros(1, device=x.device, dtype=x.dtype)\n",
    "    normed = weight / (weight.sum() + 1e-12) * len(weight)\n",
    "    return distance_corr_unbiased(x, y, normed, power=1)\n",
    "\n",
    "\n",
    "def compute_losses(model: nn.Module, batch: Tuple[torch.Tensor, ...]) -> Tuple[torch.Tensor, Dict[str, float]]:\n",
    "    features, labels, weights, masses = batch\n",
    "    features = features.to(DEVICE)\n",
    "    labels = labels.to(DEVICE)\n",
    "    weights = weights.to(DEVICE)\n",
    "    masses = masses.to(DEVICE)\n",
    "\n",
    "    logits, score = model(features)\n",
    "    loss_cls = F.binary_cross_entropy(score, labels, weight=weights)\n",
    "    loss = loss_cls\n",
    "\n",
    "    metrics = {\n",
    "        \"loss_cls\": float(loss_cls.detach().cpu()),\n",
    "    }\n",
    "\n",
    "    background = labels < 0.5\n",
    "    if background.any() and LAMBDA_MASS > 0.0:\n",
    "        w_bkg = torch.ones_like(weights[background])\n",
    "        d_mass = distance_corr_safe(score[background], masses[background], w_bkg)\n",
    "        loss = loss + LAMBDA_MASS * d_mass\n",
    "        metrics[\"dCorr_s_m\"] = float(d_mass.detach().cpu())\n",
    "\n",
    "    return loss, metrics\n"
   ]
  },
  {
   "cell_type": "markdown",
   "id": "4b9d446a",
   "metadata": {},
   "source": [
    "\n",
    "## 5. Training loop (`model.py` lines 88-170)\n",
    "\n",
    "We adapt the original `train`/`val` helpers to work seamlessly on CPU/GPU and to log the DisCo decorrelation term alongside the classification loss.\n"
   ]
  },
  {
   "cell_type": "code",
   "execution_count": 7,
   "id": "1b6468b4",
   "metadata": {},
   "outputs": [
    {
     "name": "stderr",
     "output_type": "stream",
     "text": [
      "                                                      \r"
     ]
    },
    {
     "name": "stdout",
     "output_type": "stream",
     "text": [
      "Epoch 000 | AUC=0.157 | train_loss=0.705 | val_loss=0.702\n"
     ]
    },
    {
     "name": "stderr",
     "output_type": "stream",
     "text": [
      "                                                      \r"
     ]
    },
    {
     "name": "stdout",
     "output_type": "stream",
     "text": [
      "Epoch 001 | AUC=0.492 | train_loss=0.700 | val_loss=0.697\n"
     ]
    },
    {
     "name": "stderr",
     "output_type": "stream",
     "text": [
      "                                                      \r"
     ]
    },
    {
     "name": "stdout",
     "output_type": "stream",
     "text": [
      "Epoch 002 | AUC=0.568 | train_loss=0.696 | val_loss=0.695\n"
     ]
    },
    {
     "name": "stderr",
     "output_type": "stream",
     "text": [
      "                                                      \r"
     ]
    },
    {
     "name": "stdout",
     "output_type": "stream",
     "text": [
      "Epoch 003 | AUC=0.473 | train_loss=0.695 | val_loss=0.695\n"
     ]
    },
    {
     "name": "stderr",
     "output_type": "stream",
     "text": [
      "                                                      \r"
     ]
    },
    {
     "name": "stdout",
     "output_type": "stream",
     "text": [
      "Epoch 004 | AUC=0.501 | train_loss=0.695 | val_loss=0.694\n"
     ]
    },
    {
     "name": "stderr",
     "output_type": "stream",
     "text": [
      "                                                      \r"
     ]
    },
    {
     "name": "stdout",
     "output_type": "stream",
     "text": [
      "Epoch 005 | AUC=0.498 | train_loss=0.694 | val_loss=0.694\n"
     ]
    },
    {
     "name": "stderr",
     "output_type": "stream",
     "text": [
      "                                                      \r"
     ]
    },
    {
     "name": "stdout",
     "output_type": "stream",
     "text": [
      "Epoch 006 | AUC=0.509 | train_loss=0.693 | val_loss=0.693\n"
     ]
    },
    {
     "name": "stderr",
     "output_type": "stream",
     "text": [
      "                                                      \r"
     ]
    },
    {
     "name": "stdout",
     "output_type": "stream",
     "text": [
      "Epoch 007 | AUC=0.496 | train_loss=0.693 | val_loss=0.693\n"
     ]
    },
    {
     "name": "stderr",
     "output_type": "stream",
     "text": [
      "                                                      \r"
     ]
    },
    {
     "name": "stdout",
     "output_type": "stream",
     "text": [
      "Epoch 008 | AUC=0.511 | train_loss=0.693 | val_loss=0.693\n"
     ]
    },
    {
     "name": "stderr",
     "output_type": "stream",
     "text": [
      "                                                      \r"
     ]
    },
    {
     "name": "stdout",
     "output_type": "stream",
     "text": [
      "Epoch 009 | AUC=0.499 | train_loss=0.693 | val_loss=0.693\n"
     ]
    },
    {
     "name": "stderr",
     "output_type": "stream",
     "text": [
      "                                                      \r"
     ]
    },
    {
     "name": "stdout",
     "output_type": "stream",
     "text": [
      "Epoch 010 | AUC=0.504 | train_loss=0.693 | val_loss=0.693\n"
     ]
    },
    {
     "name": "stderr",
     "output_type": "stream",
     "text": [
      "                                                      \r"
     ]
    },
    {
     "name": "stdout",
     "output_type": "stream",
     "text": [
      "Epoch 011 | AUC=0.521 | train_loss=0.693 | val_loss=0.693\n"
     ]
    },
    {
     "name": "stderr",
     "output_type": "stream",
     "text": [
      "                                                      \r"
     ]
    },
    {
     "name": "stdout",
     "output_type": "stream",
     "text": [
      "Epoch 012 | AUC=0.520 | train_loss=0.693 | val_loss=0.693\n"
     ]
    },
    {
     "name": "stderr",
     "output_type": "stream",
     "text": [
      "                                                      \r"
     ]
    },
    {
     "name": "stdout",
     "output_type": "stream",
     "text": [
      "Epoch 013 | AUC=0.544 | train_loss=0.693 | val_loss=0.693\n"
     ]
    },
    {
     "name": "stderr",
     "output_type": "stream",
     "text": [
      "                                                      \r"
     ]
    },
    {
     "name": "stdout",
     "output_type": "stream",
     "text": [
      "Epoch 014 | AUC=0.562 | train_loss=0.694 | val_loss=0.694\n"
     ]
    },
    {
     "name": "stderr",
     "output_type": "stream",
     "text": [
      "                                                      \r"
     ]
    },
    {
     "name": "stdout",
     "output_type": "stream",
     "text": [
      "Epoch 015 | AUC=0.559 | train_loss=0.694 | val_loss=0.694\n"
     ]
    },
    {
     "name": "stderr",
     "output_type": "stream",
     "text": [
      "                                                      \r"
     ]
    },
    {
     "name": "stdout",
     "output_type": "stream",
     "text": [
      "Epoch 016 | AUC=0.571 | train_loss=0.694 | val_loss=0.694\n"
     ]
    },
    {
     "name": "stderr",
     "output_type": "stream",
     "text": [
      "                                                      \r"
     ]
    },
    {
     "name": "stdout",
     "output_type": "stream",
     "text": [
      "Epoch 017 | AUC=0.586 | train_loss=0.694 | val_loss=0.694\n"
     ]
    },
    {
     "name": "stderr",
     "output_type": "stream",
     "text": [
      "                                                      \r"
     ]
    },
    {
     "name": "stdout",
     "output_type": "stream",
     "text": [
      "Epoch 018 | AUC=0.632 | train_loss=0.694 | val_loss=0.694\n"
     ]
    },
    {
     "name": "stderr",
     "output_type": "stream",
     "text": [
      "                                                      \r"
     ]
    },
    {
     "name": "stdout",
     "output_type": "stream",
     "text": [
      "Epoch 019 | AUC=0.684 | train_loss=0.694 | val_loss=0.694\n"
     ]
    },
    {
     "name": "stderr",
     "output_type": "stream",
     "text": [
      "                                                      \r"
     ]
    },
    {
     "name": "stdout",
     "output_type": "stream",
     "text": [
      "Epoch 020 | AUC=0.700 | train_loss=0.694 | val_loss=0.693\n"
     ]
    },
    {
     "name": "stderr",
     "output_type": "stream",
     "text": [
      "                                                      \r"
     ]
    },
    {
     "name": "stdout",
     "output_type": "stream",
     "text": [
      "Epoch 021 | AUC=0.700 | train_loss=0.693 | val_loss=0.693\n"
     ]
    },
    {
     "name": "stderr",
     "output_type": "stream",
     "text": [
      "                                                      \r"
     ]
    },
    {
     "name": "stdout",
     "output_type": "stream",
     "text": [
      "Epoch 022 | AUC=0.751 | train_loss=0.693 | val_loss=0.693\n"
     ]
    },
    {
     "name": "stderr",
     "output_type": "stream",
     "text": [
      "                                                      \r"
     ]
    },
    {
     "name": "stdout",
     "output_type": "stream",
     "text": [
      "Epoch 023 | AUC=0.757 | train_loss=0.693 | val_loss=0.693\n"
     ]
    },
    {
     "name": "stderr",
     "output_type": "stream",
     "text": [
      "                                                      \r"
     ]
    },
    {
     "name": "stdout",
     "output_type": "stream",
     "text": [
      "Epoch 024 | AUC=0.738 | train_loss=0.693 | val_loss=0.693\n"
     ]
    },
    {
     "name": "stderr",
     "output_type": "stream",
     "text": [
      "                                                      \r"
     ]
    },
    {
     "name": "stdout",
     "output_type": "stream",
     "text": [
      "Epoch 025 | AUC=0.726 | train_loss=0.693 | val_loss=0.693\n"
     ]
    },
    {
     "name": "stderr",
     "output_type": "stream",
     "text": [
      "                                                      \r"
     ]
    },
    {
     "name": "stdout",
     "output_type": "stream",
     "text": [
      "Epoch 026 | AUC=0.776 | train_loss=0.693 | val_loss=0.692\n"
     ]
    },
    {
     "name": "stderr",
     "output_type": "stream",
     "text": [
      "                                                      \r"
     ]
    },
    {
     "name": "stdout",
     "output_type": "stream",
     "text": [
      "Epoch 027 | AUC=0.743 | train_loss=0.693 | val_loss=0.693\n"
     ]
    },
    {
     "name": "stderr",
     "output_type": "stream",
     "text": [
      "                                                      \r"
     ]
    },
    {
     "name": "stdout",
     "output_type": "stream",
     "text": [
      "Epoch 028 | AUC=0.736 | train_loss=0.693 | val_loss=0.693\n"
     ]
    },
    {
     "name": "stderr",
     "output_type": "stream",
     "text": [
      "                                                      \r"
     ]
    },
    {
     "name": "stdout",
     "output_type": "stream",
     "text": [
      "Epoch 029 | AUC=0.732 | train_loss=0.693 | val_loss=0.693\n"
     ]
    },
    {
     "name": "stderr",
     "output_type": "stream",
     "text": [
      "                                                      \r"
     ]
    },
    {
     "name": "stdout",
     "output_type": "stream",
     "text": [
      "Epoch 030 | AUC=0.723 | train_loss=0.693 | val_loss=0.693\n"
     ]
    },
    {
     "name": "stderr",
     "output_type": "stream",
     "text": [
      "                                                      \r"
     ]
    },
    {
     "name": "stdout",
     "output_type": "stream",
     "text": [
      "Epoch 031 | AUC=0.723 | train_loss=0.693 | val_loss=0.693\n"
     ]
    },
    {
     "name": "stderr",
     "output_type": "stream",
     "text": [
      "                                                      \r"
     ]
    },
    {
     "name": "stdout",
     "output_type": "stream",
     "text": [
      "Epoch 032 | AUC=0.712 | train_loss=0.693 | val_loss=0.693\n"
     ]
    },
    {
     "name": "stderr",
     "output_type": "stream",
     "text": [
      "                                                      \r"
     ]
    },
    {
     "name": "stdout",
     "output_type": "stream",
     "text": [
      "Epoch 033 | AUC=0.739 | train_loss=0.693 | val_loss=0.693\n"
     ]
    },
    {
     "name": "stderr",
     "output_type": "stream",
     "text": [
      "                                                      \r"
     ]
    },
    {
     "name": "stdout",
     "output_type": "stream",
     "text": [
      "Epoch 034 | AUC=0.735 | train_loss=0.693 | val_loss=0.693\n"
     ]
    },
    {
     "name": "stderr",
     "output_type": "stream",
     "text": [
      "                                                      \r"
     ]
    },
    {
     "name": "stdout",
     "output_type": "stream",
     "text": [
      "Epoch 035 | AUC=0.732 | train_loss=0.693 | val_loss=0.693\n"
     ]
    },
    {
     "name": "stderr",
     "output_type": "stream",
     "text": [
      "                                                      \r"
     ]
    },
    {
     "name": "stdout",
     "output_type": "stream",
     "text": [
      "Epoch 036 | AUC=0.726 | train_loss=0.693 | val_loss=0.693\n"
     ]
    },
    {
     "name": "stderr",
     "output_type": "stream",
     "text": [
      "                                                      \r"
     ]
    },
    {
     "name": "stdout",
     "output_type": "stream",
     "text": [
      "Epoch 037 | AUC=0.751 | train_loss=0.693 | val_loss=0.692\n"
     ]
    },
    {
     "name": "stderr",
     "output_type": "stream",
     "text": [
      "                                                      \r"
     ]
    },
    {
     "name": "stdout",
     "output_type": "stream",
     "text": [
      "Epoch 038 | AUC=0.762 | train_loss=0.693 | val_loss=0.692\n"
     ]
    },
    {
     "name": "stderr",
     "output_type": "stream",
     "text": [
      "                                                      \r"
     ]
    },
    {
     "name": "stdout",
     "output_type": "stream",
     "text": [
      "Epoch 039 | AUC=0.751 | train_loss=0.693 | val_loss=0.692\n"
     ]
    },
    {
     "name": "stderr",
     "output_type": "stream",
     "text": [
      "                                                      \r"
     ]
    },
    {
     "name": "stdout",
     "output_type": "stream",
     "text": [
      "Epoch 040 | AUC=0.768 | train_loss=0.692 | val_loss=0.692\n"
     ]
    },
    {
     "name": "stderr",
     "output_type": "stream",
     "text": [
      "                                                      \r"
     ]
    },
    {
     "name": "stdout",
     "output_type": "stream",
     "text": [
      "Epoch 041 | AUC=0.751 | train_loss=0.692 | val_loss=0.692\n"
     ]
    },
    {
     "name": "stderr",
     "output_type": "stream",
     "text": [
      "                                                      \r"
     ]
    },
    {
     "name": "stdout",
     "output_type": "stream",
     "text": [
      "Epoch 042 | AUC=0.714 | train_loss=0.693 | val_loss=0.693\n"
     ]
    },
    {
     "name": "stderr",
     "output_type": "stream",
     "text": [
      "                                                      \r"
     ]
    },
    {
     "name": "stdout",
     "output_type": "stream",
     "text": [
      "Epoch 043 | AUC=0.745 | train_loss=0.693 | val_loss=0.692\n"
     ]
    },
    {
     "name": "stderr",
     "output_type": "stream",
     "text": [
      "                                                      \r"
     ]
    },
    {
     "name": "stdout",
     "output_type": "stream",
     "text": [
      "Epoch 044 | AUC=0.756 | train_loss=0.692 | val_loss=0.692\n"
     ]
    },
    {
     "name": "stderr",
     "output_type": "stream",
     "text": [
      "                                                      \r"
     ]
    },
    {
     "name": "stdout",
     "output_type": "stream",
     "text": [
      "Epoch 045 | AUC=0.758 | train_loss=0.692 | val_loss=0.692\n"
     ]
    },
    {
     "name": "stderr",
     "output_type": "stream",
     "text": [
      "                                                      \r"
     ]
    },
    {
     "ename": "KeyboardInterrupt",
     "evalue": "",
     "output_type": "error",
     "traceback": [
      "\u001b[31m---------------------------------------------------------------------------\u001b[39m",
      "\u001b[31mKeyboardInterrupt\u001b[39m                         Traceback (most recent call last)",
      "\u001b[36mCell\u001b[39m\u001b[36m \u001b[39m\u001b[32mIn[7]\u001b[39m\u001b[32m, line 42\u001b[39m\n\u001b[32m     40\u001b[39m \u001b[38;5;28;01mfor\u001b[39;00m epoch \u001b[38;5;129;01min\u001b[39;00m \u001b[38;5;28mrange\u001b[39m(EPOCHS):\n\u001b[32m     41\u001b[39m     train_metrics = train_one_epoch(model, train_loader, optimizer)\n\u001b[32m---> \u001b[39m\u001b[32m42\u001b[39m     s_val, y_val, w_val, m_val, val_metrics = \u001b[43mevaluate\u001b[49m\u001b[43m(\u001b[49m\u001b[43mmodel\u001b[49m\u001b[43m,\u001b[49m\u001b[43m \u001b[49m\u001b[43mval_loader\u001b[49m\u001b[43m)\u001b[49m\n\u001b[32m     43\u001b[39m     fpr, tpr, _ = roc_curve(y_val, s_val, sample_weight=w_val)\n\u001b[32m     44\u001b[39m     roc_auc = auc(fpr, tpr)\n",
      "\u001b[36mCell\u001b[39m\u001b[36m \u001b[39m\u001b[32mIn[7]\u001b[39m\u001b[32m, line 23\u001b[39m, in \u001b[36mevaluate\u001b[39m\u001b[34m(model, loader)\u001b[39m\n\u001b[32m     21\u001b[39m features, labels, weights, masses = batch\n\u001b[32m     22\u001b[39m features = features.to(DEVICE)\n\u001b[32m---> \u001b[39m\u001b[32m23\u001b[39m _, score = \u001b[43mmodel\u001b[49m\u001b[43m(\u001b[49m\u001b[43mfeatures\u001b[49m\u001b[43m)\u001b[49m\n\u001b[32m     24\u001b[39m scores.append(score.cpu().numpy())\n\u001b[32m     25\u001b[39m labels_all.append(labels.numpy())\n",
      "\u001b[36mFile \u001b[39m\u001b[32m/global/common/software/m4138/ABCDisCo/lib/python3.12/site-packages/torch/nn/modules/module.py:1739\u001b[39m, in \u001b[36mModule._wrapped_call_impl\u001b[39m\u001b[34m(self, *args, **kwargs)\u001b[39m\n\u001b[32m   1737\u001b[39m     \u001b[38;5;28;01mreturn\u001b[39;00m \u001b[38;5;28mself\u001b[39m._compiled_call_impl(*args, **kwargs)  \u001b[38;5;66;03m# type: ignore[misc]\u001b[39;00m\n\u001b[32m   1738\u001b[39m \u001b[38;5;28;01melse\u001b[39;00m:\n\u001b[32m-> \u001b[39m\u001b[32m1739\u001b[39m     \u001b[38;5;28;01mreturn\u001b[39;00m \u001b[38;5;28;43mself\u001b[39;49m\u001b[43m.\u001b[49m\u001b[43m_call_impl\u001b[49m\u001b[43m(\u001b[49m\u001b[43m*\u001b[49m\u001b[43margs\u001b[49m\u001b[43m,\u001b[49m\u001b[43m \u001b[49m\u001b[43m*\u001b[49m\u001b[43m*\u001b[49m\u001b[43mkwargs\u001b[49m\u001b[43m)\u001b[49m\n",
      "\u001b[36mFile \u001b[39m\u001b[32m/global/common/software/m4138/ABCDisCo/lib/python3.12/site-packages/torch/nn/modules/module.py:1750\u001b[39m, in \u001b[36mModule._call_impl\u001b[39m\u001b[34m(self, *args, **kwargs)\u001b[39m\n\u001b[32m   1745\u001b[39m \u001b[38;5;66;03m# If we don't have any hooks, we want to skip the rest of the logic in\u001b[39;00m\n\u001b[32m   1746\u001b[39m \u001b[38;5;66;03m# this function, and just call forward.\u001b[39;00m\n\u001b[32m   1747\u001b[39m \u001b[38;5;28;01mif\u001b[39;00m \u001b[38;5;129;01mnot\u001b[39;00m (\u001b[38;5;28mself\u001b[39m._backward_hooks \u001b[38;5;129;01mor\u001b[39;00m \u001b[38;5;28mself\u001b[39m._backward_pre_hooks \u001b[38;5;129;01mor\u001b[39;00m \u001b[38;5;28mself\u001b[39m._forward_hooks \u001b[38;5;129;01mor\u001b[39;00m \u001b[38;5;28mself\u001b[39m._forward_pre_hooks\n\u001b[32m   1748\u001b[39m         \u001b[38;5;129;01mor\u001b[39;00m _global_backward_pre_hooks \u001b[38;5;129;01mor\u001b[39;00m _global_backward_hooks\n\u001b[32m   1749\u001b[39m         \u001b[38;5;129;01mor\u001b[39;00m _global_forward_hooks \u001b[38;5;129;01mor\u001b[39;00m _global_forward_pre_hooks):\n\u001b[32m-> \u001b[39m\u001b[32m1750\u001b[39m     \u001b[38;5;28;01mreturn\u001b[39;00m \u001b[43mforward_call\u001b[49m\u001b[43m(\u001b[49m\u001b[43m*\u001b[49m\u001b[43margs\u001b[49m\u001b[43m,\u001b[49m\u001b[43m \u001b[49m\u001b[43m*\u001b[49m\u001b[43m*\u001b[49m\u001b[43mkwargs\u001b[49m\u001b[43m)\u001b[49m\n\u001b[32m   1752\u001b[39m result = \u001b[38;5;28;01mNone\u001b[39;00m\n\u001b[32m   1753\u001b[39m called_always_called_hooks = \u001b[38;5;28mset\u001b[39m()\n",
      "\u001b[36mCell\u001b[39m\u001b[36m \u001b[39m\u001b[32mIn[5]\u001b[39m\u001b[32m, line 49\u001b[39m, in \u001b[36mPennyLaneSingleDisco.forward\u001b[39m\u001b[34m(self, x)\u001b[39m\n\u001b[32m     47\u001b[39m \u001b[38;5;28;01mdef\u001b[39;00m\u001b[38;5;250m \u001b[39m\u001b[34mforward\u001b[39m(\u001b[38;5;28mself\u001b[39m, x: torch.Tensor):\n\u001b[32m     48\u001b[39m     q_inputs = x[:, : \u001b[38;5;28mself\u001b[39m.n_qubits]\n\u001b[32m---> \u001b[39m\u001b[32m49\u001b[39m     q_features = \u001b[38;5;28;43mself\u001b[39;49m\u001b[43m.\u001b[49m\u001b[43mqlayer\u001b[49m\u001b[43m(\u001b[49m\u001b[43mq_inputs\u001b[49m\u001b[43m)\u001b[49m\n\u001b[32m     50\u001b[39m     logits = \u001b[38;5;28mself\u001b[39m.head(q_features)\n\u001b[32m     51\u001b[39m     score = F.softmax(logits, dim=\u001b[32m1\u001b[39m)[:, \u001b[32m1\u001b[39m]\n",
      "\u001b[36mFile \u001b[39m\u001b[32m/global/common/software/m4138/ABCDisCo/lib/python3.12/site-packages/torch/nn/modules/module.py:1739\u001b[39m, in \u001b[36mModule._wrapped_call_impl\u001b[39m\u001b[34m(self, *args, **kwargs)\u001b[39m\n\u001b[32m   1737\u001b[39m     \u001b[38;5;28;01mreturn\u001b[39;00m \u001b[38;5;28mself\u001b[39m._compiled_call_impl(*args, **kwargs)  \u001b[38;5;66;03m# type: ignore[misc]\u001b[39;00m\n\u001b[32m   1738\u001b[39m \u001b[38;5;28;01melse\u001b[39;00m:\n\u001b[32m-> \u001b[39m\u001b[32m1739\u001b[39m     \u001b[38;5;28;01mreturn\u001b[39;00m \u001b[38;5;28;43mself\u001b[39;49m\u001b[43m.\u001b[49m\u001b[43m_call_impl\u001b[49m\u001b[43m(\u001b[49m\u001b[43m*\u001b[49m\u001b[43margs\u001b[49m\u001b[43m,\u001b[49m\u001b[43m \u001b[49m\u001b[43m*\u001b[49m\u001b[43m*\u001b[49m\u001b[43mkwargs\u001b[49m\u001b[43m)\u001b[49m\n",
      "\u001b[36mFile \u001b[39m\u001b[32m/global/common/software/m4138/ABCDisCo/lib/python3.12/site-packages/torch/nn/modules/module.py:1750\u001b[39m, in \u001b[36mModule._call_impl\u001b[39m\u001b[34m(self, *args, **kwargs)\u001b[39m\n\u001b[32m   1745\u001b[39m \u001b[38;5;66;03m# If we don't have any hooks, we want to skip the rest of the logic in\u001b[39;00m\n\u001b[32m   1746\u001b[39m \u001b[38;5;66;03m# this function, and just call forward.\u001b[39;00m\n\u001b[32m   1747\u001b[39m \u001b[38;5;28;01mif\u001b[39;00m \u001b[38;5;129;01mnot\u001b[39;00m (\u001b[38;5;28mself\u001b[39m._backward_hooks \u001b[38;5;129;01mor\u001b[39;00m \u001b[38;5;28mself\u001b[39m._backward_pre_hooks \u001b[38;5;129;01mor\u001b[39;00m \u001b[38;5;28mself\u001b[39m._forward_hooks \u001b[38;5;129;01mor\u001b[39;00m \u001b[38;5;28mself\u001b[39m._forward_pre_hooks\n\u001b[32m   1748\u001b[39m         \u001b[38;5;129;01mor\u001b[39;00m _global_backward_pre_hooks \u001b[38;5;129;01mor\u001b[39;00m _global_backward_hooks\n\u001b[32m   1749\u001b[39m         \u001b[38;5;129;01mor\u001b[39;00m _global_forward_hooks \u001b[38;5;129;01mor\u001b[39;00m _global_forward_pre_hooks):\n\u001b[32m-> \u001b[39m\u001b[32m1750\u001b[39m     \u001b[38;5;28;01mreturn\u001b[39;00m \u001b[43mforward_call\u001b[49m\u001b[43m(\u001b[49m\u001b[43m*\u001b[49m\u001b[43margs\u001b[49m\u001b[43m,\u001b[49m\u001b[43m \u001b[49m\u001b[43m*\u001b[49m\u001b[43m*\u001b[49m\u001b[43mkwargs\u001b[49m\u001b[43m)\u001b[49m\n\u001b[32m   1752\u001b[39m result = \u001b[38;5;28;01mNone\u001b[39;00m\n\u001b[32m   1753\u001b[39m called_always_called_hooks = \u001b[38;5;28mset\u001b[39m()\n",
      "\u001b[36mFile \u001b[39m\u001b[32m/global/common/software/m4138/ABCDisCo/lib/python3.12/site-packages/pennylane/qnn/torch.py:408\u001b[39m, in \u001b[36mTorchLayer.forward\u001b[39m\u001b[34m(self, inputs)\u001b[39m\n\u001b[32m    405\u001b[39m     inputs = torch.reshape(inputs, (-\u001b[32m1\u001b[39m, inputs.shape[-\u001b[32m1\u001b[39m]))\n\u001b[32m    407\u001b[39m \u001b[38;5;66;03m# calculate the forward pass as usual\u001b[39;00m\n\u001b[32m--> \u001b[39m\u001b[32m408\u001b[39m results = \u001b[38;5;28;43mself\u001b[39;49m\u001b[43m.\u001b[49m\u001b[43m_evaluate_qnode\u001b[49m\u001b[43m(\u001b[49m\u001b[43minputs\u001b[49m\u001b[43m)\u001b[49m\n\u001b[32m    410\u001b[39m \u001b[38;5;28;01mif\u001b[39;00m \u001b[38;5;28misinstance\u001b[39m(results, \u001b[38;5;28mtuple\u001b[39m):\n\u001b[32m    411\u001b[39m     \u001b[38;5;28;01mif\u001b[39;00m has_batch_dim:\n",
      "\u001b[36mFile \u001b[39m\u001b[32m/global/common/software/m4138/ABCDisCo/lib/python3.12/site-packages/pennylane/qnn/torch.py:434\u001b[39m, in \u001b[36mTorchLayer._evaluate_qnode\u001b[39m\u001b[34m(self, x)\u001b[39m\n\u001b[32m    422\u001b[39m \u001b[38;5;250m\u001b[39m\u001b[33;03m\"\"\"Evaluates the QNode for a single input datapoint.\u001b[39;00m\n\u001b[32m    423\u001b[39m \n\u001b[32m    424\u001b[39m \u001b[33;03mArgs:\u001b[39;00m\n\u001b[32m   (...)\u001b[39m\u001b[32m    428\u001b[39m \u001b[33;03m    tensor: output datapoint\u001b[39;00m\n\u001b[32m    429\u001b[39m \u001b[33;03m\"\"\"\u001b[39;00m\n\u001b[32m    430\u001b[39m kwargs = {\n\u001b[32m    431\u001b[39m     **{\u001b[38;5;28mself\u001b[39m.input_arg: x},\n\u001b[32m    432\u001b[39m     **{arg: weight.to(x) \u001b[38;5;28;01mfor\u001b[39;00m arg, weight \u001b[38;5;129;01min\u001b[39;00m \u001b[38;5;28mself\u001b[39m.qnode_weights.items()},\n\u001b[32m    433\u001b[39m }\n\u001b[32m--> \u001b[39m\u001b[32m434\u001b[39m res = \u001b[38;5;28;43mself\u001b[39;49m\u001b[43m.\u001b[49m\u001b[43mqnode\u001b[49m\u001b[43m(\u001b[49m\u001b[43m*\u001b[49m\u001b[43m*\u001b[49m\u001b[43mkwargs\u001b[49m\u001b[43m)\u001b[49m\n\u001b[32m    436\u001b[39m \u001b[38;5;28;01mif\u001b[39;00m \u001b[38;5;28misinstance\u001b[39m(res, torch.Tensor):\n\u001b[32m    437\u001b[39m     \u001b[38;5;28;01mreturn\u001b[39;00m res.type(x.dtype)\n",
      "\u001b[36mFile \u001b[39m\u001b[32m/global/common/software/m4138/ABCDisCo/lib/python3.12/site-packages/pennylane/workflow/qnode.py:922\u001b[39m, in \u001b[36mQNode.__call__\u001b[39m\u001b[34m(self, *args, **kwargs)\u001b[39m\n\u001b[32m    919\u001b[39m     \u001b[38;5;28;01mfrom\u001b[39;00m\u001b[38;5;250m \u001b[39m\u001b[34;01m.\u001b[39;00m\u001b[34;01m_capture_qnode\u001b[39;00m\u001b[38;5;250m \u001b[39m\u001b[38;5;28;01mimport\u001b[39;00m capture_qnode  \u001b[38;5;66;03m# pylint: disable=import-outside-toplevel\u001b[39;00m\n\u001b[32m    921\u001b[39m     \u001b[38;5;28;01mreturn\u001b[39;00m capture_qnode(\u001b[38;5;28mself\u001b[39m, *args, **kwargs)\n\u001b[32m--> \u001b[39m\u001b[32m922\u001b[39m \u001b[38;5;28;01mreturn\u001b[39;00m \u001b[38;5;28;43mself\u001b[39;49m\u001b[43m.\u001b[49m\u001b[43m_impl_call\u001b[49m\u001b[43m(\u001b[49m\u001b[43m*\u001b[49m\u001b[43margs\u001b[49m\u001b[43m,\u001b[49m\u001b[43m \u001b[49m\u001b[43m*\u001b[49m\u001b[43m*\u001b[49m\u001b[43mkwargs\u001b[49m\u001b[43m)\u001b[49m\n",
      "\u001b[36mFile \u001b[39m\u001b[32m/global/common/software/m4138/ABCDisCo/lib/python3.12/site-packages/pennylane/workflow/qnode.py:895\u001b[39m, in \u001b[36mQNode._impl_call\u001b[39m\u001b[34m(self, *args, **kwargs)\u001b[39m\n\u001b[32m    892\u001b[39m \u001b[38;5;66;03m# Calculate the classical jacobians if necessary\u001b[39;00m\n\u001b[32m    893\u001b[39m \u001b[38;5;28mself\u001b[39m._transform_program.set_classical_component(\u001b[38;5;28mself\u001b[39m, args, kwargs)\n\u001b[32m--> \u001b[39m\u001b[32m895\u001b[39m res = \u001b[43mexecute\u001b[49m\u001b[43m(\u001b[49m\n\u001b[32m    896\u001b[39m \u001b[43m    \u001b[49m\u001b[43m(\u001b[49m\u001b[43mtape\u001b[49m\u001b[43m,\u001b[49m\u001b[43m)\u001b[49m\u001b[43m,\u001b[49m\n\u001b[32m    897\u001b[39m \u001b[43m    \u001b[49m\u001b[43mdevice\u001b[49m\u001b[43m=\u001b[49m\u001b[38;5;28;43mself\u001b[39;49m\u001b[43m.\u001b[49m\u001b[43mdevice\u001b[49m\u001b[43m,\u001b[49m\n\u001b[32m    898\u001b[39m \u001b[43m    \u001b[49m\u001b[43mdiff_method\u001b[49m\u001b[43m=\u001b[49m\u001b[38;5;28;43mself\u001b[39;49m\u001b[43m.\u001b[49m\u001b[43mdiff_method\u001b[49m\u001b[43m,\u001b[49m\n\u001b[32m    899\u001b[39m \u001b[43m    \u001b[49m\u001b[43minterface\u001b[49m\u001b[43m=\u001b[49m\u001b[38;5;28;43mself\u001b[39;49m\u001b[43m.\u001b[49m\u001b[43minterface\u001b[49m\u001b[43m,\u001b[49m\n\u001b[32m    900\u001b[39m \u001b[43m    \u001b[49m\u001b[43mtransform_program\u001b[49m\u001b[43m=\u001b[49m\u001b[38;5;28;43mself\u001b[39;49m\u001b[43m.\u001b[49m\u001b[43m_transform_program\u001b[49m\u001b[43m,\u001b[49m\n\u001b[32m    901\u001b[39m \u001b[43m    \u001b[49m\u001b[43mgradient_kwargs\u001b[49m\u001b[43m=\u001b[49m\u001b[38;5;28;43mself\u001b[39;49m\u001b[43m.\u001b[49m\u001b[43mgradient_kwargs\u001b[49m\u001b[43m,\u001b[49m\n\u001b[32m    902\u001b[39m \u001b[43m    \u001b[49m\u001b[43m*\u001b[49m\u001b[43m*\u001b[49m\u001b[38;5;28;43mself\u001b[39;49m\u001b[43m.\u001b[49m\u001b[43mexecute_kwargs\u001b[49m\u001b[43m,\u001b[49m\n\u001b[32m    903\u001b[39m \u001b[43m\u001b[49m\u001b[43m)\u001b[49m\n\u001b[32m    904\u001b[39m res = res[\u001b[32m0\u001b[39m]\n\u001b[32m    906\u001b[39m \u001b[38;5;66;03m# convert result to the interface in case the qfunc has no parameters\u001b[39;00m\n",
      "\u001b[36mFile \u001b[39m\u001b[32m/global/common/software/m4138/ABCDisCo/lib/python3.12/site-packages/pennylane/workflow/execution.py:233\u001b[39m, in \u001b[36mexecute\u001b[39m\u001b[34m(tapes, device, diff_method, interface, grad_on_execution, cache, cachesize, max_diff, device_vjp, postselect_mode, mcm_method, gradient_kwargs, transform_program, executor_backend)\u001b[39m\n\u001b[32m    229\u001b[39m tapes, outer_post_processing = outer_transform(tapes)\n\u001b[32m    231\u001b[39m \u001b[38;5;28;01massert\u001b[39;00m \u001b[38;5;129;01mnot\u001b[39;00m outer_transform.is_informative, \u001b[33m\"\u001b[39m\u001b[33mshould only contain device preprocessing\u001b[39m\u001b[33m\"\u001b[39m\n\u001b[32m--> \u001b[39m\u001b[32m233\u001b[39m results = \u001b[43mrun\u001b[49m\u001b[43m(\u001b[49m\u001b[43mtapes\u001b[49m\u001b[43m,\u001b[49m\u001b[43m \u001b[49m\u001b[43mdevice\u001b[49m\u001b[43m,\u001b[49m\u001b[43m \u001b[49m\u001b[43mconfig\u001b[49m\u001b[43m,\u001b[49m\u001b[43m \u001b[49m\u001b[43minner_transform\u001b[49m\u001b[43m)\u001b[49m\n\u001b[32m    234\u001b[39m \u001b[38;5;28;01mreturn\u001b[39;00m user_post_processing(outer_post_processing(results))\n",
      "\u001b[36mFile \u001b[39m\u001b[32m/global/common/software/m4138/ABCDisCo/lib/python3.12/site-packages/pennylane/workflow/run.py:338\u001b[39m, in \u001b[36mrun\u001b[39m\u001b[34m(tapes, device, config, inner_transform_program)\u001b[39m\n\u001b[32m    335\u001b[39m         params = tape.get_parameters(trainable_only=\u001b[38;5;28;01mFalse\u001b[39;00m)\n\u001b[32m    336\u001b[39m         tape.trainable_params = qml.math.get_trainable_indices(params)\n\u001b[32m--> \u001b[39m\u001b[32m338\u001b[39m results = \u001b[43mml_execute\u001b[49m\u001b[43m(\u001b[49m\u001b[43mtapes\u001b[49m\u001b[43m,\u001b[49m\u001b[43m \u001b[49m\u001b[43mexecute_fn\u001b[49m\u001b[43m,\u001b[49m\u001b[43m \u001b[49m\u001b[43mjpc\u001b[49m\u001b[43m,\u001b[49m\u001b[43m \u001b[49m\u001b[43mdevice\u001b[49m\u001b[43m=\u001b[49m\u001b[43mdevice\u001b[49m\u001b[43m)\u001b[49m\n\u001b[32m    339\u001b[39m \u001b[38;5;28;01mreturn\u001b[39;00m results\n",
      "\u001b[36mFile \u001b[39m\u001b[32m/global/common/software/m4138/ABCDisCo/lib/python3.12/site-packages/pennylane/workflow/interfaces/torch.py:240\u001b[39m, in \u001b[36mexecute\u001b[39m\u001b[34m(tapes, execute_fn, jpc, device)\u001b[39m\n\u001b[32m    232\u001b[39m     parameters.extend(tape.get_parameters())\n\u001b[32m    234\u001b[39m kwargs = {\n\u001b[32m    235\u001b[39m     \u001b[33m\"\u001b[39m\u001b[33mtapes\u001b[39m\u001b[33m\"\u001b[39m: \u001b[38;5;28mtuple\u001b[39m(tapes),\n\u001b[32m    236\u001b[39m     \u001b[33m\"\u001b[39m\u001b[33mexecute_fn\u001b[39m\u001b[33m\"\u001b[39m: execute_fn,\n\u001b[32m    237\u001b[39m     \u001b[33m\"\u001b[39m\u001b[33mjpc\u001b[39m\u001b[33m\"\u001b[39m: jpc,\n\u001b[32m    238\u001b[39m }\n\u001b[32m--> \u001b[39m\u001b[32m240\u001b[39m \u001b[38;5;28;01mreturn\u001b[39;00m \u001b[43mExecuteTapes\u001b[49m\u001b[43m.\u001b[49m\u001b[43mapply\u001b[49m\u001b[43m(\u001b[49m\u001b[43mkwargs\u001b[49m\u001b[43m,\u001b[49m\u001b[43m \u001b[49m\u001b[43m*\u001b[49m\u001b[43mparameters\u001b[49m\u001b[43m)\u001b[49m\n",
      "\u001b[36mFile \u001b[39m\u001b[32m/global/common/software/m4138/ABCDisCo/lib/python3.12/site-packages/pennylane/workflow/interfaces/torch.py:89\u001b[39m, in \u001b[36mpytreeify.<locals>.new_apply\u001b[39m\u001b[34m(*inp)\u001b[39m\n\u001b[32m     86\u001b[39m \u001b[38;5;28;01mdef\u001b[39;00m\u001b[38;5;250m \u001b[39m\u001b[34mnew_apply\u001b[39m(*inp):\n\u001b[32m     87\u001b[39m     \u001b[38;5;66;03m# Inputs already flat\u001b[39;00m\n\u001b[32m     88\u001b[39m     out_struct_holder = []\n\u001b[32m---> \u001b[39m\u001b[32m89\u001b[39m     flat_out = \u001b[43morig_apply\u001b[49m\u001b[43m(\u001b[49m\u001b[43mout_struct_holder\u001b[49m\u001b[43m,\u001b[49m\u001b[43m \u001b[49m\u001b[43m*\u001b[49m\u001b[43minp\u001b[49m\u001b[43m)\u001b[49m\n\u001b[32m     90\u001b[39m     \u001b[38;5;28;01mreturn\u001b[39;00m pytree.tree_unflatten(flat_out, out_struct_holder[\u001b[32m0\u001b[39m])\n",
      "\u001b[36mFile \u001b[39m\u001b[32m/global/common/software/m4138/ABCDisCo/lib/python3.12/site-packages/torch/autograd/function.py:575\u001b[39m, in \u001b[36mFunction.apply\u001b[39m\u001b[34m(cls, *args, **kwargs)\u001b[39m\n\u001b[32m    572\u001b[39m \u001b[38;5;28;01mif\u001b[39;00m \u001b[38;5;129;01mnot\u001b[39;00m torch._C._are_functorch_transforms_active():\n\u001b[32m    573\u001b[39m     \u001b[38;5;66;03m# See NOTE: [functorch vjp and autograd interaction]\u001b[39;00m\n\u001b[32m    574\u001b[39m     args = _functorch.utils.unwrap_dead_wrappers(args)\n\u001b[32m--> \u001b[39m\u001b[32m575\u001b[39m     \u001b[38;5;28;01mreturn\u001b[39;00m \u001b[38;5;28;43msuper\u001b[39;49m\u001b[43m(\u001b[49m\u001b[43m)\u001b[49m\u001b[43m.\u001b[49m\u001b[43mapply\u001b[49m\u001b[43m(\u001b[49m\u001b[43m*\u001b[49m\u001b[43margs\u001b[49m\u001b[43m,\u001b[49m\u001b[43m \u001b[49m\u001b[43m*\u001b[49m\u001b[43m*\u001b[49m\u001b[43mkwargs\u001b[49m\u001b[43m)\u001b[49m  \u001b[38;5;66;03m# type: ignore[misc]\u001b[39;00m\n\u001b[32m    577\u001b[39m \u001b[38;5;28;01mif\u001b[39;00m \u001b[38;5;129;01mnot\u001b[39;00m is_setup_ctx_defined:\n\u001b[32m    578\u001b[39m     \u001b[38;5;28;01mraise\u001b[39;00m \u001b[38;5;167;01mRuntimeError\u001b[39;00m(\n\u001b[32m    579\u001b[39m         \u001b[33m\"\u001b[39m\u001b[33mIn order to use an autograd.Function with functorch transforms \u001b[39m\u001b[33m\"\u001b[39m\n\u001b[32m    580\u001b[39m         \u001b[33m\"\u001b[39m\u001b[33m(vmap, grad, jvp, jacrev, ...), it must override the setup_context \u001b[39m\u001b[33m\"\u001b[39m\n\u001b[32m    581\u001b[39m         \u001b[33m\"\u001b[39m\u001b[33mstaticmethod. For more details, please see \u001b[39m\u001b[33m\"\u001b[39m\n\u001b[32m    582\u001b[39m         \u001b[33m\"\u001b[39m\u001b[33mhttps://pytorch.org/docs/main/notes/extending.func.html\u001b[39m\u001b[33m\"\u001b[39m\n\u001b[32m    583\u001b[39m     )\n",
      "\u001b[36mFile \u001b[39m\u001b[32m/global/common/software/m4138/ABCDisCo/lib/python3.12/site-packages/pennylane/workflow/interfaces/torch.py:93\u001b[39m, in \u001b[36mpytreeify.<locals>.new_forward\u001b[39m\u001b[34m(ctx, out_struct_holder, *inp)\u001b[39m\n\u001b[32m     92\u001b[39m \u001b[38;5;28;01mdef\u001b[39;00m\u001b[38;5;250m \u001b[39m\u001b[34mnew_forward\u001b[39m(ctx, out_struct_holder, *inp):\n\u001b[32m---> \u001b[39m\u001b[32m93\u001b[39m     out = \u001b[43morig_fw\u001b[49m\u001b[43m(\u001b[49m\u001b[43mctx\u001b[49m\u001b[43m,\u001b[49m\u001b[43m \u001b[49m\u001b[43m*\u001b[49m\u001b[43minp\u001b[49m\u001b[43m)\u001b[49m\n\u001b[32m     94\u001b[39m     flat_out, out_struct = pytree.tree_flatten(out)\n\u001b[32m     95\u001b[39m     ctx._out_struct = out_struct\n",
      "\u001b[36mFile \u001b[39m\u001b[32m/global/common/software/m4138/ABCDisCo/lib/python3.12/site-packages/pennylane/workflow/interfaces/torch.py:162\u001b[39m, in \u001b[36mExecuteTapes.forward\u001b[39m\u001b[34m(ctx, kwargs, *parameters)\u001b[39m\n\u001b[32m    159\u001b[39m ctx.tapes = kwargs[\u001b[33m\"\u001b[39m\u001b[33mtapes\u001b[39m\u001b[33m\"\u001b[39m]\n\u001b[32m    160\u001b[39m ctx.jpc = kwargs[\u001b[33m\"\u001b[39m\u001b[33mjpc\u001b[39m\u001b[33m\"\u001b[39m]\n\u001b[32m--> \u001b[39m\u001b[32m162\u001b[39m res = \u001b[38;5;28mtuple\u001b[39m(\u001b[43mkwargs\u001b[49m\u001b[43m[\u001b[49m\u001b[33;43m\"\u001b[39;49m\u001b[33;43mexecute_fn\u001b[39;49m\u001b[33;43m\"\u001b[39;49m\u001b[43m]\u001b[49m\u001b[43m(\u001b[49m\u001b[43mctx\u001b[49m\u001b[43m.\u001b[49m\u001b[43mtapes\u001b[49m\u001b[43m)\u001b[49m)\n\u001b[32m    164\u001b[39m \u001b[38;5;66;03m# if any input tensor uses the GPU, the output should as well\u001b[39;00m\n\u001b[32m    165\u001b[39m ctx.torch_device = \u001b[38;5;28;01mNone\u001b[39;00m\n",
      "\u001b[36mFile \u001b[39m\u001b[32m/global/common/software/m4138/ABCDisCo/lib/python3.12/site-packages/pennylane/workflow/jacobian_products.py:487\u001b[39m, in \u001b[36mDeviceDerivatives.execute_and_cache_jacobian\u001b[39m\u001b[34m(self, tapes)\u001b[39m\n\u001b[32m    485\u001b[39m \u001b[38;5;28;01mif\u001b[39;00m logger.isEnabledFor(logging.DEBUG):  \u001b[38;5;66;03m# pragma: no cover\u001b[39;00m\n\u001b[32m    486\u001b[39m     logger.debug(\u001b[33m\"\u001b[39m\u001b[33mForward pass called with \u001b[39m\u001b[38;5;132;01m%s\u001b[39;00m\u001b[33m\"\u001b[39m, tapes)\n\u001b[32m--> \u001b[39m\u001b[32m487\u001b[39m results, jac = \u001b[38;5;28;43mself\u001b[39;49m\u001b[43m.\u001b[49m\u001b[43m_dev_execute_and_compute_derivatives\u001b[49m\u001b[43m(\u001b[49m\u001b[43mtapes\u001b[49m\u001b[43m)\u001b[49m\n\u001b[32m    488\u001b[39m \u001b[38;5;28mself\u001b[39m._results_cache[tapes] = results\n\u001b[32m    489\u001b[39m \u001b[38;5;28mself\u001b[39m._jacs_cache[tapes] = jac\n",
      "\u001b[36mFile \u001b[39m\u001b[32m/global/common/software/m4138/ABCDisCo/lib/python3.12/site-packages/pennylane/workflow/jacobian_products.py:452\u001b[39m, in \u001b[36mDeviceDerivatives._dev_execute_and_compute_derivatives\u001b[39m\u001b[34m(self, tapes)\u001b[39m\n\u001b[32m    446\u001b[39m \u001b[38;5;250m\u001b[39m\u001b[33;03m\"\"\"\u001b[39;00m\n\u001b[32m    447\u001b[39m \u001b[33;03mConverts tapes to numpy before computing the the results and derivatives on the device.\u001b[39;00m\n\u001b[32m    448\u001b[39m \n\u001b[32m    449\u001b[39m \u001b[33;03mDispatches between the two different device interfaces.\u001b[39;00m\n\u001b[32m    450\u001b[39m \u001b[33;03m\"\"\"\u001b[39;00m\n\u001b[32m    451\u001b[39m numpy_tapes, _ = qml.transforms.convert_to_numpy_parameters(tapes)\n\u001b[32m--> \u001b[39m\u001b[32m452\u001b[39m \u001b[38;5;28;01mreturn\u001b[39;00m \u001b[38;5;28;43mself\u001b[39;49m\u001b[43m.\u001b[49m\u001b[43m_device\u001b[49m\u001b[43m.\u001b[49m\u001b[43mexecute_and_compute_derivatives\u001b[49m\u001b[43m(\u001b[49m\u001b[43mnumpy_tapes\u001b[49m\u001b[43m,\u001b[49m\u001b[43m \u001b[49m\u001b[38;5;28;43mself\u001b[39;49m\u001b[43m.\u001b[49m\u001b[43m_execution_config\u001b[49m\u001b[43m)\u001b[49m\n",
      "\u001b[36mFile \u001b[39m\u001b[32m/global/common/software/m4138/ABCDisCo/lib/python3.12/site-packages/pennylane/devices/modifiers/simulator_tracking.py:95\u001b[39m, in \u001b[36m_track_execute_and_compute_derivatives.<locals>.execute_and_compute_derivatives\u001b[39m\u001b[34m(self, circuits, execution_config)\u001b[39m\n\u001b[32m     89\u001b[39m     \u001b[38;5;28mself\u001b[39m.tracker.update(\n\u001b[32m     90\u001b[39m         execute_and_derivative_batches=\u001b[32m1\u001b[39m,\n\u001b[32m     91\u001b[39m         executions=\u001b[38;5;28mlen\u001b[39m(batch),\n\u001b[32m     92\u001b[39m         derivatives=\u001b[38;5;28mlen\u001b[39m(batch),\n\u001b[32m     93\u001b[39m     )\n\u001b[32m     94\u001b[39m     \u001b[38;5;28mself\u001b[39m.tracker.record()\n\u001b[32m---> \u001b[39m\u001b[32m95\u001b[39m \u001b[38;5;28;01mreturn\u001b[39;00m \u001b[43muntracked_execute_and_compute_derivatives\u001b[49m\u001b[43m(\u001b[49m\u001b[38;5;28;43mself\u001b[39;49m\u001b[43m,\u001b[49m\u001b[43m \u001b[49m\u001b[43mcircuits\u001b[49m\u001b[43m,\u001b[49m\u001b[43m \u001b[49m\u001b[43mexecution_config\u001b[49m\u001b[43m)\u001b[49m\n",
      "\u001b[36mFile \u001b[39m\u001b[32m/global/common/software/m4138/ABCDisCo/lib/python3.12/site-packages/pennylane/devices/modifiers/single_tape_support.py:60\u001b[39m, in \u001b[36m_make_execute_and_compute_derivatives.<locals>.execute_and_compute_derivatives\u001b[39m\u001b[34m(self, circuits, execution_config)\u001b[39m\n\u001b[32m     58\u001b[39m     is_single_circuit = \u001b[38;5;28;01mTrue\u001b[39;00m\n\u001b[32m     59\u001b[39m     circuits = (circuits,)\n\u001b[32m---> \u001b[39m\u001b[32m60\u001b[39m results, jacs = \u001b[43mbatch_execute_and_compute_derivatives\u001b[49m\u001b[43m(\u001b[49m\u001b[38;5;28;43mself\u001b[39;49m\u001b[43m,\u001b[49m\u001b[43m \u001b[49m\u001b[43mcircuits\u001b[49m\u001b[43m,\u001b[49m\u001b[43m \u001b[49m\u001b[43mexecution_config\u001b[49m\u001b[43m)\u001b[49m\n\u001b[32m     61\u001b[39m \u001b[38;5;28;01mreturn\u001b[39;00m (results[\u001b[32m0\u001b[39m], jacs[\u001b[32m0\u001b[39m]) \u001b[38;5;28;01mif\u001b[39;00m is_single_circuit \u001b[38;5;28;01melse\u001b[39;00m (results, jacs)\n",
      "\u001b[36mFile \u001b[39m\u001b[32m/global/common/software/m4138/ABCDisCo/lib/python3.12/site-packages/pennylane/devices/modifiers/simulator_tracking.py:95\u001b[39m, in \u001b[36m_track_execute_and_compute_derivatives.<locals>.execute_and_compute_derivatives\u001b[39m\u001b[34m(self, circuits, execution_config)\u001b[39m\n\u001b[32m     89\u001b[39m     \u001b[38;5;28mself\u001b[39m.tracker.update(\n\u001b[32m     90\u001b[39m         execute_and_derivative_batches=\u001b[32m1\u001b[39m,\n\u001b[32m     91\u001b[39m         executions=\u001b[38;5;28mlen\u001b[39m(batch),\n\u001b[32m     92\u001b[39m         derivatives=\u001b[38;5;28mlen\u001b[39m(batch),\n\u001b[32m     93\u001b[39m     )\n\u001b[32m     94\u001b[39m     \u001b[38;5;28mself\u001b[39m.tracker.record()\n\u001b[32m---> \u001b[39m\u001b[32m95\u001b[39m \u001b[38;5;28;01mreturn\u001b[39;00m \u001b[43muntracked_execute_and_compute_derivatives\u001b[49m\u001b[43m(\u001b[49m\u001b[38;5;28;43mself\u001b[39;49m\u001b[43m,\u001b[49m\u001b[43m \u001b[49m\u001b[43mcircuits\u001b[49m\u001b[43m,\u001b[49m\u001b[43m \u001b[49m\u001b[43mexecution_config\u001b[49m\u001b[43m)\u001b[49m\n",
      "\u001b[36mFile \u001b[39m\u001b[32m/global/common/software/m4138/ABCDisCo/lib/python3.12/site-packages/pennylane/devices/modifiers/single_tape_support.py:60\u001b[39m, in \u001b[36m_make_execute_and_compute_derivatives.<locals>.execute_and_compute_derivatives\u001b[39m\u001b[34m(self, circuits, execution_config)\u001b[39m\n\u001b[32m     58\u001b[39m     is_single_circuit = \u001b[38;5;28;01mTrue\u001b[39;00m\n\u001b[32m     59\u001b[39m     circuits = (circuits,)\n\u001b[32m---> \u001b[39m\u001b[32m60\u001b[39m results, jacs = \u001b[43mbatch_execute_and_compute_derivatives\u001b[49m\u001b[43m(\u001b[49m\u001b[38;5;28;43mself\u001b[39;49m\u001b[43m,\u001b[49m\u001b[43m \u001b[49m\u001b[43mcircuits\u001b[49m\u001b[43m,\u001b[49m\u001b[43m \u001b[49m\u001b[43mexecution_config\u001b[49m\u001b[43m)\u001b[49m\n\u001b[32m     61\u001b[39m \u001b[38;5;28;01mreturn\u001b[39;00m (results[\u001b[32m0\u001b[39m], jacs[\u001b[32m0\u001b[39m]) \u001b[38;5;28;01mif\u001b[39;00m is_single_circuit \u001b[38;5;28;01melse\u001b[39;00m (results, jacs)\n",
      "\u001b[36mFile \u001b[39m\u001b[32m/global/common/software/m4138/ABCDisCo/lib/python3.12/site-packages/pennylane_lightning/lightning_base/lightning_base.py:451\u001b[39m, in \u001b[36mLightningBase.execute_and_compute_derivatives\u001b[39m\u001b[34m(self, circuits, execution_config)\u001b[39m\n\u001b[32m    441\u001b[39m \u001b[38;5;250m\u001b[39m\u001b[33;03m\"\"\"Compute the results and jacobians of circuits at the same time.\u001b[39;00m\n\u001b[32m    442\u001b[39m \n\u001b[32m    443\u001b[39m \u001b[33;03mArgs:\u001b[39;00m\n\u001b[32m   (...)\u001b[39m\u001b[32m    448\u001b[39m \u001b[33;03m    Tuple: A numeric result of the computation and the gradient.\u001b[39;00m\n\u001b[32m    449\u001b[39m \u001b[33;03m\"\"\"\u001b[39;00m\n\u001b[32m    450\u001b[39m batch_obs = execution_config.device_options.get(\u001b[33m\"\u001b[39m\u001b[33mbatch_obs\u001b[39m\u001b[33m\"\u001b[39m, \u001b[38;5;28mself\u001b[39m._batch_obs)\n\u001b[32m--> \u001b[39m\u001b[32m451\u001b[39m results = \u001b[38;5;28;43mtuple\u001b[39;49m\u001b[43m(\u001b[49m\n\u001b[32m    452\u001b[39m \u001b[43m    \u001b[49m\u001b[38;5;28;43mself\u001b[39;49m\u001b[43m.\u001b[49m\u001b[43msimulate_and_jacobian\u001b[49m\u001b[43m(\u001b[49m\n\u001b[32m    453\u001b[39m \u001b[43m        \u001b[49m\u001b[38;5;28;43mself\u001b[39;49m\u001b[43m.\u001b[49m\u001b[43mdynamic_wires_from_circuit\u001b[49m\u001b[43m(\u001b[49m\u001b[43mcircuit\u001b[49m\u001b[43m)\u001b[49m\u001b[43m,\u001b[49m\n\u001b[32m    454\u001b[39m \u001b[43m        \u001b[49m\u001b[38;5;28;43mself\u001b[39;49m\u001b[43m.\u001b[49m\u001b[43m_statevector\u001b[49m\u001b[43m,\u001b[49m\n\u001b[32m    455\u001b[39m \u001b[43m        \u001b[49m\u001b[43mbatch_obs\u001b[49m\u001b[43m=\u001b[49m\u001b[43mbatch_obs\u001b[49m\u001b[43m,\u001b[49m\n\u001b[32m    456\u001b[39m \u001b[43m        \u001b[49m\u001b[43mwire_map\u001b[49m\u001b[43m=\u001b[49m\u001b[38;5;28;43mself\u001b[39;49m\u001b[43m.\u001b[49m\u001b[43m_wire_map\u001b[49m\u001b[43m,\u001b[49m\n\u001b[32m    457\u001b[39m \u001b[43m    \u001b[49m\u001b[43m)\u001b[49m\n\u001b[32m    458\u001b[39m \u001b[43m    \u001b[49m\u001b[38;5;28;43;01mfor\u001b[39;49;00m\u001b[43m \u001b[49m\u001b[43mcircuit\u001b[49m\u001b[43m \u001b[49m\u001b[38;5;129;43;01min\u001b[39;49;00m\u001b[43m \u001b[49m\u001b[43mcircuits\u001b[49m\n\u001b[32m    459\u001b[39m \u001b[43m\u001b[49m\u001b[43m)\u001b[49m\n\u001b[32m    460\u001b[39m \u001b[38;5;28;01mreturn\u001b[39;00m \u001b[38;5;28mtuple\u001b[39m(\u001b[38;5;28mzip\u001b[39m(*results))\n",
      "\u001b[36mFile \u001b[39m\u001b[32m/global/common/software/m4138/ABCDisCo/lib/python3.12/site-packages/pennylane_lightning/lightning_base/lightning_base.py:452\u001b[39m, in \u001b[36m<genexpr>\u001b[39m\u001b[34m(.0)\u001b[39m\n\u001b[32m    441\u001b[39m \u001b[38;5;250m\u001b[39m\u001b[33;03m\"\"\"Compute the results and jacobians of circuits at the same time.\u001b[39;00m\n\u001b[32m    442\u001b[39m \n\u001b[32m    443\u001b[39m \u001b[33;03mArgs:\u001b[39;00m\n\u001b[32m   (...)\u001b[39m\u001b[32m    448\u001b[39m \u001b[33;03m    Tuple: A numeric result of the computation and the gradient.\u001b[39;00m\n\u001b[32m    449\u001b[39m \u001b[33;03m\"\"\"\u001b[39;00m\n\u001b[32m    450\u001b[39m batch_obs = execution_config.device_options.get(\u001b[33m\"\u001b[39m\u001b[33mbatch_obs\u001b[39m\u001b[33m\"\u001b[39m, \u001b[38;5;28mself\u001b[39m._batch_obs)\n\u001b[32m    451\u001b[39m results = \u001b[38;5;28mtuple\u001b[39m(\n\u001b[32m--> \u001b[39m\u001b[32m452\u001b[39m     \u001b[38;5;28;43mself\u001b[39;49m\u001b[43m.\u001b[49m\u001b[43msimulate_and_jacobian\u001b[49m\u001b[43m(\u001b[49m\n\u001b[32m    453\u001b[39m \u001b[43m        \u001b[49m\u001b[38;5;28;43mself\u001b[39;49m\u001b[43m.\u001b[49m\u001b[43mdynamic_wires_from_circuit\u001b[49m\u001b[43m(\u001b[49m\u001b[43mcircuit\u001b[49m\u001b[43m)\u001b[49m\u001b[43m,\u001b[49m\n\u001b[32m    454\u001b[39m \u001b[43m        \u001b[49m\u001b[38;5;28;43mself\u001b[39;49m\u001b[43m.\u001b[49m\u001b[43m_statevector\u001b[49m\u001b[43m,\u001b[49m\n\u001b[32m    455\u001b[39m \u001b[43m        \u001b[49m\u001b[43mbatch_obs\u001b[49m\u001b[43m=\u001b[49m\u001b[43mbatch_obs\u001b[49m\u001b[43m,\u001b[49m\n\u001b[32m    456\u001b[39m \u001b[43m        \u001b[49m\u001b[43mwire_map\u001b[49m\u001b[43m=\u001b[49m\u001b[38;5;28;43mself\u001b[39;49m\u001b[43m.\u001b[49m\u001b[43m_wire_map\u001b[49m\u001b[43m,\u001b[49m\n\u001b[32m    457\u001b[39m \u001b[43m    \u001b[49m\u001b[43m)\u001b[49m\n\u001b[32m    458\u001b[39m     \u001b[38;5;28;01mfor\u001b[39;00m circuit \u001b[38;5;129;01min\u001b[39;00m circuits\n\u001b[32m    459\u001b[39m )\n\u001b[32m    460\u001b[39m \u001b[38;5;28;01mreturn\u001b[39;00m \u001b[38;5;28mtuple\u001b[39m(\u001b[38;5;28mzip\u001b[39m(*results))\n",
      "\u001b[36mFile \u001b[39m\u001b[32m/global/common/software/m4138/ABCDisCo/lib/python3.12/site-packages/pennylane_lightning/lightning_base/lightning_base.py:342\u001b[39m, in \u001b[36mLightningBase.simulate_and_jacobian\u001b[39m\u001b[34m(self, circuit, state, batch_obs, wire_map)\u001b[39m\n\u001b[32m    340\u001b[39m res = \u001b[38;5;28mself\u001b[39m.simulate(circuit, state)\n\u001b[32m    341\u001b[39m \u001b[38;5;66;03m# pylint: disable=not-callable\u001b[39;00m\n\u001b[32m--> \u001b[39m\u001b[32m342\u001b[39m jac = \u001b[38;5;28;43mself\u001b[39;49m\u001b[43m.\u001b[49m\u001b[43mLightningAdjointJacobian\u001b[49m\u001b[43m(\u001b[49m\u001b[43mstate\u001b[49m\u001b[43m,\u001b[49m\u001b[43m \u001b[49m\u001b[43mbatch_obs\u001b[49m\u001b[43m=\u001b[49m\u001b[43mbatch_obs\u001b[49m\u001b[43m)\u001b[49m\u001b[43m.\u001b[49m\u001b[43mcalculate_jacobian\u001b[49m\u001b[43m(\u001b[49m\u001b[43mcircuit\u001b[49m\u001b[43m)\u001b[49m\n\u001b[32m    343\u001b[39m \u001b[38;5;28;01mreturn\u001b[39;00m res, jac\n",
      "\u001b[36mFile \u001b[39m\u001b[32m/global/common/software/m4138/ABCDisCo/lib/python3.12/site-packages/pennylane_lightning/lightning_gpu/_adjoint_jacobian.py:161\u001b[39m, in \u001b[36mLightningGPUAdjointJacobian.calculate_jacobian\u001b[39m\u001b[34m(self, tape)\u001b[39m\n\u001b[32m    154\u001b[39m     jac = \u001b[38;5;28mself\u001b[39m._jacobian_lightning.batched(\n\u001b[32m    155\u001b[39m         processed_data[\u001b[33m\"\u001b[39m\u001b[33mstate_vector\u001b[39m\u001b[33m\"\u001b[39m],\n\u001b[32m    156\u001b[39m         processed_data[\u001b[33m\"\u001b[39m\u001b[33mobs_serialized\u001b[39m\u001b[33m\"\u001b[39m],\n\u001b[32m    157\u001b[39m         processed_data[\u001b[33m\"\u001b[39m\u001b[33mops_serialized\u001b[39m\u001b[33m\"\u001b[39m],\n\u001b[32m    158\u001b[39m         trainable_params,\n\u001b[32m    159\u001b[39m     )\n\u001b[32m    160\u001b[39m \u001b[38;5;28;01melse\u001b[39;00m:\n\u001b[32m--> \u001b[39m\u001b[32m161\u001b[39m     jac = \u001b[38;5;28;43mself\u001b[39;49m\u001b[43m.\u001b[49m\u001b[43m_jacobian_lightning\u001b[49m\u001b[43m(\u001b[49m\n\u001b[32m    162\u001b[39m \u001b[43m        \u001b[49m\u001b[43mprocessed_data\u001b[49m\u001b[43m[\u001b[49m\u001b[33;43m\"\u001b[39;49m\u001b[33;43mstate_vector\u001b[39;49m\u001b[33;43m\"\u001b[39;49m\u001b[43m]\u001b[49m\u001b[43m,\u001b[49m\n\u001b[32m    163\u001b[39m \u001b[43m        \u001b[49m\u001b[43mprocessed_data\u001b[49m\u001b[43m[\u001b[49m\u001b[33;43m\"\u001b[39;49m\u001b[33;43mobs_serialized\u001b[39;49m\u001b[33;43m\"\u001b[39;49m\u001b[43m]\u001b[49m\u001b[43m,\u001b[49m\n\u001b[32m    164\u001b[39m \u001b[43m        \u001b[49m\u001b[43mprocessed_data\u001b[49m\u001b[43m[\u001b[49m\u001b[33;43m\"\u001b[39;49m\u001b[33;43mops_serialized\u001b[39;49m\u001b[33;43m\"\u001b[39;49m\u001b[43m]\u001b[49m\u001b[43m,\u001b[49m\n\u001b[32m    165\u001b[39m \u001b[43m        \u001b[49m\u001b[43mtrainable_params\u001b[49m\u001b[43m,\u001b[49m\n\u001b[32m    166\u001b[39m \u001b[43m    \u001b[49m\u001b[43m)\u001b[49m\n\u001b[32m    168\u001b[39m jac = np.array(jac)\n\u001b[32m    169\u001b[39m has_shape0 = \u001b[38;5;28mbool\u001b[39m(\u001b[38;5;28mlen\u001b[39m(jac))\n",
      "\u001b[31mKeyboardInterrupt\u001b[39m: "
     ]
    }
   ],
   "source": [
    "\n",
    "def train_one_epoch(model: nn.Module, loader: DataLoader, optimizer: torch.optim.Optimizer) -> Dict[str, float]:\n",
    "    model.train()\n",
    "    agg: Dict[str, list[float]] = {}\n",
    "    for batch in tqdm(loader, leave=False, desc=\"train\"):\n",
    "        optimizer.zero_grad(set_to_none=True)\n",
    "        loss, metrics = compute_losses(model, batch)\n",
    "        loss.backward()\n",
    "        optimizer.step()\n",
    "        for key, value in metrics.items():\n",
    "            agg.setdefault(key, []).append(value)\n",
    "    return {key: float(np.mean(values)) for key, values in agg.items()}\n",
    "\n",
    "\n",
    "def evaluate(model: nn.Module, loader: DataLoader) -> Tuple[np.ndarray, np.ndarray, np.ndarray, np.ndarray, Dict[str, float]]:\n",
    "    model.eval()\n",
    "    scores, labels_all, weights_all, masses_all = [], [], [], []\n",
    "    agg: Dict[str, list[float]] = {}\n",
    "    with torch.no_grad():\n",
    "        for batch in tqdm(loader, leave=False, desc=\"eval\"):\n",
    "            loss, metrics = compute_losses(model, batch)\n",
    "            features, labels, weights, masses = batch\n",
    "            features = features.to(DEVICE)\n",
    "            _, score = model(features)\n",
    "            scores.append(score.cpu().numpy())\n",
    "            labels_all.append(labels.numpy())\n",
    "            weights_all.append(weights.numpy())\n",
    "            masses_all.append(masses.numpy())\n",
    "            agg.setdefault(\"loss\", []).append(float(loss.detach().cpu()))\n",
    "            for key, value in metrics.items():\n",
    "                agg.setdefault(key, []).append(value)\n",
    "    scores = np.concatenate(scores)\n",
    "    labels_all = np.concatenate(labels_all)\n",
    "    weights_all = np.concatenate(weights_all)\n",
    "    masses_all = np.concatenate(masses_all)\n",
    "    metrics_mean = {key: float(np.mean(values)) for key, values in agg.items()}\n",
    "    return scores, labels_all, weights_all, masses_all, metrics_mean\n",
    "\n",
    "\n",
    "history = []\n",
    "for epoch in range(EPOCHS):\n",
    "    train_metrics = train_one_epoch(model, train_loader, optimizer)\n",
    "    s_val, y_val, w_val, m_val, val_metrics = evaluate(model, val_loader)\n",
    "    fpr, tpr, _ = roc_curve(y_val, s_val, sample_weight=w_val)\n",
    "    roc_auc = auc(fpr, tpr)\n",
    "    record = {\n",
    "        \"epoch\": epoch,\n",
    "        \"roc_auc\": roc_auc,\n",
    "        **{f\"train_{k}\": v for k, v in train_metrics.items()},\n",
    "        **{f\"val_{k}\": v for k, v in val_metrics.items()},\n",
    "    }\n",
    "    history.append(record)\n",
    "    print(\n",
    "        f\"Epoch {epoch:03d} | AUC={roc_auc:.3f} | \"\n",
    "        f\"train_loss={train_metrics['loss_cls']:.3f} | val_loss={val_metrics['loss_cls']:.3f}\"\n",
    "    )\n",
    "\n",
    "history_df = pd.DataFrame(history)\n",
    "history_df.tail()\n"
   ]
  },
  {
   "cell_type": "markdown",
   "id": "4f46a892",
   "metadata": {},
   "source": [
    "\n",
    "### Training diagnostics\n",
    "\n",
    "We track the classification loss and the distance-correlation penalty to verify convergence and decorrelation strength.\n"
   ]
  },
  {
   "cell_type": "code",
   "execution_count": 8,
   "id": "cec09beb",
   "metadata": {},
   "outputs": [
    {
     "ename": "NameError",
     "evalue": "name 'history_df' is not defined",
     "output_type": "error",
     "traceback": [
      "\u001b[31m---------------------------------------------------------------------------\u001b[39m",
      "\u001b[31mNameError\u001b[39m                                 Traceback (most recent call last)",
      "\u001b[36mCell\u001b[39m\u001b[36m \u001b[39m\u001b[32mIn[8]\u001b[39m\u001b[32m, line 2\u001b[39m\n\u001b[32m      1\u001b[39m fig, ax = plt.subplots(\u001b[32m1\u001b[39m, \u001b[32m2\u001b[39m, figsize=(\u001b[32m14\u001b[39m, \u001b[32m5\u001b[39m))\n\u001b[32m----> \u001b[39m\u001b[32m2\u001b[39m ax[\u001b[32m0\u001b[39m].plot(\u001b[43mhistory_df\u001b[49m[\u001b[33m\"\u001b[39m\u001b[33mepoch\u001b[39m\u001b[33m\"\u001b[39m], history_df[\u001b[33m\"\u001b[39m\u001b[33mtrain_loss_cls\u001b[39m\u001b[33m\"\u001b[39m], label=\u001b[33m\"\u001b[39m\u001b[33mtrain\u001b[39m\u001b[33m\"\u001b[39m)\n\u001b[32m      3\u001b[39m ax[\u001b[32m0\u001b[39m].plot(history_df[\u001b[33m\"\u001b[39m\u001b[33mepoch\u001b[39m\u001b[33m\"\u001b[39m], history_df[\u001b[33m\"\u001b[39m\u001b[33mval_loss_cls\u001b[39m\u001b[33m\"\u001b[39m], label=\u001b[33m\"\u001b[39m\u001b[33mval\u001b[39m\u001b[33m\"\u001b[39m)\n\u001b[32m      4\u001b[39m ax[\u001b[32m0\u001b[39m].set_xlabel(\u001b[33m\"\u001b[39m\u001b[33mEpoch\u001b[39m\u001b[33m\"\u001b[39m)\n",
      "\u001b[31mNameError\u001b[39m: name 'history_df' is not defined"
     ]
    },
    {
     "data": {
      "image/png": "[encoded data removed]",
      "text/plain": [
       "<Figure size 1400x500 with 2 Axes>"
      ]
     },
     "metadata": {},
     "output_type": "display_data"
    }
   ],
   "source": [
    "\n",
    "fig, ax = plt.subplots(1, 2, figsize=(14, 5))\n",
    "ax[0].plot(history_df[\"epoch\"], history_df[\"train_loss_cls\"], label=\"train\")\n",
    "ax[0].plot(history_df[\"epoch\"], history_df[\"val_loss_cls\"], label=\"val\")\n",
    "ax[0].set_xlabel(\"Epoch\")\n",
    "ax[0].set_ylabel(\"Binary cross-entropy\")\n",
    "ax[0].set_title(\"Classification loss\")\n",
    "ax[0].legend()\n",
    "\n",
    "if \"train_dCorr_s_m\" in history_df and \"val_dCorr_s_m\" in history_df:\n",
    "    ax[1].plot(history_df[\"epoch\"], history_df[\"train_dCorr_s_m\"], label=\"train\")\n",
    "    ax[1].plot(history_df[\"epoch\"], history_df[\"val_dCorr_s_m\"], label=\"val\")\n",
    "    ax[1].set_ylabel(\"Distance correlation\")\n",
    "else:\n",
    "    ax[1].plot(history_df[\"epoch\"], history_df[\"train_loss_cls\"], color=\"tab:gray\")\n",
    "    ax[1].set_ylabel(\"Placeholder (enable LAMBDA_MASS to view decorrelation)\")\n",
    "ax[1].set_xlabel(\"Epoch\")\n",
    "ax[1].set_title(\"Score-mass decorrelation\")\n",
    "plt.tight_layout()\n",
    "plt.show()\n"
   ]
  },
  {
   "cell_type": "markdown",
   "id": "483491cb",
   "metadata": {},
   "source": [
    "\n",
    "## 6. Evaluation (`evaluation.py` lines 1-70)\n",
    "\n",
    "We reproduce the single-score diagnostics: ROC curves, background mass sculpting, and the Jensen-Shannon divergence versus background rejection figure of merit used in the paper.\n"
   ]
  },
  {
   "cell_type": "code",
   "execution_count": null,
   "id": "ddd85125",
   "metadata": {},
   "outputs": [
    {
     "name": "stderr",
     "output_type": "stream",
     "text": [
      "                                                     \r"
     ]
    },
    {
     "name": "stdout",
     "output_type": "stream",
     "text": [
      "Test AUC = 0.881\n",
      "Background distance-correlation(score, mass) = 0.0062\n",
      "JSDvsR 10 0.099992\n",
      "JSDvsR 30 0.30001602\n",
      "JSDvsR 50 0.5\n"
     ]
    },
    {
     "data": {
      "image/png": "[encoded data removed]",
      "text/plain": [
       "<Figure size 1800x500 with 3 Axes>"
      ]
     },
     "metadata": {},
     "output_type": "display_data"
    }
   ],
   "source": [
    "from importlib import reload\n",
    "import evaluation\n",
    "reload(evaluation)\n",
    "from evaluation import JSDvsR\n",
    "\n",
    "s_test, y_test, w_test, m_test, test_metrics = evaluate(model, test_loader)\n",
    "\n",
    "fpr, tpr, _ = roc_curve(y_test, s_test, sample_weight=w_test)\n",
    "roc_auc = auc(fpr, tpr)\n",
    "\n",
    "# Background-only correlation for reporting\n",
    "background = y_test < 0.5\n",
    "if background.any():\n",
    "    d_test = distance_corr_safe(\n",
    "        torch.as_tensor(s_test[background]),\n",
    "        torch.as_tensor(m_test[background]),\n",
    "        torch.ones_like(torch.as_tensor(m_test[background])),\n",
    "    ).item()\n",
    "else:\n",
    "    d_test = float(\"nan\")\n",
    "\n",
    "print(f\"Test AUC = {roc_auc:.3f}\")\n",
    "print(f\"Background distance-correlation(score, mass) = {d_test:.4f}\")\n",
    "\n",
    "fig, axes = plt.subplots(1, 3, figsize=(18, 5))\n",
    "\n",
    "axes[0].plot(fpr, tpr, label=f\"ROC (AUC={roc_auc:.3f})\")\n",
    "axes[0].set_xlabel(\"Background efficiency\")\n",
    "axes[0].set_ylabel(\"Signal efficiency\")\n",
    "axes[0].set_title(\"ROC curve\")\n",
    "axes[0].legend()\n",
    "\n",
    "nbins = 40\n",
    "mass_range = (m_test.min(), m_test.max())\n",
    "axes[1].hist(\n",
    "    m_test[background], bins=nbins, range=mass_range, weights=w_test[background],\n",
    "    histtype=\"step\", label=\"All background\", linewidth=2\n",
    ")\n",
    "cut = np.quantile(s_test[y_test > 0.5], 0.7)  # 30% background efficiency target\n",
    "sel = background & (s_test > cut)\n",
    "axes[1].hist(\n",
    "    m_test[sel], bins=nbins, range=mass_range, weights=w_test[sel],\n",
    "    histtype=\"stepfilled\", alpha=0.4, label=\"Background above score cut\"\n",
    ")\n",
    "axes[1].set_xlabel(\"Jet mass [GeV]\")\n",
    "axes[1].set_ylabel(\"Weighted events\")\n",
    "axes[1].set_title(\"Mass sculpting check\")\n",
    "axes[1].legend()\n",
    "\n",
    "points = []\n",
    "for sigeff in (10, 30, 50):\n",
    "    rej, inv_jsd = JSDvsR(\n",
    "        sigscore=s_test[y_test > 0.5],\n",
    "        bgscore=s_test[background],\n",
    "        bgmass=m_test[background],\n",
    "        sigweights=w_test[y_test > 0.5],\n",
    "        bgweights=w_test[background],\n",
    "        sigeff=sigeff,\n",
    "        nbins=nbins,\n",
    "        minmass=mass_range[0],\n",
    "        maxmass=mass_range[1],\n",
    "    )\n",
    "    points.append((rej, inv_jsd, sigeff))\n",
    "\n",
    "for rej, inv_jsd, eff in points:\n",
    "    axes[2].scatter(rej, inv_jsd, label=f\"Sig eff {eff}%\")\n",
    "axes[2].set_xlabel(\"Background rejection (1 / ε_B)\")\n",
    "axes[2].set_ylabel(\"1 / JSD\")\n",
    "axes[2].set_title(\"JSD vs. background rejection\")\n",
    "axes[2].legend()\n",
    "axes[2].set_xscale(\"log\")\n",
    "\n",
    "plt.tight_layout()\n",
    "plt.show()\n"
   ]
  },
  {
   "cell_type": "markdown",
   "id": "bf3ab8b0",
   "metadata": {},
   "source": [
    "\n",
    "## 7. Persist artefacts\n",
    "\n",
    "Save inference scores and the trained model weights for downstream ABCDisCo or `pyhf` studies.\n"
   ]
  },
  {
   "cell_type": "code",
   "execution_count": null,
   "id": "dd407c18",
   "metadata": {},
   "outputs": [
    {
     "ename": "ImportError",
     "evalue": "Unable to find a usable engine; tried using: 'pyarrow', 'fastparquet'.\nA suitable version of pyarrow or fastparquet is required for parquet support.\nTrying to import the above resulted in these errors:\n - Missing optional dependency 'pyarrow'. pyarrow is required for parquet support. Use pip or conda to install pyarrow.\n - Missing optional dependency 'fastparquet'. fastparquet is required for parquet support. Use pip or conda to install fastparquet.",
     "output_type": "error",
     "traceback": [
      "\u001b[31m---------------------------------------------------------------------------\u001b[39m",
      "\u001b[31mImportError\u001b[39m                               Traceback (most recent call last)",
      "\u001b[36mCell\u001b[39m\u001b[36m \u001b[39m\u001b[32mIn[33]\u001b[39m\u001b[32m, line 11\u001b[39m\n\u001b[32m      8\u001b[39m results_path = Path(\u001b[33m\"\u001b[39m\u001b[33mDNN_abcdisco_single_disco_scores.parquet\u001b[39m\u001b[33m\"\u001b[39m)\n\u001b[32m      9\u001b[39m weights_path = Path(\u001b[33m\"\u001b[39m\u001b[33mDNN_abcdisco_single_disco_model.pt\u001b[39m\u001b[33m\"\u001b[39m)\n\u001b[32m---> \u001b[39m\u001b[32m11\u001b[39m \u001b[43mresults_df\u001b[49m\u001b[43m.\u001b[49m\u001b[43mto_parquet\u001b[49m\u001b[43m(\u001b[49m\u001b[43mresults_path\u001b[49m\u001b[43m,\u001b[49m\u001b[43m \u001b[49m\u001b[43mindex\u001b[49m\u001b[43m=\u001b[49m\u001b[38;5;28;43;01mFalse\u001b[39;49;00m\u001b[43m)\u001b[49m\n\u001b[32m     12\u001b[39m torch.save(model.state_dict(), weights_path)\n\u001b[32m     14\u001b[39m results_path, weights_path\n",
      "\u001b[36mFile \u001b[39m\u001b[32m/global/common/software/m4138/ABCDisCo/lib/python3.12/site-packages/pandas/util/_decorators.py:333\u001b[39m, in \u001b[36mdeprecate_nonkeyword_arguments.<locals>.decorate.<locals>.wrapper\u001b[39m\u001b[34m(*args, **kwargs)\u001b[39m\n\u001b[32m    327\u001b[39m \u001b[38;5;28;01mif\u001b[39;00m \u001b[38;5;28mlen\u001b[39m(args) > num_allow_args:\n\u001b[32m    328\u001b[39m     warnings.warn(\n\u001b[32m    329\u001b[39m         msg.format(arguments=_format_argument_list(allow_args)),\n\u001b[32m    330\u001b[39m         \u001b[38;5;167;01mFutureWarning\u001b[39;00m,\n\u001b[32m    331\u001b[39m         stacklevel=find_stack_level(),\n\u001b[32m    332\u001b[39m     )\n\u001b[32m--> \u001b[39m\u001b[32m333\u001b[39m \u001b[38;5;28;01mreturn\u001b[39;00m \u001b[43mfunc\u001b[49m\u001b[43m(\u001b[49m\u001b[43m*\u001b[49m\u001b[43margs\u001b[49m\u001b[43m,\u001b[49m\u001b[43m \u001b[49m\u001b[43m*\u001b[49m\u001b[43m*\u001b[49m\u001b[43mkwargs\u001b[49m\u001b[43m)\u001b[49m\n",
      "\u001b[36mFile \u001b[39m\u001b[32m/global/common/software/m4138/ABCDisCo/lib/python3.12/site-packages/pandas/core/frame.py:3124\u001b[39m, in \u001b[36mDataFrame.to_parquet\u001b[39m\u001b[34m(self, path, engine, compression, index, partition_cols, storage_options, **kwargs)\u001b[39m\n\u001b[32m   3043\u001b[39m \u001b[38;5;250m\u001b[39m\u001b[33;03m\"\"\"\u001b[39;00m\n\u001b[32m   3044\u001b[39m \u001b[33;03mWrite a DataFrame to the binary parquet format.\u001b[39;00m\n\u001b[32m   3045\u001b[39m \n\u001b[32m   (...)\u001b[39m\u001b[32m   3120\u001b[39m \u001b[33;03m>>> content = f.read()\u001b[39;00m\n\u001b[32m   3121\u001b[39m \u001b[33;03m\"\"\"\u001b[39;00m\n\u001b[32m   3122\u001b[39m \u001b[38;5;28;01mfrom\u001b[39;00m\u001b[38;5;250m \u001b[39m\u001b[34;01mpandas\u001b[39;00m\u001b[34;01m.\u001b[39;00m\u001b[34;01mio\u001b[39;00m\u001b[34;01m.\u001b[39;00m\u001b[34;01mparquet\u001b[39;00m\u001b[38;5;250m \u001b[39m\u001b[38;5;28;01mimport\u001b[39;00m to_parquet\n\u001b[32m-> \u001b[39m\u001b[32m3124\u001b[39m \u001b[38;5;28;01mreturn\u001b[39;00m \u001b[43mto_parquet\u001b[49m\u001b[43m(\u001b[49m\n\u001b[32m   3125\u001b[39m \u001b[43m    \u001b[49m\u001b[38;5;28;43mself\u001b[39;49m\u001b[43m,\u001b[49m\n\u001b[32m   3126\u001b[39m \u001b[43m    \u001b[49m\u001b[43mpath\u001b[49m\u001b[43m,\u001b[49m\n\u001b[32m   3127\u001b[39m \u001b[43m    \u001b[49m\u001b[43mengine\u001b[49m\u001b[43m,\u001b[49m\n\u001b[32m   3128\u001b[39m \u001b[43m    \u001b[49m\u001b[43mcompression\u001b[49m\u001b[43m=\u001b[49m\u001b[43mcompression\u001b[49m\u001b[43m,\u001b[49m\n\u001b[32m   3129\u001b[39m \u001b[43m    \u001b[49m\u001b[43mindex\u001b[49m\u001b[43m=\u001b[49m\u001b[43mindex\u001b[49m\u001b[43m,\u001b[49m\n\u001b[32m   3130\u001b[39m \u001b[43m    \u001b[49m\u001b[43mpartition_cols\u001b[49m\u001b[43m=\u001b[49m\u001b[43mpartition_cols\u001b[49m\u001b[43m,\u001b[49m\n\u001b[32m   3131\u001b[39m \u001b[43m    \u001b[49m\u001b[43mstorage_options\u001b[49m\u001b[43m=\u001b[49m\u001b[43mstorage_options\u001b[49m\u001b[43m,\u001b[49m\n\u001b[32m   3132\u001b[39m \u001b[43m    \u001b[49m\u001b[43m*\u001b[49m\u001b[43m*\u001b[49m\u001b[43mkwargs\u001b[49m\u001b[43m,\u001b[49m\n\u001b[32m   3133\u001b[39m \u001b[43m\u001b[49m\u001b[43m)\u001b[49m\n",
      "\u001b[36mFile \u001b[39m\u001b[32m/global/common/software/m4138/ABCDisCo/lib/python3.12/site-packages/pandas/io/parquet.py:478\u001b[39m, in \u001b[36mto_parquet\u001b[39m\u001b[34m(df, path, engine, compression, index, storage_options, partition_cols, filesystem, **kwargs)\u001b[39m\n\u001b[32m    476\u001b[39m \u001b[38;5;28;01mif\u001b[39;00m \u001b[38;5;28misinstance\u001b[39m(partition_cols, \u001b[38;5;28mstr\u001b[39m):\n\u001b[32m    477\u001b[39m     partition_cols = [partition_cols]\n\u001b[32m--> \u001b[39m\u001b[32m478\u001b[39m impl = \u001b[43mget_engine\u001b[49m\u001b[43m(\u001b[49m\u001b[43mengine\u001b[49m\u001b[43m)\u001b[49m\n\u001b[32m    480\u001b[39m path_or_buf: FilePath | WriteBuffer[\u001b[38;5;28mbytes\u001b[39m] = io.BytesIO() \u001b[38;5;28;01mif\u001b[39;00m path \u001b[38;5;129;01mis\u001b[39;00m \u001b[38;5;28;01mNone\u001b[39;00m \u001b[38;5;28;01melse\u001b[39;00m path\n\u001b[32m    482\u001b[39m impl.write(\n\u001b[32m    483\u001b[39m     df,\n\u001b[32m    484\u001b[39m     path_or_buf,\n\u001b[32m   (...)\u001b[39m\u001b[32m    490\u001b[39m     **kwargs,\n\u001b[32m    491\u001b[39m )\n",
      "\u001b[36mFile \u001b[39m\u001b[32m/global/common/software/m4138/ABCDisCo/lib/python3.12/site-packages/pandas/io/parquet.py:68\u001b[39m, in \u001b[36mget_engine\u001b[39m\u001b[34m(engine)\u001b[39m\n\u001b[32m     65\u001b[39m         \u001b[38;5;28;01mexcept\u001b[39;00m \u001b[38;5;167;01mImportError\u001b[39;00m \u001b[38;5;28;01mas\u001b[39;00m err:\n\u001b[32m     66\u001b[39m             error_msgs += \u001b[33m\"\u001b[39m\u001b[38;5;130;01m\\n\u001b[39;00m\u001b[33m - \u001b[39m\u001b[33m\"\u001b[39m + \u001b[38;5;28mstr\u001b[39m(err)\n\u001b[32m---> \u001b[39m\u001b[32m68\u001b[39m     \u001b[38;5;28;01mraise\u001b[39;00m \u001b[38;5;167;01mImportError\u001b[39;00m(\n\u001b[32m     69\u001b[39m         \u001b[33m\"\u001b[39m\u001b[33mUnable to find a usable engine; \u001b[39m\u001b[33m\"\u001b[39m\n\u001b[32m     70\u001b[39m         \u001b[33m\"\u001b[39m\u001b[33mtried using: \u001b[39m\u001b[33m'\u001b[39m\u001b[33mpyarrow\u001b[39m\u001b[33m'\u001b[39m\u001b[33m, \u001b[39m\u001b[33m'\u001b[39m\u001b[33mfastparquet\u001b[39m\u001b[33m'\u001b[39m\u001b[33m.\u001b[39m\u001b[38;5;130;01m\\n\u001b[39;00m\u001b[33m\"\u001b[39m\n\u001b[32m     71\u001b[39m         \u001b[33m\"\u001b[39m\u001b[33mA suitable version of \u001b[39m\u001b[33m\"\u001b[39m\n\u001b[32m     72\u001b[39m         \u001b[33m\"\u001b[39m\u001b[33mpyarrow or fastparquet is required for parquet \u001b[39m\u001b[33m\"\u001b[39m\n\u001b[32m     73\u001b[39m         \u001b[33m\"\u001b[39m\u001b[33msupport.\u001b[39m\u001b[38;5;130;01m\\n\u001b[39;00m\u001b[33m\"\u001b[39m\n\u001b[32m     74\u001b[39m         \u001b[33m\"\u001b[39m\u001b[33mTrying to import the above resulted in these errors:\u001b[39m\u001b[33m\"\u001b[39m\n\u001b[32m     75\u001b[39m         \u001b[33mf\u001b[39m\u001b[33m\"\u001b[39m\u001b[38;5;132;01m{\u001b[39;00merror_msgs\u001b[38;5;132;01m}\u001b[39;00m\u001b[33m\"\u001b[39m\n\u001b[32m     76\u001b[39m     )\n\u001b[32m     78\u001b[39m \u001b[38;5;28;01mif\u001b[39;00m engine == \u001b[33m\"\u001b[39m\u001b[33mpyarrow\u001b[39m\u001b[33m\"\u001b[39m:\n\u001b[32m     79\u001b[39m     \u001b[38;5;28;01mreturn\u001b[39;00m PyArrowImpl()\n",
      "\u001b[31mImportError\u001b[39m: Unable to find a usable engine; tried using: 'pyarrow', 'fastparquet'.\nA suitable version of pyarrow or fastparquet is required for parquet support.\nTrying to import the above resulted in these errors:\n - Missing optional dependency 'pyarrow'. pyarrow is required for parquet support. Use pip or conda to install pyarrow.\n - Missing optional dependency 'fastparquet'. fastparquet is required for parquet support. Use pip or conda to install fastparquet."
     ]
    }
   ],
   "source": [
    "\n",
    "results_df = pd.DataFrame({\n",
    "    \"score\": s_test,\n",
    "    \"label\": y_test,\n",
    "    \"weight\": w_test,\n",
    "    \"mass\": m_test,\n",
    "})\n",
    "\n",
    "results_path = Path(\"QML_smallSample_abcdisco_single_disco_scores.parquet\")\n",
    "weights_path = Path(\"QML_smallSample_abcdisco_single_disco_model.pt\")\n",
    "\n",
    "results_df.to_parquet(results_path, index=False)\n",
    "torch.save(model.state_dict(), weights_path)\n",
    "\n",
    "results_path, weights_path\n"
   ]
  },
  {
   "cell_type": "markdown",
   "id": "1811ab61",
   "metadata": {},
   "source": [
    "\n",
    "## 8. Extending to Double-DisCo & QML studies\n",
    "\n",
    "- **Recovering the paper-level numbers**: set `FULL_DATASET = True`, increase `EPOCHS` to 200, and sweep `LAMBDA_MASS` in the range 50-400 as in the reference scans.\n",
    "- **Quantum experiments**: switch `BACKEND = \"qml\"`, tune `N_QUBITS`/`QML_LAYERS`, and initialise the PennyLane device with `qml.seed(SEED)` for reproducibility.\n",
    "- **Transition to Double-DisCo**: after validating this notebook, open `ABCDisCo_tutorial.ipynb` for the two-network variant and reuse the saved preprocessing steps to initialise the dual heads.\n"
   ]
  }
 ],
 "metadata": {
  "kernelspec": {
   "display_name": "ABCDisCo",
   "language": "python",
   "name": "abcdisco"
  },
  "language_info": {
   "codemirror_mode": {
    "name": "ipython",
    "version": 3
   },
   "file_extension": ".py",
   "mimetype": "text/x-python",
   "name": "python",
   "nbconvert_exporter": "python",
   "pygments_lexer": "ipython3",
   "version": "3.12.12"
  }
 },
 "nbformat": 4,
 "nbformat_minor": 5
}
